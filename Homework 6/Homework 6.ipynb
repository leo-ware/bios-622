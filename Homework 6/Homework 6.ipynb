{
 "cells": [
  {
   "cell_type": "code",
   "execution_count": 1,
   "metadata": {
    "vscode": {
     "languageId": "r"
    }
   },
   "outputs": [],
   "source": [
    "library(survival)\n",
    "library(SurvRegCensCov)"
   ]
  },
  {
   "cell_type": "markdown",
   "metadata": {},
   "source": [
    "**(1) The data of time to death ($T_1,...,T_n$) are given as follows:**\n",
    "\n",
    "Steroid: 1, 1+(3), 4+, 5, 7, 8, 10, 10+, 12+, 16+(3)\n",
    "Control: 1+, 2(3), 3(2), 3+, 5+(2), 16+(6)"
   ]
  },
  {
   "cell_type": "code",
   "execution_count": 2,
   "metadata": {
    "vscode": {
     "languageId": "r"
    }
   },
   "outputs": [
    {
     "data": {
      "text/plain": [
       " [1]  1   1+  1+  1+  4+  5   7   8  10  10+ 12+ 16+ 16+ 16+  1+  2   2   2   3 \n",
       "[20]  3   3+  5+  5+ 16+ 16+ 16+ 16+ 16+ 16+"
      ]
     },
     "metadata": {},
     "output_type": "display_data"
    }
   ],
   "source": [
    "data = data.frame(\n",
    "    time   = c(1, rep(1, 3), 4, 5, 7, 8, 10, 10, 12, rep(16, 3), 1, rep(2, 3), 3, 3, 3, 5, 5, rep(16, 6)),\n",
    "    status = c(1, rep(0, 3), 0, 1, 1, 1,  1,  0,  0, rep( 0, 3), 0, rep(1, 3), 1, 1, 0, 0, 0, rep(0, 6)),\n",
    "    treat = c(rep(1, 14), rep(0, 15))\n",
    ")\n",
    "\n",
    "Surv(data$time, data$status)"
   ]
  },
  {
   "cell_type": "markdown",
   "metadata": {},
   "source": [
    "**(a) This homework is based on Weibull distribution assumption as follows. Let $Z=1$ for the steroid and $Z = 0$ for the control. Assume that survival time $T|Z$ is Weibull with scale parameter $\\lambda_Z$ and shape parameter $\\gamma$ (exponential if $\\gamma = 1$) and the survival function is**\n",
    "\n",
    "$$\n",
    "S_Z(t) = exp\\{-\\lambda_Z t^{\\gamma}\\}\n",
    "$$\n",
    "**where**\n",
    "$$\n",
    "\\lambda_Z = \\frac{1}{\\exp\\{(\\beta_0 + \\beta_1 Z)\\gamma\\}} = \\exp\\{(-\\beta_0 - \\beta_1 Z)\\gamma\\}\n",
    "$$\n",
    "\n",
    "\n",
    "**Write down the corresponding hazard function $h_Z(t)$**"
   ]
  },
  {
   "cell_type": "markdown",
   "metadata": {},
   "source": [
    "We can get the CDF,\n",
    "\n",
    "$$\n",
    "F_Z(t) = 1 - S(t)\n",
    "$$\n",
    "\n",
    "$$\n",
    "F_Z(t) = 1 - \\exp(-\\lambda_Z t^{\\gamma})\n",
    "$$\n",
    "\n",
    "Differentiate for the pdf,\n",
    "\n",
    "$$\n",
    "f_Z(t) = {d\\over dt}F(t)\n",
    "$$\n",
    "\n",
    "$$\n",
    "f_Z(t) = {d\\over dt}(1 - \\exp(-\\lambda_Z t^{\\gamma}))\n",
    "$$\n",
    "\n",
    "$$\n",
    "f_Z(t) = - \\exp(-\\lambda_Z t^{\\gamma})(-\\lambda_Z \\gamma t^{\\gamma - 1})\n",
    "$$\n",
    "\n",
    "$$\n",
    "f_Z(t) = \\lambda_Z \\gamma t^{\\gamma - 1}\\exp(-\\lambda_Z t^{\\gamma})\n",
    "$$\n",
    "\n",
    "The hazard function is given by,\n",
    "\n",
    "$$\n",
    "h_Z(t) = {f(t) \\over S(t)}\n",
    "$$\n",
    "\n",
    "$$\n",
    "h_Z(t) = {\\lambda_Z \\gamma t^{\\gamma - 1}\\exp(-\\lambda_Z t^{\\gamma}) \\over exp\\{-\\lambda_Z t^{\\gamma}\\}}\n",
    "$$\n",
    "\n",
    "$$\n",
    "h_Z(t) = \\lambda_Z \\gamma t^{\\gamma - 1}\n",
    "$$"
   ]
  },
  {
   "cell_type": "markdown",
   "metadata": {},
   "source": [
    "**(b) Write down the likelihood function on $\\beta_0$, $\\beta_1$ and $\\gamma$;  Explain briefly how you might find the maximum-likelihood estimates of $\\beta_0$, $\\beta_1$ and $\\gamma$ (do not attempt to find them)**"
   ]
  },
  {
   "cell_type": "markdown",
   "metadata": {},
   "source": [
    "We have that the $T_1...T_n$ denote the time associated with each unit. Let $C_i$ be an indicator variable for whether the ith unit is censored. Let $Z_i$ be an indicator variable for whether the ith unit is in the treatment group\n",
    "\n",
    "Then, the likelihood is given by,\n",
    "\n",
    "$$\n",
    "L(\\lambda_Z, \\gamma) = \\prod_{i = n}^n S_{Z_i}(T_i)^{C_i}f_{Z_i}(T_i)^{1 - C_i}\n",
    "$$\n",
    "\n",
    "Substitute for $f$ and $S$.\n",
    "\n",
    "$$\n",
    "f_Z(t) = \\lambda_Z \\gamma t^{\\gamma - 1}\\exp(-\\lambda_Z t^{\\gamma})\n",
    "$$\n",
    "\n",
    "$$\n",
    "S_Z(t) = \\exp(-\\lambda_Z t^{\\gamma})\n",
    "$$\n",
    "\n",
    "$$\n",
    "L(\\lambda_Z, \\gamma) = \\prod_{i = n}^n (\\exp(-\\lambda_{Z_i} T_i^{\\gamma}))^{C_i} (\\lambda_{Z_i} \\gamma T_i^{\\gamma - 1}\\exp(-\\lambda_{Z_i} T_i^{\\gamma}))^{1 - C_i}\n",
    "$$\n",
    "\n",
    "Simplify,\n",
    "\n",
    "$$\n",
    "L(\\lambda_Z, \\gamma) = \\prod_{i = n}^n\\exp(-\\lambda_{Z_i} T_i^{\\gamma})(\\lambda_{Z_i} \\gamma T_i^{\\gamma - 1})^{1 - C_i}\n",
    "$$\n",
    "\n",
    "We have that,\n",
    "\n",
    "$$\n",
    "\\lambda_Z = \\exp((-\\beta_0 - \\beta_1 Z)\\gamma)\n",
    "$$\n",
    "\n",
    "So,\n",
    "\n",
    "$$\n",
    "L(\\beta_0, \\beta_1, \\gamma) = \\prod_{i = n}^n\\exp(-\\exp((-\\beta_0 - \\beta_1 Z_i)\\gamma) T_i^{\\gamma})(\\exp((-\\beta_0 - \\beta_1 Z_i)\\gamma) \\gamma T_i^{\\gamma - 1})^{1 - C_i}\n",
    "$$"
   ]
  },
  {
   "cell_type": "markdown",
   "metadata": {},
   "source": [
    "To get the maximum likelihood estimates for $\\beta_0$, $\\beta_1$, $\\gamma$, we would log this, and take the derivative. Then, we would set it to zero and solve for the parameters in terms of the data. Alternatively, we could fix the data and use gradient descent to fit the parameters."
   ]
  },
  {
   "cell_type": "markdown",
   "metadata": {},
   "source": [
    "**(c) Find estimates of $\\beta_0$, $\\beta_1$ and $\\gamma$ using proc 'lifereg' in SAS (or 'survreg' in R). What is the p-value on $\\beta_1$? Please state the null and alternative hypotheses. Is there a big difference on p-value, in comparison with log-rank test in (a)?**"
   ]
  },
  {
   "cell_type": "code",
   "execution_count": 3,
   "metadata": {
    "vscode": {
     "languageId": "r"
    }
   },
   "outputs": [
    {
     "data": {
      "text/plain": [
       "Call:\n",
       "survdiff(formula = Surv(time, status) ~ treat, data = data)\n",
       "\n",
       "         N Observed Expected (O-E)^2/E (O-E)^2/V\n",
       "treat=0 15        5     5.18   0.00596    0.0129\n",
       "treat=1 14        5     4.82   0.00639    0.0129\n",
       "\n",
       " Chisq= 0  on 1 degrees of freedom, p= 0.9 "
      ]
     },
     "metadata": {},
     "output_type": "display_data"
    }
   ],
   "source": [
    "log_rank <- survdiff(Surv(time, status) ~ treat, data = data)\n",
    "log_rank"
   ]
  },
  {
   "cell_type": "markdown",
   "metadata": {},
   "source": [
    "The log rank test is testing $H_0: S(t | T = 0) = S(t | T = 1)$ vs $H_1: S(t | T = 0) = S(t | T = 1)$ under the assumption that $S(t | T = 0) = cS(t | T = 1)$ for some $c \\in \\mathbb{R}$. It gets a $p = 0.9$, we we can't detect a different in the survival functions between treatment and control."
   ]
  },
  {
   "cell_type": "code",
   "execution_count": 4,
   "metadata": {
    "vscode": {
     "languageId": "r"
    }
   },
   "outputs": [
    {
     "data": {
      "text/plain": [
       "\n",
       "Call:\n",
       "survreg(formula = Surv(time, status) ~ treat, data = data, dist = \"weibull\")\n",
       "             Value Std. Error     z       p\n",
       "(Intercept)  3.287      0.556  5.91 3.4e-09\n",
       "treat       -0.127      0.706 -0.18    0.86\n",
       "Log(scale)   0.110      0.269  0.41    0.68\n",
       "\n",
       "Scale= 1.12 \n",
       "\n",
       "Weibull distribution\n",
       "Loglik(model)= -41.2   Loglik(intercept only)= -41.3\n",
       "\tChisq= 0.03 on 1 degrees of freedom, p= 0.86 \n",
       "Number of Newton-Raphson Iterations: 5 \n",
       "n= 29 \n"
      ]
     },
     "metadata": {},
     "output_type": "display_data"
    }
   ],
   "source": [
    "fit <- survreg(Surv(time, status) ~ treat, dist = \"weibull\", data = data)\n",
    "summary(fit)"
   ]
  },
  {
   "cell_type": "markdown",
   "metadata": {},
   "source": [
    "The relevant p-value here is the one associated with the treat parameter. This is testing $H_0: \\lambda_0 = \\lambda_1$ vs $H_1: \\lambda_0 = \\lambda_1$ under the assuption that the the data are Weibull distributed, parametrized by lambda as in (a). We find $p = 0.86$. This is similar to the p-value for the log rank test."
   ]
  },
  {
   "cell_type": "markdown",
   "metadata": {},
   "source": [
    "**(d) What is the predicted median survival time for each group under the Weibull assumption?**"
   ]
  },
  {
   "cell_type": "code",
   "execution_count": 5,
   "metadata": {
    "vscode": {
     "languageId": "r"
    }
   },
   "outputs": [
    {
     "data": {
      "text/html": [
       "<style>\n",
       ".dl-inline {width: auto; margin:0; padding: 0}\n",
       ".dl-inline>dt, .dl-inline>dd {float: none; width: auto; display: inline-block}\n",
       ".dl-inline>dt::after {content: \":\\0020\"; padding-right: .5ex}\n",
       ".dl-inline>dt:not(:first-of-type) {padding-left: .5ex}\n",
       "</style><dl class=dl-inline><dt>1</dt><dd>17.7727580342528</dd><dt>2</dt><dd>15.6601900143188</dd></dl>\n"
      ],
      "text/latex": [
       "\\begin{description*}\n",
       "\\item[1] 17.7727580342528\n",
       "\\item[2] 15.6601900143188\n",
       "\\end{description*}\n"
      ],
      "text/markdown": [
       "1\n",
       ":   17.77275803425282\n",
       ":   15.6601900143188\n",
       "\n"
      ],
      "text/plain": [
       "       1        2 \n",
       "17.77276 15.66019 "
      ]
     },
     "metadata": {},
     "output_type": "display_data"
    }
   ],
   "source": [
    "predict(fit, newdata = data.frame(treat = c(0, 1)), type = \"quantile\", p = 0.5)"
   ]
  },
  {
   "cell_type": "markdown",
   "metadata": {},
   "source": [
    "So, the predicted median survival time is 17.77 in control and 15.66 in treatment."
   ]
  },
  {
   "cell_type": "markdown",
   "metadata": {},
   "source": [
    "**(e) What is hazard ratio of treatment effect and its 95\\% CI (you may use the R package/library `SurvRegCensCov') ?**"
   ]
  },
  {
   "cell_type": "code",
   "execution_count": 6,
   "metadata": {
    "vscode": {
     "languageId": "r"
    }
   },
   "outputs": [
    {
     "data": {
      "text/html": [
       "<dl>\n",
       "\t<dt>$vars</dt>\n",
       "\t\t<dd><table class=\"dataframe\">\n",
       "<caption>A matrix: 3 × 2 of type dbl</caption>\n",
       "<thead>\n",
       "\t<tr><th></th><th scope=col>Estimate</th><th scope=col>SE</th></tr>\n",
       "</thead>\n",
       "<tbody>\n",
       "\t<tr><th scope=row>lambda</th><td>0.05267814</td><td>0.03826071</td></tr>\n",
       "\t<tr><th scope=row>gamma</th><td>0.89553169</td><td>0.24086577</td></tr>\n",
       "\t<tr><th scope=row>treat</th><td>0.11332507</td><td>0.63271976</td></tr>\n",
       "</tbody>\n",
       "</table>\n",
       "</dd>\n",
       "\t<dt>$HR</dt>\n",
       "\t\t<dd><table class=\"dataframe\">\n",
       "<caption>A matrix: 1 × 3 of type dbl</caption>\n",
       "<thead>\n",
       "\t<tr><th></th><th scope=col>HR</th><th scope=col>LB</th><th scope=col>UB</th></tr>\n",
       "</thead>\n",
       "<tbody>\n",
       "\t<tr><th scope=row>treat</th><td>1.119996</td><td>0.3240742</td><td>3.870691</td></tr>\n",
       "</tbody>\n",
       "</table>\n",
       "</dd>\n",
       "\t<dt>$ETR</dt>\n",
       "\t\t<dd><table class=\"dataframe\">\n",
       "<caption>A matrix: 1 × 3 of type dbl</caption>\n",
       "<thead>\n",
       "\t<tr><th></th><th scope=col>ETR</th><th scope=col>LB</th><th scope=col>UB</th></tr>\n",
       "</thead>\n",
       "<tbody>\n",
       "\t<tr><th scope=row>treat</th><td>0.8811345</td><td>0.2206899</td><td>3.51805</td></tr>\n",
       "</tbody>\n",
       "</table>\n",
       "</dd>\n",
       "</dl>\n"
      ],
      "text/latex": [
       "\\begin{description}\n",
       "\\item[\\$vars] A matrix: 3 × 2 of type dbl\n",
       "\\begin{tabular}{r|ll}\n",
       "  & Estimate & SE\\\\\n",
       "\\hline\n",
       "\tlambda & 0.05267814 & 0.03826071\\\\\n",
       "\tgamma & 0.89553169 & 0.24086577\\\\\n",
       "\ttreat & 0.11332507 & 0.63271976\\\\\n",
       "\\end{tabular}\n",
       "\n",
       "\\item[\\$HR] A matrix: 1 × 3 of type dbl\n",
       "\\begin{tabular}{r|lll}\n",
       "  & HR & LB & UB\\\\\n",
       "\\hline\n",
       "\ttreat & 1.119996 & 0.3240742 & 3.870691\\\\\n",
       "\\end{tabular}\n",
       "\n",
       "\\item[\\$ETR] A matrix: 1 × 3 of type dbl\n",
       "\\begin{tabular}{r|lll}\n",
       "  & ETR & LB & UB\\\\\n",
       "\\hline\n",
       "\ttreat & 0.8811345 & 0.2206899 & 3.51805\\\\\n",
       "\\end{tabular}\n",
       "\n",
       "\\end{description}\n"
      ],
      "text/markdown": [
       "$vars\n",
       ":   \n",
       "A matrix: 3 × 2 of type dbl\n",
       "\n",
       "| <!--/--> | Estimate | SE |\n",
       "|---|---|---|\n",
       "| lambda | 0.05267814 | 0.03826071 |\n",
       "| gamma | 0.89553169 | 0.24086577 |\n",
       "| treat | 0.11332507 | 0.63271976 |\n",
       "\n",
       "\n",
       "$HR\n",
       ":   \n",
       "A matrix: 1 × 3 of type dbl\n",
       "\n",
       "| <!--/--> | HR | LB | UB |\n",
       "|---|---|---|---|\n",
       "| treat | 1.119996 | 0.3240742 | 3.870691 |\n",
       "\n",
       "\n",
       "$ETR\n",
       ":   \n",
       "A matrix: 1 × 3 of type dbl\n",
       "\n",
       "| <!--/--> | ETR | LB | UB |\n",
       "|---|---|---|---|\n",
       "| treat | 0.8811345 | 0.2206899 | 3.51805 |\n",
       "\n",
       "\n",
       "\n",
       "\n"
      ],
      "text/plain": [
       "$vars\n",
       "         Estimate         SE\n",
       "lambda 0.05267814 0.03826071\n",
       "gamma  0.89553169 0.24086577\n",
       "treat  0.11332507 0.63271976\n",
       "\n",
       "$HR\n",
       "            HR        LB       UB\n",
       "treat 1.119996 0.3240742 3.870691\n",
       "\n",
       "$ETR\n",
       "            ETR        LB      UB\n",
       "treat 0.8811345 0.2206899 3.51805\n"
      ]
     },
     "metadata": {},
     "output_type": "display_data"
    }
   ],
   "source": [
    "converted_fit = ConvertWeibull(fit, conf.level = 0.95)\n",
    "converted_fit"
   ]
  },
  {
   "cell_type": "markdown",
   "metadata": {},
   "source": [
    "So, the hazard ratio MLE is 1.119996, indicating a higher hazard rate for treatment. However, the 95% confidence interval is $[0.3240742, 3.870691]$, which includes values smaller and larger than 1. So, the result is not statistically significant."
   ]
  },
  {
   "cell_type": "markdown",
   "metadata": {},
   "source": [
    "**(f) A survival model is considered as an accelerated failure time (AFT) model if $S(t | Z=1) = S(t/\\phi | Z = 0)$ where $\\phi^{-1}$ is accelerated factor (a constant). Is this Weibull model a AFT? If yes, what is the value of the accelerated factor $\\phi^{-1}$ (hint: review course notes Page 137, 143 and 146).**"
   ]
  },
  {
   "cell_type": "markdown",
   "metadata": {},
   "source": [
    "Yes, it is an AFT. The acceleration factor is given by,\n",
    "\n",
    "$$\n",
    "\\phi^{-1} = \\exp(\\beta_1/ \\gamma)\n",
    "$$"
   ]
  },
  {
   "cell_type": "code",
   "execution_count": 7,
   "metadata": {
    "vscode": {
     "languageId": "r"
    }
   },
   "outputs": [
    {
     "data": {
      "text/html": [
       "1.13490053556198"
      ],
      "text/latex": [
       "1.13490053556198"
      ],
      "text/markdown": [
       "1.13490053556198"
      ],
      "text/plain": [
       "[1] 1.134901"
      ]
     },
     "metadata": {},
     "output_type": "display_data"
    }
   ],
   "source": [
    "beta_hat = converted_fit$vars[\"treat\", \"Estimate\"]\n",
    "gamma_hat = converted_fit$vars[\"gamma\", \"Estimate\"]\n",
    "phi_hat = exp(beta_hat / gamma_hat)\n",
    "\n",
    "phi_hat"
   ]
  },
  {
   "cell_type": "markdown",
   "metadata": {},
   "source": [
    "The acceleration factor is 1.135. The loose interpretation here is that units in treatment age 1.135 times faster than units in control. More exactly, the survival function for treatment units is the same as for control units which are 1.135 times older."
   ]
  },
  {
   "cell_type": "markdown",
   "metadata": {},
   "source": [
    "**(g) Estimate the median follow-up time for each group using reverse Kaplan-Meier estimation.**"
   ]
  },
  {
   "cell_type": "code",
   "execution_count": 8,
   "metadata": {
    "vscode": {
     "languageId": "r"
    }
   },
   "outputs": [
    {
     "data": {
      "text/plain": [
       "Call: survfit(formula = Surv(time, rev_status) ~ 1, data = subset(data, \n",
       "    treat == 0))\n",
       "\n",
       " time n.risk n.event survival std.err lower 95% CI upper 95% CI\n",
       "    1     15       1    0.933  0.0644        0.815            1\n",
       "    3     11       1    0.848  0.0999        0.674            1\n",
       "    5      8       2    0.636  0.1499        0.401            1\n",
       "   16      6       6    0.000     NaN           NA           NA"
      ]
     },
     "metadata": {},
     "output_type": "display_data"
    },
    {
     "data": {
      "text/plain": [
       "Call: survfit(formula = Surv(time, rev_status) ~ 1, data = subset(data, \n",
       "    treat == 1))\n",
       "\n",
       " time n.risk n.event survival std.err lower 95% CI upper 95% CI\n",
       "    1     14       3    0.786   0.110        0.598        1.000\n",
       "    4     10       1    0.707   0.124        0.502        0.996\n",
       "   10      6       1    0.589   0.149        0.359        0.967\n",
       "   12      4       1    0.442   0.170        0.208        0.938\n",
       "   16      3       3    0.000     NaN           NA           NA"
      ]
     },
     "metadata": {},
     "output_type": "display_data"
    }
   ],
   "source": [
    "data$rev_status = 1 - data$status\n",
    "\n",
    "rev_km0 = survfit(Surv(time, rev_status) ~ 1, data=subset(data, treat==0))\n",
    "rev_km1 = survfit(Surv(time, rev_status) ~ 1, data=subset(data, treat==1))\n",
    "\n",
    "summary(rev_km0)\n",
    "summary(rev_km1)"
   ]
  },
  {
   "cell_type": "code",
   "execution_count": 9,
   "metadata": {
    "vscode": {
     "languageId": "r"
    }
   },
   "outputs": [
    {
     "data": {
      "text/html": [
       "<strong>median:</strong> 16"
      ],
      "text/latex": [
       "\\textbf{median:} 16"
      ],
      "text/markdown": [
       "**median:** 16"
      ],
      "text/plain": [
       "median \n",
       "    16 "
      ]
     },
     "metadata": {},
     "output_type": "display_data"
    },
    {
     "data": {
      "text/html": [
       "<strong>median:</strong> 12"
      ],
      "text/latex": [
       "\\textbf{median:} 12"
      ],
      "text/markdown": [
       "**median:** 12"
      ],
      "text/plain": [
       "median \n",
       "    12 "
      ]
     },
     "metadata": {},
     "output_type": "display_data"
    }
   ],
   "source": [
    "summary(rev_km0)$table[\"median\"]\n",
    "summary(rev_km1)$table[\"median\"]"
   ]
  },
  {
   "cell_type": "markdown",
   "metadata": {},
   "source": [
    "So, for the control group, median follow up time is 16. For the treatment group, it's 12."
   ]
  },
  {
   "cell_type": "markdown",
   "metadata": {},
   "source": []
  }
 ],
 "metadata": {
  "kernelspec": {
   "display_name": "R",
   "language": "R",
   "name": "ir"
  },
  "language_info": {
   "codemirror_mode": "r",
   "file_extension": ".r",
   "mimetype": "text/x-r-source",
   "name": "R",
   "pygments_lexer": "r",
   "version": "4.4.2"
  }
 },
 "nbformat": 4,
 "nbformat_minor": 2
}
