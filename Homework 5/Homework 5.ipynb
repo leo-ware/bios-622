{
 "cells": [
  {
   "cell_type": "code",
   "execution_count": 1,
   "metadata": {
    "vscode": {
     "languageId": "r"
    }
   },
   "outputs": [
    {
     "name": "stderr",
     "output_type": "stream",
     "text": [
      "── \u001b[1mAttaching core tidyverse packages\u001b[22m ──────────────────────── tidyverse 2.0.0 ──\n",
      "\u001b[32m✔\u001b[39m \u001b[34mdplyr    \u001b[39m 1.1.4     \u001b[32m✔\u001b[39m \u001b[34mreadr    \u001b[39m 2.1.5\n",
      "\u001b[32m✔\u001b[39m \u001b[34mforcats  \u001b[39m 1.0.0     \u001b[32m✔\u001b[39m \u001b[34mstringr  \u001b[39m 1.5.1\n",
      "\u001b[32m✔\u001b[39m \u001b[34mggplot2  \u001b[39m 3.5.1     \u001b[32m✔\u001b[39m \u001b[34mtibble   \u001b[39m 3.2.1\n",
      "\u001b[32m✔\u001b[39m \u001b[34mlubridate\u001b[39m 1.9.3     \u001b[32m✔\u001b[39m \u001b[34mtidyr    \u001b[39m 1.3.1\n",
      "\u001b[32m✔\u001b[39m \u001b[34mpurrr    \u001b[39m 1.0.2     \n",
      "── \u001b[1mConflicts\u001b[22m ────────────────────────────────────────── tidyverse_conflicts() ──\n",
      "\u001b[31m✖\u001b[39m \u001b[34mdplyr\u001b[39m::\u001b[32mfilter()\u001b[39m masks \u001b[34mstats\u001b[39m::filter()\n",
      "\u001b[31m✖\u001b[39m \u001b[34mdplyr\u001b[39m::\u001b[32mlag()\u001b[39m    masks \u001b[34mstats\u001b[39m::lag()\n",
      "\u001b[36mℹ\u001b[39m Use the conflicted package (\u001b[3m\u001b[34m<http://conflicted.r-lib.org/>\u001b[39m\u001b[23m) to force all conflicts to become errors\n"
     ]
    }
   ],
   "source": [
    "library(tidyverse, quietly = TRUE)\n",
    "library(survival, quietly = TRUE)"
   ]
  },
  {
   "cell_type": "markdown",
   "metadata": {},
   "source": [
    "- Steroid: 1(2), 1+(2), 4+, 5, 7, 8, 10, 10+, 12+, 16+(3)\n",
    "• Control: 1, 2, 3(2), 3+, 5+(2), 16+(8)"
   ]
  },
  {
   "cell_type": "code",
   "execution_count": 2,
   "metadata": {
    "vscode": {
     "languageId": "r"
    }
   },
   "outputs": [
    {
     "data": {
      "text/html": [
       "<table class=\"dataframe\">\n",
       "<caption>A data.frame: 6 × 3</caption>\n",
       "<thead>\n",
       "\t<tr><th></th><th scope=col>treatment</th><th scope=col>t</th><th scope=col>censored</th></tr>\n",
       "\t<tr><th></th><th scope=col>&lt;dbl&gt;</th><th scope=col>&lt;dbl&gt;</th><th scope=col>&lt;dbl&gt;</th></tr>\n",
       "</thead>\n",
       "<tbody>\n",
       "\t<tr><th scope=row>1</th><td>1</td><td>1</td><td>0</td></tr>\n",
       "\t<tr><th scope=row>2</th><td>1</td><td>1</td><td>0</td></tr>\n",
       "\t<tr><th scope=row>3</th><td>1</td><td>1</td><td>1</td></tr>\n",
       "\t<tr><th scope=row>4</th><td>1</td><td>1</td><td>1</td></tr>\n",
       "\t<tr><th scope=row>5</th><td>1</td><td>4</td><td>1</td></tr>\n",
       "\t<tr><th scope=row>6</th><td>1</td><td>5</td><td>0</td></tr>\n",
       "</tbody>\n",
       "</table>\n"
      ],
      "text/latex": [
       "A data.frame: 6 × 3\n",
       "\\begin{tabular}{r|lll}\n",
       "  & treatment & t & censored\\\\\n",
       "  & <dbl> & <dbl> & <dbl>\\\\\n",
       "\\hline\n",
       "\t1 & 1 & 1 & 0\\\\\n",
       "\t2 & 1 & 1 & 0\\\\\n",
       "\t3 & 1 & 1 & 1\\\\\n",
       "\t4 & 1 & 1 & 1\\\\\n",
       "\t5 & 1 & 4 & 1\\\\\n",
       "\t6 & 1 & 5 & 0\\\\\n",
       "\\end{tabular}\n"
      ],
      "text/markdown": [
       "\n",
       "A data.frame: 6 × 3\n",
       "\n",
       "| <!--/--> | treatment &lt;dbl&gt; | t &lt;dbl&gt; | censored &lt;dbl&gt; |\n",
       "|---|---|---|---|\n",
       "| 1 | 1 | 1 | 0 |\n",
       "| 2 | 1 | 1 | 0 |\n",
       "| 3 | 1 | 1 | 1 |\n",
       "| 4 | 1 | 1 | 1 |\n",
       "| 5 | 1 | 4 | 1 |\n",
       "| 6 | 1 | 5 | 0 |\n",
       "\n"
      ],
      "text/plain": [
       "  treatment t censored\n",
       "1 1         1 0       \n",
       "2 1         1 0       \n",
       "3 1         1 1       \n",
       "4 1         1 1       \n",
       "5 1         4 1       \n",
       "6 1         5 0       "
      ]
     },
     "metadata": {},
     "output_type": "display_data"
    }
   ],
   "source": [
    "treatment_survival_times = c(1, 1, 1, 1, 4, 5, 7, 8, 10, 10, 12, 16, 16, 16)\n",
    "treatment_censored = c(0, 0, 1, 1, 1, 0, 0, 0, 0, 1, 1, 1, 1, 1)\n",
    "control_survival_times = c(1, 2, 3, 3, 3, 5, 5, rep(16, 8))\n",
    "control_censored = c(0, 0, 0, 0, rep(1, 11))\n",
    "\n",
    "data = data.frame(\n",
    "    treatment = c(rep(1, length(treatment_survival_times)), rep(0, length(control_survival_times))),\n",
    "    t = c(treatment_survival_times, control_survival_times),\n",
    "    censored = c(treatment_censored, control_censored)\n",
    ")\n",
    "\n",
    "head(data)"
   ]
  },
  {
   "cell_type": "markdown",
   "metadata": {},
   "source": [
    "**(a) Find Kaplan-Meier estimator of survival function for each group (with standard error) by completing the following table:**"
   ]
  },
  {
   "cell_type": "code",
   "execution_count": 3,
   "metadata": {
    "vscode": {
     "languageId": "r"
    }
   },
   "outputs": [],
   "source": [
    "calc_KM = function(data){\n",
    "    data %>%\n",
    "        mutate(n_units = n()) %>%\n",
    "        group_by(t) %>%\n",
    "        summarize(\n",
    "            D = sum(1 - censored), # count deaths\n",
    "            n_events = n(), # count events plus censorings\n",
    "            n_units = first(n_units) # count total number of units in the group\n",
    "        ) %>%\n",
    "        mutate(\n",
    "            N = n_units - lag(cumsum(n_events), n = 1, default = 0), # count number of units at risk\n",
    "            S = N - D, # count number of survivors\n",
    "        ) %>%\n",
    "        select(t, D, N, S) %>%\n",
    "        mutate(\n",
    "            S_t_hat = cumprod(S / N), # Kaplan-Meier estimate of survival function\n",
    "            S_t_hat_se = S_t_hat*sqrt(cumsum(D/(N*(N - D)))), # standard error of Kaplan-Meier estimate of survival function\n",
    "            h_hat = D / N, # hazard rate\n",
    "            H_hat = cumsum(h_hat) # cumulative hazard rate\n",
    "        )\n",
    "}\n",
    "treat_km = calc_KM(data %>% filter(treatment == 1))\n",
    "control_km = calc_KM(data %>% filter(treatment == 0))"
   ]
  },
  {
   "cell_type": "code",
   "execution_count": 4,
   "metadata": {
    "vscode": {
     "languageId": "r"
    }
   },
   "outputs": [
    {
     "data": {
      "text/html": [
       "<table class=\"dataframe\">\n",
       "<caption>A tibble: 8 × 8</caption>\n",
       "<thead>\n",
       "\t<tr><th scope=col>t</th><th scope=col>D</th><th scope=col>N</th><th scope=col>S</th><th scope=col>S_t_hat</th><th scope=col>S_t_hat_se</th><th scope=col>h_hat</th><th scope=col>H_hat</th></tr>\n",
       "\t<tr><th scope=col>&lt;dbl&gt;</th><th scope=col>&lt;dbl&gt;</th><th scope=col>&lt;int&gt;</th><th scope=col>&lt;dbl&gt;</th><th scope=col>&lt;dbl&gt;</th><th scope=col>&lt;dbl&gt;</th><th scope=col>&lt;dbl&gt;</th><th scope=col>&lt;dbl&gt;</th></tr>\n",
       "</thead>\n",
       "<tbody>\n",
       "\t<tr><td> 1</td><td>2</td><td>14</td><td>12</td><td>0.8571429</td><td>0.09352195</td><td>0.1428571</td><td>0.1428571</td></tr>\n",
       "\t<tr><td> 4</td><td>0</td><td>10</td><td>10</td><td>0.8571429</td><td>0.09352195</td><td>0.0000000</td><td>0.1428571</td></tr>\n",
       "\t<tr><td> 5</td><td>1</td><td> 9</td><td> 8</td><td>0.7619048</td><td>0.12236497</td><td>0.1111111</td><td>0.2539683</td></tr>\n",
       "\t<tr><td> 7</td><td>1</td><td> 8</td><td> 7</td><td>0.6666667</td><td>0.13928515</td><td>0.1250000</td><td>0.3789683</td></tr>\n",
       "\t<tr><td> 8</td><td>1</td><td> 7</td><td> 6</td><td>0.5714286</td><td>0.14841785</td><td>0.1428571</td><td>0.5218254</td></tr>\n",
       "\t<tr><td>10</td><td>1</td><td> 6</td><td> 5</td><td>0.4761905</td><td>0.15118103</td><td>0.1666667</td><td>0.6884921</td></tr>\n",
       "\t<tr><td>12</td><td>0</td><td> 4</td><td> 4</td><td>0.4761905</td><td>0.15118103</td><td>0.0000000</td><td>0.6884921</td></tr>\n",
       "\t<tr><td>16</td><td>0</td><td> 3</td><td> 3</td><td>0.4761905</td><td>0.15118103</td><td>0.0000000</td><td>0.6884921</td></tr>\n",
       "</tbody>\n",
       "</table>\n"
      ],
      "text/latex": [
       "A tibble: 8 × 8\n",
       "\\begin{tabular}{llllllll}\n",
       " t & D & N & S & S\\_t\\_hat & S\\_t\\_hat\\_se & h\\_hat & H\\_hat\\\\\n",
       " <dbl> & <dbl> & <int> & <dbl> & <dbl> & <dbl> & <dbl> & <dbl>\\\\\n",
       "\\hline\n",
       "\t  1 & 2 & 14 & 12 & 0.8571429 & 0.09352195 & 0.1428571 & 0.1428571\\\\\n",
       "\t  4 & 0 & 10 & 10 & 0.8571429 & 0.09352195 & 0.0000000 & 0.1428571\\\\\n",
       "\t  5 & 1 &  9 &  8 & 0.7619048 & 0.12236497 & 0.1111111 & 0.2539683\\\\\n",
       "\t  7 & 1 &  8 &  7 & 0.6666667 & 0.13928515 & 0.1250000 & 0.3789683\\\\\n",
       "\t  8 & 1 &  7 &  6 & 0.5714286 & 0.14841785 & 0.1428571 & 0.5218254\\\\\n",
       "\t 10 & 1 &  6 &  5 & 0.4761905 & 0.15118103 & 0.1666667 & 0.6884921\\\\\n",
       "\t 12 & 0 &  4 &  4 & 0.4761905 & 0.15118103 & 0.0000000 & 0.6884921\\\\\n",
       "\t 16 & 0 &  3 &  3 & 0.4761905 & 0.15118103 & 0.0000000 & 0.6884921\\\\\n",
       "\\end{tabular}\n"
      ],
      "text/markdown": [
       "\n",
       "A tibble: 8 × 8\n",
       "\n",
       "| t &lt;dbl&gt; | D &lt;dbl&gt; | N &lt;int&gt; | S &lt;dbl&gt; | S_t_hat &lt;dbl&gt; | S_t_hat_se &lt;dbl&gt; | h_hat &lt;dbl&gt; | H_hat &lt;dbl&gt; |\n",
       "|---|---|---|---|---|---|---|---|\n",
       "|  1 | 2 | 14 | 12 | 0.8571429 | 0.09352195 | 0.1428571 | 0.1428571 |\n",
       "|  4 | 0 | 10 | 10 | 0.8571429 | 0.09352195 | 0.0000000 | 0.1428571 |\n",
       "|  5 | 1 |  9 |  8 | 0.7619048 | 0.12236497 | 0.1111111 | 0.2539683 |\n",
       "|  7 | 1 |  8 |  7 | 0.6666667 | 0.13928515 | 0.1250000 | 0.3789683 |\n",
       "|  8 | 1 |  7 |  6 | 0.5714286 | 0.14841785 | 0.1428571 | 0.5218254 |\n",
       "| 10 | 1 |  6 |  5 | 0.4761905 | 0.15118103 | 0.1666667 | 0.6884921 |\n",
       "| 12 | 0 |  4 |  4 | 0.4761905 | 0.15118103 | 0.0000000 | 0.6884921 |\n",
       "| 16 | 0 |  3 |  3 | 0.4761905 | 0.15118103 | 0.0000000 | 0.6884921 |\n",
       "\n"
      ],
      "text/plain": [
       "  t  D N  S  S_t_hat   S_t_hat_se h_hat     H_hat    \n",
       "1  1 2 14 12 0.8571429 0.09352195 0.1428571 0.1428571\n",
       "2  4 0 10 10 0.8571429 0.09352195 0.0000000 0.1428571\n",
       "3  5 1  9  8 0.7619048 0.12236497 0.1111111 0.2539683\n",
       "4  7 1  8  7 0.6666667 0.13928515 0.1250000 0.3789683\n",
       "5  8 1  7  6 0.5714286 0.14841785 0.1428571 0.5218254\n",
       "6 10 1  6  5 0.4761905 0.15118103 0.1666667 0.6884921\n",
       "7 12 0  4  4 0.4761905 0.15118103 0.0000000 0.6884921\n",
       "8 16 0  3  3 0.4761905 0.15118103 0.0000000 0.6884921"
      ]
     },
     "metadata": {},
     "output_type": "display_data"
    }
   ],
   "source": [
    "treat_km"
   ]
  },
  {
   "cell_type": "code",
   "execution_count": 5,
   "metadata": {
    "vscode": {
     "languageId": "r"
    }
   },
   "outputs": [
    {
     "data": {
      "text/html": [
       "<table class=\"dataframe\">\n",
       "<caption>A tibble: 5 × 8</caption>\n",
       "<thead>\n",
       "\t<tr><th scope=col>t</th><th scope=col>D</th><th scope=col>N</th><th scope=col>S</th><th scope=col>S_t_hat</th><th scope=col>S_t_hat_se</th><th scope=col>h_hat</th><th scope=col>H_hat</th></tr>\n",
       "\t<tr><th scope=col>&lt;dbl&gt;</th><th scope=col>&lt;dbl&gt;</th><th scope=col>&lt;int&gt;</th><th scope=col>&lt;dbl&gt;</th><th scope=col>&lt;dbl&gt;</th><th scope=col>&lt;dbl&gt;</th><th scope=col>&lt;dbl&gt;</th><th scope=col>&lt;dbl&gt;</th></tr>\n",
       "</thead>\n",
       "<tbody>\n",
       "\t<tr><td> 1</td><td>1</td><td>15</td><td>14</td><td>0.9333333</td><td>0.06440612</td><td>0.06666667</td><td>0.06666667</td></tr>\n",
       "\t<tr><td> 2</td><td>1</td><td>14</td><td>13</td><td>0.8666667</td><td>0.08777075</td><td>0.07142857</td><td>0.13809524</td></tr>\n",
       "\t<tr><td> 3</td><td>2</td><td>13</td><td>11</td><td>0.7333333</td><td>0.11417985</td><td>0.15384615</td><td>0.29194139</td></tr>\n",
       "\t<tr><td> 5</td><td>0</td><td>10</td><td>10</td><td>0.7333333</td><td>0.11417985</td><td>0.00000000</td><td>0.29194139</td></tr>\n",
       "\t<tr><td>16</td><td>0</td><td> 8</td><td> 8</td><td>0.7333333</td><td>0.11417985</td><td>0.00000000</td><td>0.29194139</td></tr>\n",
       "</tbody>\n",
       "</table>\n"
      ],
      "text/latex": [
       "A tibble: 5 × 8\n",
       "\\begin{tabular}{llllllll}\n",
       " t & D & N & S & S\\_t\\_hat & S\\_t\\_hat\\_se & h\\_hat & H\\_hat\\\\\n",
       " <dbl> & <dbl> & <int> & <dbl> & <dbl> & <dbl> & <dbl> & <dbl>\\\\\n",
       "\\hline\n",
       "\t  1 & 1 & 15 & 14 & 0.9333333 & 0.06440612 & 0.06666667 & 0.06666667\\\\\n",
       "\t  2 & 1 & 14 & 13 & 0.8666667 & 0.08777075 & 0.07142857 & 0.13809524\\\\\n",
       "\t  3 & 2 & 13 & 11 & 0.7333333 & 0.11417985 & 0.15384615 & 0.29194139\\\\\n",
       "\t  5 & 0 & 10 & 10 & 0.7333333 & 0.11417985 & 0.00000000 & 0.29194139\\\\\n",
       "\t 16 & 0 &  8 &  8 & 0.7333333 & 0.11417985 & 0.00000000 & 0.29194139\\\\\n",
       "\\end{tabular}\n"
      ],
      "text/markdown": [
       "\n",
       "A tibble: 5 × 8\n",
       "\n",
       "| t &lt;dbl&gt; | D &lt;dbl&gt; | N &lt;int&gt; | S &lt;dbl&gt; | S_t_hat &lt;dbl&gt; | S_t_hat_se &lt;dbl&gt; | h_hat &lt;dbl&gt; | H_hat &lt;dbl&gt; |\n",
       "|---|---|---|---|---|---|---|---|\n",
       "|  1 | 1 | 15 | 14 | 0.9333333 | 0.06440612 | 0.06666667 | 0.06666667 |\n",
       "|  2 | 1 | 14 | 13 | 0.8666667 | 0.08777075 | 0.07142857 | 0.13809524 |\n",
       "|  3 | 2 | 13 | 11 | 0.7333333 | 0.11417985 | 0.15384615 | 0.29194139 |\n",
       "|  5 | 0 | 10 | 10 | 0.7333333 | 0.11417985 | 0.00000000 | 0.29194139 |\n",
       "| 16 | 0 |  8 |  8 | 0.7333333 | 0.11417985 | 0.00000000 | 0.29194139 |\n",
       "\n"
      ],
      "text/plain": [
       "  t  D N  S  S_t_hat   S_t_hat_se h_hat      H_hat     \n",
       "1  1 1 15 14 0.9333333 0.06440612 0.06666667 0.06666667\n",
       "2  2 1 14 13 0.8666667 0.08777075 0.07142857 0.13809524\n",
       "3  3 2 13 11 0.7333333 0.11417985 0.15384615 0.29194139\n",
       "4  5 0 10 10 0.7333333 0.11417985 0.00000000 0.29194139\n",
       "5 16 0  8  8 0.7333333 0.11417985 0.00000000 0.29194139"
      ]
     },
     "metadata": {},
     "output_type": "display_data"
    }
   ],
   "source": [
    "control_km"
   ]
  },
  {
   "cell_type": "markdown",
   "metadata": {},
   "source": [
    "**(b) Plot survival curve (using eithor R or SAS) for each group based on Kaplan-Meier method. What is median survival in each group? Please also include the output from R and SAS which should give you the same result as in (a).**"
   ]
  },
  {
   "cell_type": "code",
   "execution_count": 6,
   "metadata": {
    "vscode": {
     "languageId": "r"
    }
   },
   "outputs": [
    {
     "data": {
      "text/plain": [
       "Call: survfit(formula = Surv(t, status) ~ treatment, data = data %>% \n",
       "    mutate(status = 1 - censored), conf.type = \"log-log\")\n",
       "\n",
       "             n events median 0.95LCL 0.95UCL\n",
       "treatment=0 15      4     NA       3      NA\n",
       "treatment=1 14      6     10       5      NA"
      ]
     },
     "metadata": {},
     "output_type": "display_data"
    },
    {
     "data": {
      "text/plain": [
       "Call: survfit(formula = Surv(t, status) ~ treatment, data = data %>% \n",
       "    mutate(status = 1 - censored), conf.type = \"log-log\")\n",
       "\n",
       "                treatment=0 \n",
       " time n.risk n.event survival std.err lower 95% CI upper 95% CI\n",
       "    1     15       1    0.933  0.0644        0.613        0.990\n",
       "    2     14       1    0.867  0.0878        0.564        0.965\n",
       "    3     13       2    0.733  0.1142        0.436        0.891\n",
       "\n",
       "                treatment=1 \n",
       " time n.risk n.event survival std.err lower 95% CI upper 95% CI\n",
       "    1     14       2    0.857  0.0935        0.539        0.962\n",
       "    5      9       1    0.762  0.1224        0.421        0.918\n",
       "    7      8       1    0.667  0.1393        0.329        0.863\n",
       "    8      7       1    0.571  0.1484        0.249        0.798\n",
       "   10      6       1    0.476  0.1512        0.180        0.726\n"
      ]
     },
     "metadata": {},
     "output_type": "display_data"
    }
   ],
   "source": [
    "fit = survfit(\n",
    "    Surv(t, status) ~ treatment,\n",
    "    data = data %>% mutate(status = 1 - censored),\n",
    "    conf.type = \"log-log\"\n",
    ")\n",
    "\n",
    "fit\n",
    "\n",
    "summary(fit)"
   ]
  },
  {
   "cell_type": "markdown",
   "metadata": {},
   "source": [
    "So, the median survival in treatment is 10, and we're getting NA for the median survival in control. I'm not sure exactly what the problem here is, but it might be underdetermined."
   ]
  },
  {
   "cell_type": "code",
   "execution_count": 7,
   "metadata": {
    "vscode": {
     "languageId": "r"
    }
   },
   "outputs": [
    {
     "data": {
      "image/png": "[encoded data removed]",
      "text/plain": [
       "Plot with title “Kaplan-Meier Survival Curve”"
      ]
     },
     "metadata": {
      "image/png": {
       "height": 420,
       "width": 420
      }
     },
     "output_type": "display_data"
    }
   ],
   "source": [
    "par(bg=\"white\")\n",
    "plot(\n",
    "    fit,\n",
    "    col = c(\"blue\", \"red\"),\n",
    "    lty = 1,\n",
    "    xlab = \"Time\",\n",
    "    ylab = \"Survival Function\",\n",
    "    main = \"Kaplan-Meier Survival Curve\"\n",
    ")\n",
    "legend(\"bottomleft\", legend = c(\"Control\", \"Treatment\"), col = c(\"blue\", \"red\"), lty=1)\n"
   ]
  },
  {
   "cell_type": "markdown",
   "metadata": {},
   "source": [
    "**(c) Plot survival curve (eithor R or SAS) for each group based on Life-table. Is there anydifference between approaches (b) and (c)?**"
   ]
  },
  {
   "cell_type": "code",
   "execution_count": 8,
   "metadata": {
    "vscode": {
     "languageId": "r"
    }
   },
   "outputs": [],
   "source": [
    "calc_lt = function(data, bin_starts){\n",
    "    life_table = data.frame(start = bin_starts)\n",
    "    life_table = life_table %>%\n",
    "        mutate(\n",
    "            end = lead(start, default = Inf),\n",
    "            D = mapply(\\(s, e) sum(data$t >= s & data$t < e & data$censored == 0), start, end), # count deaths\n",
    "            C = mapply(\\(s, e) sum(data$t >= s & data$t < e & data$censored == 1), start, end), # count censorings\n",
    "            N = nrow(data) - lag(cumsum(D + C), n = 1, default = 0), # count number of units at risk\n",
    "            N_avg = N - (C / 2), # life table estimator of number of units at risk\n",
    "            h_hat = D / N_avg, # hazard rate estimator\n",
    "            s_hat = cumprod(1 - h_hat) # survival function estimator\n",
    "        )\n",
    "    return(life_table)\n",
    "}\n",
    "\n",
    "# bin size is 2\n",
    "bin_starts = seq(0, 16, by = 2)\n",
    "\n",
    "treat_lt = calc_lt(data %>% filter(treatment == 1), bin_starts)\n",
    "control_lt = calc_lt(data %>% filter(treatment == 0), bin_starts)"
   ]
  },
  {
   "cell_type": "code",
   "execution_count": 9,
   "metadata": {
    "vscode": {
     "languageId": "r"
    }
   },
   "outputs": [
    {
     "data": {
      "text/html": [
       "<table class=\"dataframe\">\n",
       "<caption>A data.frame: 9 × 8</caption>\n",
       "<thead>\n",
       "\t<tr><th scope=col>start</th><th scope=col>end</th><th scope=col>D</th><th scope=col>C</th><th scope=col>N</th><th scope=col>N_avg</th><th scope=col>h_hat</th><th scope=col>s_hat</th></tr>\n",
       "\t<tr><th scope=col>&lt;dbl&gt;</th><th scope=col>&lt;dbl&gt;</th><th scope=col>&lt;int&gt;</th><th scope=col>&lt;int&gt;</th><th scope=col>&lt;int&gt;</th><th scope=col>&lt;dbl&gt;</th><th scope=col>&lt;dbl&gt;</th><th scope=col>&lt;dbl&gt;</th></tr>\n",
       "</thead>\n",
       "<tbody>\n",
       "\t<tr><td> 0</td><td>  2</td><td>2</td><td>2</td><td>14</td><td>13.0</td><td>0.1538462</td><td>0.8461538</td></tr>\n",
       "\t<tr><td> 2</td><td>  4</td><td>0</td><td>0</td><td>10</td><td>10.0</td><td>0.0000000</td><td>0.8461538</td></tr>\n",
       "\t<tr><td> 4</td><td>  6</td><td>1</td><td>1</td><td>10</td><td> 9.5</td><td>0.1052632</td><td>0.7570850</td></tr>\n",
       "\t<tr><td> 6</td><td>  8</td><td>1</td><td>0</td><td> 8</td><td> 8.0</td><td>0.1250000</td><td>0.6624494</td></tr>\n",
       "\t<tr><td> 8</td><td> 10</td><td>1</td><td>0</td><td> 7</td><td> 7.0</td><td>0.1428571</td><td>0.5678138</td></tr>\n",
       "\t<tr><td>10</td><td> 12</td><td>1</td><td>1</td><td> 6</td><td> 5.5</td><td>0.1818182</td><td>0.4645749</td></tr>\n",
       "\t<tr><td>12</td><td> 14</td><td>0</td><td>1</td><td> 4</td><td> 3.5</td><td>0.0000000</td><td>0.4645749</td></tr>\n",
       "\t<tr><td>14</td><td> 16</td><td>0</td><td>0</td><td> 3</td><td> 3.0</td><td>0.0000000</td><td>0.4645749</td></tr>\n",
       "\t<tr><td>16</td><td>Inf</td><td>0</td><td>3</td><td> 3</td><td> 1.5</td><td>0.0000000</td><td>0.4645749</td></tr>\n",
       "</tbody>\n",
       "</table>\n"
      ],
      "text/latex": [
       "A data.frame: 9 × 8\n",
       "\\begin{tabular}{llllllll}\n",
       " start & end & D & C & N & N\\_avg & h\\_hat & s\\_hat\\\\\n",
       " <dbl> & <dbl> & <int> & <int> & <int> & <dbl> & <dbl> & <dbl>\\\\\n",
       "\\hline\n",
       "\t  0 &   2 & 2 & 2 & 14 & 13.0 & 0.1538462 & 0.8461538\\\\\n",
       "\t  2 &   4 & 0 & 0 & 10 & 10.0 & 0.0000000 & 0.8461538\\\\\n",
       "\t  4 &   6 & 1 & 1 & 10 &  9.5 & 0.1052632 & 0.7570850\\\\\n",
       "\t  6 &   8 & 1 & 0 &  8 &  8.0 & 0.1250000 & 0.6624494\\\\\n",
       "\t  8 &  10 & 1 & 0 &  7 &  7.0 & 0.1428571 & 0.5678138\\\\\n",
       "\t 10 &  12 & 1 & 1 &  6 &  5.5 & 0.1818182 & 0.4645749\\\\\n",
       "\t 12 &  14 & 0 & 1 &  4 &  3.5 & 0.0000000 & 0.4645749\\\\\n",
       "\t 14 &  16 & 0 & 0 &  3 &  3.0 & 0.0000000 & 0.4645749\\\\\n",
       "\t 16 & Inf & 0 & 3 &  3 &  1.5 & 0.0000000 & 0.4645749\\\\\n",
       "\\end{tabular}\n"
      ],
      "text/markdown": [
       "\n",
       "A data.frame: 9 × 8\n",
       "\n",
       "| start &lt;dbl&gt; | end &lt;dbl&gt; | D &lt;int&gt; | C &lt;int&gt; | N &lt;int&gt; | N_avg &lt;dbl&gt; | h_hat &lt;dbl&gt; | s_hat &lt;dbl&gt; |\n",
       "|---|---|---|---|---|---|---|---|\n",
       "|  0 |   2 | 2 | 2 | 14 | 13.0 | 0.1538462 | 0.8461538 |\n",
       "|  2 |   4 | 0 | 0 | 10 | 10.0 | 0.0000000 | 0.8461538 |\n",
       "|  4 |   6 | 1 | 1 | 10 |  9.5 | 0.1052632 | 0.7570850 |\n",
       "|  6 |   8 | 1 | 0 |  8 |  8.0 | 0.1250000 | 0.6624494 |\n",
       "|  8 |  10 | 1 | 0 |  7 |  7.0 | 0.1428571 | 0.5678138 |\n",
       "| 10 |  12 | 1 | 1 |  6 |  5.5 | 0.1818182 | 0.4645749 |\n",
       "| 12 |  14 | 0 | 1 |  4 |  3.5 | 0.0000000 | 0.4645749 |\n",
       "| 14 |  16 | 0 | 0 |  3 |  3.0 | 0.0000000 | 0.4645749 |\n",
       "| 16 | Inf | 0 | 3 |  3 |  1.5 | 0.0000000 | 0.4645749 |\n",
       "\n"
      ],
      "text/plain": [
       "  start end D C N  N_avg h_hat     s_hat    \n",
       "1  0      2 2 2 14 13.0  0.1538462 0.8461538\n",
       "2  2      4 0 0 10 10.0  0.0000000 0.8461538\n",
       "3  4      6 1 1 10  9.5  0.1052632 0.7570850\n",
       "4  6      8 1 0  8  8.0  0.1250000 0.6624494\n",
       "5  8     10 1 0  7  7.0  0.1428571 0.5678138\n",
       "6 10     12 1 1  6  5.5  0.1818182 0.4645749\n",
       "7 12     14 0 1  4  3.5  0.0000000 0.4645749\n",
       "8 14     16 0 0  3  3.0  0.0000000 0.4645749\n",
       "9 16    Inf 0 3  3  1.5  0.0000000 0.4645749"
      ]
     },
     "metadata": {},
     "output_type": "display_data"
    }
   ],
   "source": [
    "treat_lt"
   ]
  },
  {
   "cell_type": "code",
   "execution_count": 10,
   "metadata": {
    "vscode": {
     "languageId": "r"
    }
   },
   "outputs": [
    {
     "data": {
      "text/html": [
       "<table class=\"dataframe\">\n",
       "<caption>A data.frame: 9 × 8</caption>\n",
       "<thead>\n",
       "\t<tr><th scope=col>start</th><th scope=col>end</th><th scope=col>D</th><th scope=col>C</th><th scope=col>N</th><th scope=col>N_avg</th><th scope=col>h_hat</th><th scope=col>s_hat</th></tr>\n",
       "\t<tr><th scope=col>&lt;dbl&gt;</th><th scope=col>&lt;dbl&gt;</th><th scope=col>&lt;int&gt;</th><th scope=col>&lt;int&gt;</th><th scope=col>&lt;int&gt;</th><th scope=col>&lt;dbl&gt;</th><th scope=col>&lt;dbl&gt;</th><th scope=col>&lt;dbl&gt;</th></tr>\n",
       "</thead>\n",
       "<tbody>\n",
       "\t<tr><td> 0</td><td>  2</td><td>1</td><td>0</td><td>15</td><td>15.0</td><td>0.06666667</td><td>0.9333333</td></tr>\n",
       "\t<tr><td> 2</td><td>  4</td><td>3</td><td>1</td><td>14</td><td>13.5</td><td>0.22222222</td><td>0.7259259</td></tr>\n",
       "\t<tr><td> 4</td><td>  6</td><td>0</td><td>2</td><td>10</td><td> 9.0</td><td>0.00000000</td><td>0.7259259</td></tr>\n",
       "\t<tr><td> 6</td><td>  8</td><td>0</td><td>0</td><td> 8</td><td> 8.0</td><td>0.00000000</td><td>0.7259259</td></tr>\n",
       "\t<tr><td> 8</td><td> 10</td><td>0</td><td>0</td><td> 8</td><td> 8.0</td><td>0.00000000</td><td>0.7259259</td></tr>\n",
       "\t<tr><td>10</td><td> 12</td><td>0</td><td>0</td><td> 8</td><td> 8.0</td><td>0.00000000</td><td>0.7259259</td></tr>\n",
       "\t<tr><td>12</td><td> 14</td><td>0</td><td>0</td><td> 8</td><td> 8.0</td><td>0.00000000</td><td>0.7259259</td></tr>\n",
       "\t<tr><td>14</td><td> 16</td><td>0</td><td>0</td><td> 8</td><td> 8.0</td><td>0.00000000</td><td>0.7259259</td></tr>\n",
       "\t<tr><td>16</td><td>Inf</td><td>0</td><td>8</td><td> 8</td><td> 4.0</td><td>0.00000000</td><td>0.7259259</td></tr>\n",
       "</tbody>\n",
       "</table>\n"
      ],
      "text/latex": [
       "A data.frame: 9 × 8\n",
       "\\begin{tabular}{llllllll}\n",
       " start & end & D & C & N & N\\_avg & h\\_hat & s\\_hat\\\\\n",
       " <dbl> & <dbl> & <int> & <int> & <int> & <dbl> & <dbl> & <dbl>\\\\\n",
       "\\hline\n",
       "\t  0 &   2 & 1 & 0 & 15 & 15.0 & 0.06666667 & 0.9333333\\\\\n",
       "\t  2 &   4 & 3 & 1 & 14 & 13.5 & 0.22222222 & 0.7259259\\\\\n",
       "\t  4 &   6 & 0 & 2 & 10 &  9.0 & 0.00000000 & 0.7259259\\\\\n",
       "\t  6 &   8 & 0 & 0 &  8 &  8.0 & 0.00000000 & 0.7259259\\\\\n",
       "\t  8 &  10 & 0 & 0 &  8 &  8.0 & 0.00000000 & 0.7259259\\\\\n",
       "\t 10 &  12 & 0 & 0 &  8 &  8.0 & 0.00000000 & 0.7259259\\\\\n",
       "\t 12 &  14 & 0 & 0 &  8 &  8.0 & 0.00000000 & 0.7259259\\\\\n",
       "\t 14 &  16 & 0 & 0 &  8 &  8.0 & 0.00000000 & 0.7259259\\\\\n",
       "\t 16 & Inf & 0 & 8 &  8 &  4.0 & 0.00000000 & 0.7259259\\\\\n",
       "\\end{tabular}\n"
      ],
      "text/markdown": [
       "\n",
       "A data.frame: 9 × 8\n",
       "\n",
       "| start &lt;dbl&gt; | end &lt;dbl&gt; | D &lt;int&gt; | C &lt;int&gt; | N &lt;int&gt; | N_avg &lt;dbl&gt; | h_hat &lt;dbl&gt; | s_hat &lt;dbl&gt; |\n",
       "|---|---|---|---|---|---|---|---|\n",
       "|  0 |   2 | 1 | 0 | 15 | 15.0 | 0.06666667 | 0.9333333 |\n",
       "|  2 |   4 | 3 | 1 | 14 | 13.5 | 0.22222222 | 0.7259259 |\n",
       "|  4 |   6 | 0 | 2 | 10 |  9.0 | 0.00000000 | 0.7259259 |\n",
       "|  6 |   8 | 0 | 0 |  8 |  8.0 | 0.00000000 | 0.7259259 |\n",
       "|  8 |  10 | 0 | 0 |  8 |  8.0 | 0.00000000 | 0.7259259 |\n",
       "| 10 |  12 | 0 | 0 |  8 |  8.0 | 0.00000000 | 0.7259259 |\n",
       "| 12 |  14 | 0 | 0 |  8 |  8.0 | 0.00000000 | 0.7259259 |\n",
       "| 14 |  16 | 0 | 0 |  8 |  8.0 | 0.00000000 | 0.7259259 |\n",
       "| 16 | Inf | 0 | 8 |  8 |  4.0 | 0.00000000 | 0.7259259 |\n",
       "\n"
      ],
      "text/plain": [
       "  start end D C N  N_avg h_hat      s_hat    \n",
       "1  0      2 1 0 15 15.0  0.06666667 0.9333333\n",
       "2  2      4 3 1 14 13.5  0.22222222 0.7259259\n",
       "3  4      6 0 2 10  9.0  0.00000000 0.7259259\n",
       "4  6      8 0 0  8  8.0  0.00000000 0.7259259\n",
       "5  8     10 0 0  8  8.0  0.00000000 0.7259259\n",
       "6 10     12 0 0  8  8.0  0.00000000 0.7259259\n",
       "7 12     14 0 0  8  8.0  0.00000000 0.7259259\n",
       "8 14     16 0 0  8  8.0  0.00000000 0.7259259\n",
       "9 16    Inf 0 8  8  4.0  0.00000000 0.7259259"
      ]
     },
     "metadata": {},
     "output_type": "display_data"
    }
   ],
   "source": [
    "control_lt"
   ]
  },
  {
   "cell_type": "code",
   "execution_count": 11,
   "metadata": {
    "vscode": {
     "languageId": "r"
    }
   },
   "outputs": [
    {
     "data": {
      "image/png": "[encoded data removed]",
      "text/plain": [
       "Plot with title “Life Table Survival Curve”"
      ]
     },
     "metadata": {
      "image/png": {
       "height": 420,
       "width": 420
      }
     },
     "output_type": "display_data"
    }
   ],
   "source": [
    "par(bg=\"white\")\n",
    "plot(\n",
    "    bin_starts,\n",
    "    treat_lt$s_hat,\n",
    "    type = \"s\",\n",
    "    col = \"red\",\n",
    "    xlab = \"Time\",\n",
    "    ylab = \"Survival Function\",\n",
    "    main = \"Life Table Survival Curve\",\n",
    "    ylim = c(0, 1)\n",
    ")\n",
    "lines(\n",
    "    bin_starts,\n",
    "    control_lt$s_hat,\n",
    "    type = \"s\",\n",
    "    col = \"blue\"\n",
    ")\n",
    "legend(\"bottomleft\", legend = c(\"Treatment\", \"Control\"), col = c(\"red\", \"blue\"), lty=1)"
   ]
  },
  {
   "cell_type": "markdown",
   "metadata": {
    "vscode": {
     "languageId": "r"
    }
   },
   "source": [
    "This is similar to (b), but the life table is using a bin size of 2, and the Kaplan-Meier is using a bin size of 1. So, one difference is that the survival curve of the control group only has one decrement here, since all of the deaths happened in the first and second bins."
   ]
  },
  {
   "cell_type": "markdown",
   "metadata": {},
   "source": [
    "**(d) What is the p-value from log-rank test between two groups? Please state the null and alternative hypotheses.**"
   ]
  },
  {
   "cell_type": "markdown",
   "metadata": {},
   "source": [
    "The null hypothesis is that the two curvival curves are the same. The alternative hypothesis is that they are different.\n",
    "\n",
    "$$\n",
    "H_0 = S_1(t) = S_2(t)\n",
    "$$\n",
    "\n",
    "$$\n",
    "H_1 = S_1(t) \\neq S_2(t)\n",
    "$$"
   ]
  },
  {
   "cell_type": "code",
   "execution_count": 12,
   "metadata": {
    "vscode": {
     "languageId": "r"
    }
   },
   "outputs": [
    {
     "data": {
      "text/plain": [
       "Call:\n",
       "survdiff(formula = Surv(t, status) ~ treatment, data = data %>% \n",
       "    mutate(status = 1 - censored))\n",
       "\n",
       "             N Observed Expected (O-E)^2/E (O-E)^2/V\n",
       "treatment=0 15        4      5.4     0.361     0.812\n",
       "treatment=1 14        6      4.6     0.424     0.812\n",
       "\n",
       " Chisq= 0.8  on 1 degrees of freedom, p= 0.4 "
      ]
     },
     "metadata": {},
     "output_type": "display_data"
    }
   ],
   "source": [
    "fit = survdiff(\n",
    "    Surv(t, status) ~ treatment,\n",
    "    data = data %>% mutate(status = 1 - censored),\n",
    "    # conf.type = \"log-log\"\n",
    ")\n",
    "\n",
    "fit"
   ]
  },
  {
   "cell_type": "markdown",
   "metadata": {},
   "source": [
    "The p-value is 0.4. So, we cannot reject the null hypothesis that the two survival curves are the same."
   ]
  },
  {
   "cell_type": "markdown",
   "metadata": {},
   "source": [
    "**(e) Can you estimate the mean survival (a non-parametric method) for each group based on the table in (a)?**"
   ]
  },
  {
   "cell_type": "markdown",
   "metadata": {},
   "source": [
    "We can estimate mean survival time from Kaplan-Meier by integrating the survival curve with respect to time. Because it's a step function, we can do this by summing the product of the time increment and the survival function in the time increment."
   ]
  },
  {
   "cell_type": "code",
   "execution_count": 13,
   "metadata": {
    "vscode": {
     "languageId": "r"
    }
   },
   "outputs": [
    {
     "data": {
      "text/html": [
       "<table class=\"dataframe\">\n",
       "<caption>A tibble: 1 × 1</caption>\n",
       "<thead>\n",
       "\t<tr><th scope=col>mean_survival</th></tr>\n",
       "\t<tr><th scope=col>&lt;dbl&gt;</th></tr>\n",
       "</thead>\n",
       "<tbody>\n",
       "\t<tr><td>10.61905</td></tr>\n",
       "</tbody>\n",
       "</table>\n"
      ],
      "text/latex": [
       "A tibble: 1 × 1\n",
       "\\begin{tabular}{l}\n",
       " mean\\_survival\\\\\n",
       " <dbl>\\\\\n",
       "\\hline\n",
       "\t 10.61905\\\\\n",
       "\\end{tabular}\n"
      ],
      "text/markdown": [
       "\n",
       "A tibble: 1 × 1\n",
       "\n",
       "| mean_survival &lt;dbl&gt; |\n",
       "|---|\n",
       "| 10.61905 |\n",
       "\n"
      ],
      "text/plain": [
       "  mean_survival\n",
       "1 10.61905     "
      ]
     },
     "metadata": {},
     "output_type": "display_data"
    },
    {
     "data": {
      "text/html": [
       "<table class=\"dataframe\">\n",
       "<caption>A tibble: 1 × 1</caption>\n",
       "<thead>\n",
       "\t<tr><th scope=col>mean_survival</th></tr>\n",
       "\t<tr><th scope=col>&lt;dbl&gt;</th></tr>\n",
       "</thead>\n",
       "<tbody>\n",
       "\t<tr><td>12.33333</td></tr>\n",
       "</tbody>\n",
       "</table>\n"
      ],
      "text/latex": [
       "A tibble: 1 × 1\n",
       "\\begin{tabular}{l}\n",
       " mean\\_survival\\\\\n",
       " <dbl>\\\\\n",
       "\\hline\n",
       "\t 12.33333\\\\\n",
       "\\end{tabular}\n"
      ],
      "text/markdown": [
       "\n",
       "A tibble: 1 × 1\n",
       "\n",
       "| mean_survival &lt;dbl&gt; |\n",
       "|---|\n",
       "| 12.33333 |\n",
       "\n"
      ],
      "text/plain": [
       "  mean_survival\n",
       "1 12.33333     "
      ]
     },
     "metadata": {},
     "output_type": "display_data"
    }
   ],
   "source": [
    "treat_km %>%\n",
    "    mutate(\n",
    "        # width of each bin\n",
    "        t_inc = t - lag(t, n = 1, default = 0),\n",
    "        # height of each bin\n",
    "        t_inc_times_S_t_hat = t_inc * lag(S_t_hat, default = 1)\n",
    "    ) %>%\n",
    "    summarize(\n",
    "        mean_survival = sum(t_inc_times_S_t_hat)\n",
    "    )\n",
    "\n",
    "control_km %>%\n",
    "    mutate(\n",
    "        t_inc = t - lag(t, n = 1, default = 0),\n",
    "        t_inc_times_S_t_hat = t_inc * lag(S_t_hat, default = 1)\n",
    "    ) %>%\n",
    "    summarize(\n",
    "        mean_survival = sum(t_inc_times_S_t_hat)\n",
    "    )"
   ]
  },
  {
   "cell_type": "markdown",
   "metadata": {},
   "source": [
    "So, we estimate a mean survival time of 10.61905 for the treatment group, and 12.33333 for the control group."
   ]
  },
  {
   "cell_type": "markdown",
   "metadata": {},
   "source": []
  }
 ],
 "metadata": {
  "kernelspec": {
   "display_name": "R",
   "language": "R",
   "name": "ir"
  },
  "language_info": {
   "codemirror_mode": "r",
   "file_extension": ".r",
   "mimetype": "text/x-r-source",
   "name": "R",
   "pygments_lexer": "r",
   "version": "4.4.2"
  }
 },
 "nbformat": 4,
 "nbformat_minor": 2
}
