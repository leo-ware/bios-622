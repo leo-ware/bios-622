{
 "cells": [
  {
   "cell_type": "code",
   "execution_count": 1,
   "metadata": {
    "vscode": {
     "languageId": "r"
    }
   },
   "outputs": [
    {
     "name": "stderr",
     "output_type": "stream",
     "text": [
      "── \u001b[1mAttaching core tidyverse packages\u001b[22m ──────────────────────── tidyverse 2.0.0 ──\n",
      "\u001b[32m✔\u001b[39m \u001b[34mdplyr    \u001b[39m 1.1.4     \u001b[32m✔\u001b[39m \u001b[34mreadr    \u001b[39m 2.1.5\n",
      "\u001b[32m✔\u001b[39m \u001b[34mforcats  \u001b[39m 1.0.0     \u001b[32m✔\u001b[39m \u001b[34mstringr  \u001b[39m 1.5.1\n",
      "\u001b[32m✔\u001b[39m \u001b[34mggplot2  \u001b[39m 3.5.1     \u001b[32m✔\u001b[39m \u001b[34mtibble   \u001b[39m 3.2.1\n",
      "\u001b[32m✔\u001b[39m \u001b[34mlubridate\u001b[39m 1.9.3     \u001b[32m✔\u001b[39m \u001b[34mtidyr    \u001b[39m 1.3.1\n",
      "\u001b[32m✔\u001b[39m \u001b[34mpurrr    \u001b[39m 1.0.2     \n",
      "── \u001b[1mConflicts\u001b[22m ────────────────────────────────────────── tidyverse_conflicts() ──\n",
      "\u001b[31m✖\u001b[39m \u001b[34mdplyr\u001b[39m::\u001b[32mfilter()\u001b[39m masks \u001b[34mstats\u001b[39m::filter()\n",
      "\u001b[31m✖\u001b[39m \u001b[34mdplyr\u001b[39m::\u001b[32mlag()\u001b[39m    masks \u001b[34mstats\u001b[39m::lag()\n",
      "\u001b[36mℹ\u001b[39m Use the conflicted package (\u001b[3m\u001b[34m<http://conflicted.r-lib.org/>\u001b[39m\u001b[23m) to force all conflicts to become errors\n"
     ]
    }
   ],
   "source": [
    "library(tidyverse)\n",
    "library(survival)"
   ]
  },
  {
   "cell_type": "markdown",
   "metadata": {},
   "source": [
    "**(1) Consider a study carried out to evaluate the effect of a drug for high blood pressure. Elderly volunteers are randomly allocated to one of three treatments: a placebo, the drug that is currently most common, and the new drug that has been developed. The study lasts for ten years, and the event of interest is occurrence of any kind of heart disease, including death resulting from heart disease. Briefly describe a situation from this study that might lead to an observation that is right-censored.**"
   ]
  },
  {
   "cell_type": "markdown",
   "metadata": {},
   "source": [
    "One typical type of right censoring in a case like this would be that a participant simply stops responding to questionnaires. It's hard to keep people to keep responding to surveys for 10 years, and they might just stop bothering to respond."
   ]
  },
  {
   "cell_type": "markdown",
   "metadata": {},
   "source": [
    "**(2) The lifetime of light bulbs follows an exponential distribution with hazard rate of 0.001 failures per hour of use. (a) Find the mean lifetime of a randomly selected light bulb. (b) Find the median lifetime of a randomly selected light bulb. (c) What is the probability of a light bulb will still function after 2000 hours of use?**"
   ]
  },
  {
   "cell_type": "markdown",
   "metadata": {},
   "source": [
    "- If there are $0.001$ failures per hour, then there are $1/0.001 = 1000$ hours per failure. So, the mean lifetime is 1000.\n",
    "- The formula for the median of the exponential distribution gives the median as $\\ln(2) / 0.001 = 693.147180559945$\n",
    "- The cdf of the exponential distribution is given by $1 - \\exp(-\\lambda x)$, so the probability of lasting linger than 2000 hours is given by $\\exp(-0.001(2000)) = 0.135335283236613$"
   ]
  },
  {
   "cell_type": "markdown",
   "metadata": {},
   "source": [
    "**(3) A survival time $T$ has its hazard function as $h(t) = 2t$. (1) Which parametric statistical distribution does the survival time follow (such as Exponental, Weibull, log-normal, etc.)? (2) Find the survival function and density function of $T$.**"
   ]
  },
  {
   "cell_type": "markdown",
   "metadata": {},
   "source": [
    "The hazard function is given as a scaled power of time, so the distribution must be Weibull. The hazard function of the Weibull distribution is given by,\n",
    "\n",
    "$$\n",
    "h(t) = \\lambda k t^{k - 1}\n",
    "$$\n",
    "\n",
    "So, $k = 2$ and $\\lambda = 1$. We can substitute these into the formulas for the survival function and density function of the Weibull.\n",
    "\n",
    "$$\n",
    "S(t) = \\exp(-\\lambda t^k) = \\exp(-t^2)\n",
    "$$\n",
    "\n",
    "$$\n",
    "f(t) = \\lambda k t^{k - 1} \\exp(-\\lambda t^k) = 2 t \\exp(- t^2)\n",
    "$$"
   ]
  },
  {
   "cell_type": "markdown",
   "metadata": {},
   "source": [
    "**(4) Let $X$ be a random variable with $E(X) =\\mu$ (mean) \\& $Var(X) = \\sigma^2$ (variance).**\n",
    "\n",
    "**(a) Use Delta method to find mean and variance of $Y = g(X)$ \\\\(Hint: let $Y = g(X) = g(\\mu) + (X - \\mu) g'(\\mu)$ based on Taylar expansion).**"
   ]
  },
  {
   "cell_type": "markdown",
   "metadata": {},
   "source": [
    "Let $Y = g(x)$. Suppose $g$ is infinitely differentiable. Then, $Y$ can be represented using the Taylor series of $g$ about $E[X]$.\n",
    "\n",
    "$$\n",
    "Y = \\sum_{k = 0}^\\infty k!^{-1}g^{(k)}(\\mu)(X - \\mu)^k\n",
    "$$\n",
    "\n",
    "We can approximate $Y$ as a linear function using the first two terms of the series.\n",
    "\n",
    "$$\n",
    "Y \\approx g(\\mu) + (X - \\mu)g'(\\mu)\n",
    "$$\n",
    "\n",
    "Take the expectation.\n",
    "\n",
    "$$\n",
    "E[Y] \\approx E[g(\\mu) + (X - \\mu)g'(\\mu)]\n",
    "$$\n",
    "\n",
    "$$\n",
    "E[Y] \\approx E[g(\\mu)] + E[g'(\\mu)X] - E[g'(\\mu)\\mu]\n",
    "$$\n",
    "\n",
    "$$\n",
    "E[Y] \\approx g(\\mu) + g'(\\mu)E[X] - g'(\\mu)\\mu\n",
    "$$\n",
    "\n",
    "We have that $\\mu = E[X]$.\n",
    "\n",
    "$$\n",
    "E[Y] \\approx g(\\mu) + g'(\\mu)\\mu - g'(\\mu)\\mu\n",
    "$$\n",
    "\n",
    "$$\n",
    "E[Y] \\approx g(\\mu)\n",
    "$$\n",
    "\n",
    "Take the variance.\n",
    "\n",
    "$$\n",
    "Var[Y] \\approx Var[g(\\mu) + (X - \\mu)g'(\\mu)]\n",
    "$$\n",
    "\n",
    "$$\n",
    "Var[Y] \\approx Var[g(\\mu) + Xg'(\\mu) - \\mu g'(\\mu)]\n",
    "$$\n",
    "\n",
    "But, $\\mu$ is a constant. So,\n",
    "\n",
    "$$\n",
    "Var[Y] \\approx Var[Xg'(\\mu)]\n",
    "$$\n",
    "\n",
    "$$\n",
    "Var[Y] \\approx Var[X](g'(\\mu))^2\n",
    "$$\n",
    "\n",
    "$$\n",
    "Var[Y] \\approx \\sigma^2 (g'(\\mu))^2\n",
    "$$"
   ]
  },
  {
   "cell_type": "markdown",
   "metadata": {},
   "source": [
    "**(b) In a special case when $g$ takes a natural log-transformation, that is $Y = g(X) = ln(X)$, find $E(Y)$ and $Var(Y)$, assuming $\\mu$ and $\\sigma^2$ are given (they can be estimated from historical data, for example).**"
   ]
  },
  {
   "cell_type": "markdown",
   "metadata": {},
   "source": [
    "If $g(X) = \\ln(X)$, then $g'(X) = {1 \\over X}$\n",
    "\n",
    "$$\n",
    "E[Y] \\approx g(E[X]) = \\ln(\\mu)\n",
    "$$\n",
    "\n",
    "$$\n",
    "Var[Y] \\approx Var[X](g'(\\mu))^2 = {\\sigma^2 \\over \\mu^2}\n",
    "$$"
   ]
  },
  {
   "cell_type": "markdown",
   "metadata": {},
   "source": [
    "**(c) Recall $H(t) = - ln(S(t))$ in the course slides, please find a formula for the estimate of $\\hat{Var(H(t))}$, assuming $\\hat{Var(S(t))}$ is already obtained from Greenwood method (say).**"
   ]
  },
  {
   "cell_type": "markdown",
   "metadata": {},
   "source": [
    "From,\n",
    "\n",
    "$$\n",
    "H(t) = -\\ln(S(t))\n",
    "$$\n",
    "\n",
    "We obtain,\n",
    "\n",
    "$$\n",
    "Var(H(t)) = Var(-\\ln(S(t)))\n",
    "$$\n",
    "\n",
    "$$\n",
    "Var(H(t)) = Var(\\ln(S(t)))\n",
    "$$\n",
    "\n",
    "Using the formula from part b we obtain.\n",
    "\n",
    "$$\n",
    "Var(H(t)) \\approx {Var(S(t)) \\over E[S(t)]^2}\n",
    "$$\n",
    "\n",
    "Take the MLE,\n",
    "\n",
    "$$\n",
    "\\hat{Var(H(t))} \\approx {\\hat{Var(S(t))} \\over \\hat{E[S(t)]}^2}\n",
    "$$\n",
    "\n",
    "Kaplan Meier is asymptotically unbiasedish, so we can approximate,\n",
    "\n",
    "$$\n",
    "\\hat{E[S(T)]} \\approx \\hat{S}(t)\n",
    "$$\n",
    "\n",
    "Giving,\n",
    "\n",
    "$$\n",
    "\\hat{Var(H(t))} \\approx {\\hat{Var(S(t))} \\over S(t)^2}\n",
    "$$"
   ]
  },
  {
   "cell_type": "markdown",
   "metadata": {},
   "source": [
    "**(d) Redo (b) and (c) for $Y= \\exp(X)$.**"
   ]
  },
  {
   "cell_type": "markdown",
   "metadata": {},
   "source": [
    "If $g(X) = \\exp(X)$, then $g'(X) = \\exp(X)$.\n",
    "\n",
    "Then,\n",
    "\n",
    "$$\n",
    "E[Y] \\approx g(E[X]) = \\exp(\\mu)\n",
    "$$\n",
    "\n",
    "$$\n",
    "Var[Y] \\approx Var[X](g'(E[X]))^2 = Var[X]\\exp(E[X])^2\n",
    "$$\n",
    "\n",
    "$$\n",
    "Var[Y] \\approx \\sigma^2\\exp(2\\mu)\n",
    "$$"
   ]
  },
  {
   "cell_type": "markdown",
   "metadata": {},
   "source": [
    "**(5) A modified example from the course notes (Page 60): the data of time to death ($t_i$) from severe viral disease are given as follows:**\n",
    "\n",
    "**Steroid: 1(3), 1+, 4+, 5, 7, 8, 10, 10+, 12+, 16+(3)**\n",
    "\n",
    "**Control: 1+, 2, 3(2), 3+, 5(2), 16+(8)**\n",
    "\n",
    "**Define:**\n",
    "\n",
    "**$D_i$ = Number of events (deaths) at time $t_i$**\n",
    "\n",
    "**$S_i$ = Number that are known to have survived beyond $t_i$ (by convention: includes those censored at $t_i$)**\n",
    "\n",
    "**$N_i$ = Number of `at risk' of being observed to die at time $t_i$, that is $N_i= S_i + D_i$**\n",
    "\n",
    "**$h_i(t)$ = hazard function at time $t_i$**\n",
    "\n",
    "**$H_i(t)$ = corresponding cumulative hazard**\n",
    "\n",
    "**(a) For each treatment group, complete the following table with Kaplan-Meier estimator of survival function:**"
   ]
  },
  {
   "cell_type": "markdown",
   "metadata": {},
   "source": [
    "| $i$ | $t_i$ | $N_i$ | $D_i$ | $S_i$ | $\\hat{S_i(t)}$ | s.e.$(\\hat{S_i(t)})$ | $\\hat{H_i(t)}$ | s.e.$(\\hat{H_i(t)})$ | $\\hat{h_i(t)}$ |\n",
    "|-----|-------|--------|--------|--------|------------------|-----------------------|------------------|-----------------------|------------------|\n",
    "| 1   |       |        |        |        |                  |                       |                  |                       |                  |\n",
    "| 2   |       |        |        |        |                  |                       |                  |                       |                  |\n",
    "| .   | .     | .      | .      | .      | .                | .                     | .                | .                     | .                |\n",
    "| k   |       |        |        |        |                  |                       |                  |                       |                  |\n"
   ]
  },
  {
   "cell_type": "code",
   "execution_count": 2,
   "metadata": {
    "vscode": {
     "languageId": "r"
    }
   },
   "outputs": [
    {
     "data": {
      "text/html": [
       "<table class=\"dataframe\">\n",
       "<caption>A data.frame: 6 × 3</caption>\n",
       "<thead>\n",
       "\t<tr><th></th><th scope=col>time</th><th scope=col>censored</th><th scope=col>treat</th></tr>\n",
       "\t<tr><th></th><th scope=col>&lt;dbl&gt;</th><th scope=col>&lt;dbl&gt;</th><th scope=col>&lt;dbl&gt;</th></tr>\n",
       "</thead>\n",
       "<tbody>\n",
       "\t<tr><th scope=row>1</th><td>1</td><td>0</td><td>1</td></tr>\n",
       "\t<tr><th scope=row>2</th><td>1</td><td>0</td><td>1</td></tr>\n",
       "\t<tr><th scope=row>3</th><td>1</td><td>0</td><td>1</td></tr>\n",
       "\t<tr><th scope=row>4</th><td>1</td><td>1</td><td>1</td></tr>\n",
       "\t<tr><th scope=row>5</th><td>4</td><td>1</td><td>1</td></tr>\n",
       "\t<tr><th scope=row>6</th><td>5</td><td>0</td><td>1</td></tr>\n",
       "</tbody>\n",
       "</table>\n"
      ],
      "text/latex": [
       "A data.frame: 6 × 3\n",
       "\\begin{tabular}{r|lll}\n",
       "  & time & censored & treat\\\\\n",
       "  & <dbl> & <dbl> & <dbl>\\\\\n",
       "\\hline\n",
       "\t1 & 1 & 0 & 1\\\\\n",
       "\t2 & 1 & 0 & 1\\\\\n",
       "\t3 & 1 & 0 & 1\\\\\n",
       "\t4 & 1 & 1 & 1\\\\\n",
       "\t5 & 4 & 1 & 1\\\\\n",
       "\t6 & 5 & 0 & 1\\\\\n",
       "\\end{tabular}\n"
      ],
      "text/markdown": [
       "\n",
       "A data.frame: 6 × 3\n",
       "\n",
       "| <!--/--> | time &lt;dbl&gt; | censored &lt;dbl&gt; | treat &lt;dbl&gt; |\n",
       "|---|---|---|---|\n",
       "| 1 | 1 | 0 | 1 |\n",
       "| 2 | 1 | 0 | 1 |\n",
       "| 3 | 1 | 0 | 1 |\n",
       "| 4 | 1 | 1 | 1 |\n",
       "| 5 | 4 | 1 | 1 |\n",
       "| 6 | 5 | 0 | 1 |\n",
       "\n"
      ],
      "text/plain": [
       "  time censored treat\n",
       "1 1    0        1    \n",
       "2 1    0        1    \n",
       "3 1    0        1    \n",
       "4 1    1        1    \n",
       "5 4    1        1    \n",
       "6 5    0        1    "
      ]
     },
     "metadata": {},
     "output_type": "display_data"
    }
   ],
   "source": [
    "# the data from above\n",
    "data = data.frame(\n",
    "    time = c(1, 1, 1, 1, 4, 5, 7, 8, 10, 10, 12, 16, 16, 16, 1, 2, 3, 3, 3, 5, 5, rep(16, 8)),\n",
    "    censored = c(0, 0, 0, 1, 1, 0, 0, 0, 0, 1, 1, 1, 1, 1, 1, 0, 0, 0, 1, 0, 0, rep(1, 8)),\n",
    "    treat = c(rep(1, 14), rep(0, 15))\n",
    ")\n",
    "\n",
    "head(data)"
   ]
  },
  {
   "cell_type": "markdown",
   "metadata": {},
   "source": [
    "This function calculates the Kaplan Meier table for one of the groups. I use the formula from question 4 part c to calculate a standard error for the cumulative hazard rate."
   ]
  },
  {
   "cell_type": "code",
   "execution_count": 3,
   "metadata": {
    "vscode": {
     "languageId": "r"
    }
   },
   "outputs": [],
   "source": [
    "km_table = function (data) {\n",
    "    data %>%\n",
    "        mutate(n_units = n()) %>%\n",
    "        group_by(time) %>%\n",
    "        summarize(\n",
    "            D = sum(1 - censored),\n",
    "            n_events = n(),\n",
    "            n_units = first(n_units)\n",
    "        ) %>%\n",
    "        arrange(time) %>%\n",
    "        mutate(\n",
    "            N = n_units - lag(cumsum(n_events), n = 1, default = 0),\n",
    "            S = N - D,\n",
    "            h_hat = D/N,\n",
    "            S_hat = cumprod(1 - h_hat),\n",
    "            S_hat_se = S_hat*sqrt(cumsum(D/(N*(N - D)))),\n",
    "            H_hat = -log(S_hat),\n",
    "            H_hat_se = S_hat_se / S_hat # from the derivation above\n",
    "        ) %>%\n",
    "        select(time, N, D, S, S_hat, S_hat_se, H_hat, H_hat_se, h_hat)\n",
    "}\n",
    "\n",
    "treat_km = km_table(data %>% filter(treat == 1))\n",
    "control_km = km_table(data %>% filter(treat == 0))"
   ]
  },
  {
   "cell_type": "code",
   "execution_count": 4,
   "metadata": {
    "vscode": {
     "languageId": "r"
    }
   },
   "outputs": [
    {
     "data": {
      "text/html": [
       "<table class=\"dataframe\">\n",
       "<caption>A tibble: 8 × 9</caption>\n",
       "<thead>\n",
       "\t<tr><th scope=col>time</th><th scope=col>N</th><th scope=col>D</th><th scope=col>S</th><th scope=col>S_hat</th><th scope=col>S_hat_se</th><th scope=col>H_hat</th><th scope=col>H_hat_se</th><th scope=col>h_hat</th></tr>\n",
       "\t<tr><th scope=col>&lt;dbl&gt;</th><th scope=col>&lt;int&gt;</th><th scope=col>&lt;dbl&gt;</th><th scope=col>&lt;dbl&gt;</th><th scope=col>&lt;dbl&gt;</th><th scope=col>&lt;dbl&gt;</th><th scope=col>&lt;dbl&gt;</th><th scope=col>&lt;dbl&gt;</th><th scope=col>&lt;dbl&gt;</th></tr>\n",
       "</thead>\n",
       "<tbody>\n",
       "\t<tr><td> 1</td><td>14</td><td>3</td><td>11</td><td>0.7857143</td><td>0.1096642</td><td>0.2411621</td><td>0.1395726</td><td>0.2142857</td></tr>\n",
       "\t<tr><td> 4</td><td>10</td><td>0</td><td>10</td><td>0.7857143</td><td>0.1096642</td><td>0.2411621</td><td>0.1395726</td><td>0.0000000</td></tr>\n",
       "\t<tr><td> 5</td><td> 9</td><td>1</td><td> 8</td><td>0.6984127</td><td>0.1275811</td><td>0.3589451</td><td>0.1826730</td><td>0.1111111</td></tr>\n",
       "\t<tr><td> 7</td><td> 8</td><td>1</td><td> 7</td><td>0.6111111</td><td>0.1383145</td><td>0.4924765</td><td>0.2263328</td><td>0.1250000</td></tr>\n",
       "\t<tr><td> 8</td><td> 7</td><td>1</td><td> 6</td><td>0.5238095</td><td>0.1434856</td><td>0.6466272</td><td>0.2739271</td><td>0.1428571</td></tr>\n",
       "\t<tr><td>10</td><td> 6</td><td>1</td><td> 5</td><td>0.4365079</td><td>0.1436963</td><td>0.8289487</td><td>0.3291951</td><td>0.1666667</td></tr>\n",
       "\t<tr><td>12</td><td> 4</td><td>0</td><td> 4</td><td>0.4365079</td><td>0.1436963</td><td>0.8289487</td><td>0.3291951</td><td>0.0000000</td></tr>\n",
       "\t<tr><td>16</td><td> 3</td><td>0</td><td> 3</td><td>0.4365079</td><td>0.1436963</td><td>0.8289487</td><td>0.3291951</td><td>0.0000000</td></tr>\n",
       "</tbody>\n",
       "</table>\n"
      ],
      "text/latex": [
       "A tibble: 8 × 9\n",
       "\\begin{tabular}{lllllllll}\n",
       " time & N & D & S & S\\_hat & S\\_hat\\_se & H\\_hat & H\\_hat\\_se & h\\_hat\\\\\n",
       " <dbl> & <int> & <dbl> & <dbl> & <dbl> & <dbl> & <dbl> & <dbl> & <dbl>\\\\\n",
       "\\hline\n",
       "\t  1 & 14 & 3 & 11 & 0.7857143 & 0.1096642 & 0.2411621 & 0.1395726 & 0.2142857\\\\\n",
       "\t  4 & 10 & 0 & 10 & 0.7857143 & 0.1096642 & 0.2411621 & 0.1395726 & 0.0000000\\\\\n",
       "\t  5 &  9 & 1 &  8 & 0.6984127 & 0.1275811 & 0.3589451 & 0.1826730 & 0.1111111\\\\\n",
       "\t  7 &  8 & 1 &  7 & 0.6111111 & 0.1383145 & 0.4924765 & 0.2263328 & 0.1250000\\\\\n",
       "\t  8 &  7 & 1 &  6 & 0.5238095 & 0.1434856 & 0.6466272 & 0.2739271 & 0.1428571\\\\\n",
       "\t 10 &  6 & 1 &  5 & 0.4365079 & 0.1436963 & 0.8289487 & 0.3291951 & 0.1666667\\\\\n",
       "\t 12 &  4 & 0 &  4 & 0.4365079 & 0.1436963 & 0.8289487 & 0.3291951 & 0.0000000\\\\\n",
       "\t 16 &  3 & 0 &  3 & 0.4365079 & 0.1436963 & 0.8289487 & 0.3291951 & 0.0000000\\\\\n",
       "\\end{tabular}\n"
      ],
      "text/markdown": [
       "\n",
       "A tibble: 8 × 9\n",
       "\n",
       "| time &lt;dbl&gt; | N &lt;int&gt; | D &lt;dbl&gt; | S &lt;dbl&gt; | S_hat &lt;dbl&gt; | S_hat_se &lt;dbl&gt; | H_hat &lt;dbl&gt; | H_hat_se &lt;dbl&gt; | h_hat &lt;dbl&gt; |\n",
       "|---|---|---|---|---|---|---|---|---|\n",
       "|  1 | 14 | 3 | 11 | 0.7857143 | 0.1096642 | 0.2411621 | 0.1395726 | 0.2142857 |\n",
       "|  4 | 10 | 0 | 10 | 0.7857143 | 0.1096642 | 0.2411621 | 0.1395726 | 0.0000000 |\n",
       "|  5 |  9 | 1 |  8 | 0.6984127 | 0.1275811 | 0.3589451 | 0.1826730 | 0.1111111 |\n",
       "|  7 |  8 | 1 |  7 | 0.6111111 | 0.1383145 | 0.4924765 | 0.2263328 | 0.1250000 |\n",
       "|  8 |  7 | 1 |  6 | 0.5238095 | 0.1434856 | 0.6466272 | 0.2739271 | 0.1428571 |\n",
       "| 10 |  6 | 1 |  5 | 0.4365079 | 0.1436963 | 0.8289487 | 0.3291951 | 0.1666667 |\n",
       "| 12 |  4 | 0 |  4 | 0.4365079 | 0.1436963 | 0.8289487 | 0.3291951 | 0.0000000 |\n",
       "| 16 |  3 | 0 |  3 | 0.4365079 | 0.1436963 | 0.8289487 | 0.3291951 | 0.0000000 |\n",
       "\n"
      ],
      "text/plain": [
       "  time N  D S  S_hat     S_hat_se  H_hat     H_hat_se  h_hat    \n",
       "1  1   14 3 11 0.7857143 0.1096642 0.2411621 0.1395726 0.2142857\n",
       "2  4   10 0 10 0.7857143 0.1096642 0.2411621 0.1395726 0.0000000\n",
       "3  5    9 1  8 0.6984127 0.1275811 0.3589451 0.1826730 0.1111111\n",
       "4  7    8 1  7 0.6111111 0.1383145 0.4924765 0.2263328 0.1250000\n",
       "5  8    7 1  6 0.5238095 0.1434856 0.6466272 0.2739271 0.1428571\n",
       "6 10    6 1  5 0.4365079 0.1436963 0.8289487 0.3291951 0.1666667\n",
       "7 12    4 0  4 0.4365079 0.1436963 0.8289487 0.3291951 0.0000000\n",
       "8 16    3 0  3 0.4365079 0.1436963 0.8289487 0.3291951 0.0000000"
      ]
     },
     "metadata": {},
     "output_type": "display_data"
    }
   ],
   "source": [
    "treat_km"
   ]
  },
  {
   "cell_type": "code",
   "execution_count": 5,
   "metadata": {
    "vscode": {
     "languageId": "r"
    }
   },
   "outputs": [
    {
     "data": {
      "text/html": [
       "<table class=\"dataframe\">\n",
       "<caption>A tibble: 5 × 9</caption>\n",
       "<thead>\n",
       "\t<tr><th scope=col>time</th><th scope=col>N</th><th scope=col>D</th><th scope=col>S</th><th scope=col>S_hat</th><th scope=col>S_hat_se</th><th scope=col>H_hat</th><th scope=col>H_hat_se</th><th scope=col>h_hat</th></tr>\n",
       "\t<tr><th scope=col>&lt;dbl&gt;</th><th scope=col>&lt;int&gt;</th><th scope=col>&lt;dbl&gt;</th><th scope=col>&lt;dbl&gt;</th><th scope=col>&lt;dbl&gt;</th><th scope=col>&lt;dbl&gt;</th><th scope=col>&lt;dbl&gt;</th><th scope=col>&lt;dbl&gt;</th><th scope=col>&lt;dbl&gt;</th></tr>\n",
       "</thead>\n",
       "<tbody>\n",
       "\t<tr><td> 1</td><td>15</td><td>0</td><td>15</td><td>1.0000000</td><td>0.00000000</td><td>0.00000000</td><td>0.00000000</td><td>0.00000000</td></tr>\n",
       "\t<tr><td> 2</td><td>14</td><td>1</td><td>13</td><td>0.9285714</td><td>0.06883029</td><td>0.07410797</td><td>0.07412493</td><td>0.07142857</td></tr>\n",
       "\t<tr><td> 3</td><td>13</td><td>2</td><td>11</td><td>0.7857143</td><td>0.10966421</td><td>0.24116206</td><td>0.13957263</td><td>0.15384615</td></tr>\n",
       "\t<tr><td> 5</td><td>10</td><td>2</td><td> 8</td><td>0.6285714</td><td>0.13256826</td><td>0.46430561</td><td>0.21090405</td><td>0.20000000</td></tr>\n",
       "\t<tr><td>16</td><td> 8</td><td>0</td><td> 8</td><td>0.6285714</td><td>0.13256826</td><td>0.46430561</td><td>0.21090405</td><td>0.00000000</td></tr>\n",
       "</tbody>\n",
       "</table>\n"
      ],
      "text/latex": [
       "A tibble: 5 × 9\n",
       "\\begin{tabular}{lllllllll}\n",
       " time & N & D & S & S\\_hat & S\\_hat\\_se & H\\_hat & H\\_hat\\_se & h\\_hat\\\\\n",
       " <dbl> & <int> & <dbl> & <dbl> & <dbl> & <dbl> & <dbl> & <dbl> & <dbl>\\\\\n",
       "\\hline\n",
       "\t  1 & 15 & 0 & 15 & 1.0000000 & 0.00000000 & 0.00000000 & 0.00000000 & 0.00000000\\\\\n",
       "\t  2 & 14 & 1 & 13 & 0.9285714 & 0.06883029 & 0.07410797 & 0.07412493 & 0.07142857\\\\\n",
       "\t  3 & 13 & 2 & 11 & 0.7857143 & 0.10966421 & 0.24116206 & 0.13957263 & 0.15384615\\\\\n",
       "\t  5 & 10 & 2 &  8 & 0.6285714 & 0.13256826 & 0.46430561 & 0.21090405 & 0.20000000\\\\\n",
       "\t 16 &  8 & 0 &  8 & 0.6285714 & 0.13256826 & 0.46430561 & 0.21090405 & 0.00000000\\\\\n",
       "\\end{tabular}\n"
      ],
      "text/markdown": [
       "\n",
       "A tibble: 5 × 9\n",
       "\n",
       "| time &lt;dbl&gt; | N &lt;int&gt; | D &lt;dbl&gt; | S &lt;dbl&gt; | S_hat &lt;dbl&gt; | S_hat_se &lt;dbl&gt; | H_hat &lt;dbl&gt; | H_hat_se &lt;dbl&gt; | h_hat &lt;dbl&gt; |\n",
       "|---|---|---|---|---|---|---|---|---|\n",
       "|  1 | 15 | 0 | 15 | 1.0000000 | 0.00000000 | 0.00000000 | 0.00000000 | 0.00000000 |\n",
       "|  2 | 14 | 1 | 13 | 0.9285714 | 0.06883029 | 0.07410797 | 0.07412493 | 0.07142857 |\n",
       "|  3 | 13 | 2 | 11 | 0.7857143 | 0.10966421 | 0.24116206 | 0.13957263 | 0.15384615 |\n",
       "|  5 | 10 | 2 |  8 | 0.6285714 | 0.13256826 | 0.46430561 | 0.21090405 | 0.20000000 |\n",
       "| 16 |  8 | 0 |  8 | 0.6285714 | 0.13256826 | 0.46430561 | 0.21090405 | 0.00000000 |\n",
       "\n"
      ],
      "text/plain": [
       "  time N  D S  S_hat     S_hat_se   H_hat      H_hat_se   h_hat     \n",
       "1  1   15 0 15 1.0000000 0.00000000 0.00000000 0.00000000 0.00000000\n",
       "2  2   14 1 13 0.9285714 0.06883029 0.07410797 0.07412493 0.07142857\n",
       "3  3   13 2 11 0.7857143 0.10966421 0.24116206 0.13957263 0.15384615\n",
       "4  5   10 2  8 0.6285714 0.13256826 0.46430561 0.21090405 0.20000000\n",
       "5 16    8 0  8 0.6285714 0.13256826 0.46430561 0.21090405 0.00000000"
      ]
     },
     "metadata": {},
     "output_type": "display_data"
    }
   ],
   "source": [
    "control_km"
   ]
  },
  {
   "cell_type": "markdown",
   "metadata": {},
   "source": [
    "**(b) Find 95\\% confidence interval for log($S_i (t)$) at each time point in Table (a) (hint: you may use the result from Q4(b)) .**"
   ]
  },
  {
   "cell_type": "markdown",
   "metadata": {},
   "source": [
    "We can calculate the standard error using the delta method formulas from above. Then, we turn this into a confidence interval."
   ]
  },
  {
   "cell_type": "code",
   "execution_count": 6,
   "metadata": {
    "vscode": {
     "languageId": "r"
    }
   },
   "outputs": [],
   "source": [
    "km = treat_km\n",
    "\n",
    "calc_log_S = function(km) {\n",
    "    km %>%\n",
    "        mutate(\n",
    "            # the formulas from question 4\n",
    "            log_S_hat = log(S_hat),\n",
    "            log_S_hat_se = S_hat_se / S_hat,\n",
    "            \n",
    "            # turn these into a confidence interval\n",
    "            log_S_hat_lower = log_S_hat - 1.96*log_S_hat_se,\n",
    "            log_S_hat_upper = log_S_hat + 1.96*log_S_hat_se\n",
    "        )\n",
    "}\n",
    "\n",
    "treat_km = calc_log_S(treat_km)\n",
    "control_km = calc_log_S(control_km)"
   ]
  },
  {
   "cell_type": "markdown",
   "metadata": {},
   "source": [
    "Point estimates, standard errors, and confidence intervals are shown for the log survival function for the treatment and control groups."
   ]
  },
  {
   "cell_type": "code",
   "execution_count": 7,
   "metadata": {
    "vscode": {
     "languageId": "r"
    }
   },
   "outputs": [
    {
     "data": {
      "text/html": [
       "<table class=\"dataframe\">\n",
       "<caption>A tibble: 8 × 5</caption>\n",
       "<thead>\n",
       "\t<tr><th scope=col>time</th><th scope=col>log_S_hat</th><th scope=col>log_S_hat_se</th><th scope=col>log_S_hat_lower</th><th scope=col>log_S_hat_upper</th></tr>\n",
       "\t<tr><th scope=col>&lt;dbl&gt;</th><th scope=col>&lt;dbl&gt;</th><th scope=col>&lt;dbl&gt;</th><th scope=col>&lt;dbl&gt;</th><th scope=col>&lt;dbl&gt;</th></tr>\n",
       "</thead>\n",
       "<tbody>\n",
       "\t<tr><td> 1</td><td>-0.2411621</td><td>0.1395726</td><td>-0.5147244</td><td> 0.0324003010</td></tr>\n",
       "\t<tr><td> 4</td><td>-0.2411621</td><td>0.1395726</td><td>-0.5147244</td><td> 0.0324003010</td></tr>\n",
       "\t<tr><td> 5</td><td>-0.3589451</td><td>0.1826730</td><td>-0.7169841</td><td>-0.0009061013</td></tr>\n",
       "\t<tr><td> 7</td><td>-0.4924765</td><td>0.2263328</td><td>-0.9360888</td><td>-0.0488641327</td></tr>\n",
       "\t<tr><td> 8</td><td>-0.6466272</td><td>0.2739271</td><td>-1.1835243</td><td>-0.1097299812</td></tr>\n",
       "\t<tr><td>10</td><td>-0.8289487</td><td>0.3291951</td><td>-1.4741711</td><td>-0.1837263421</td></tr>\n",
       "\t<tr><td>12</td><td>-0.8289487</td><td>0.3291951</td><td>-1.4741711</td><td>-0.1837263421</td></tr>\n",
       "\t<tr><td>16</td><td>-0.8289487</td><td>0.3291951</td><td>-1.4741711</td><td>-0.1837263421</td></tr>\n",
       "</tbody>\n",
       "</table>\n"
      ],
      "text/latex": [
       "A tibble: 8 × 5\n",
       "\\begin{tabular}{lllll}\n",
       " time & log\\_S\\_hat & log\\_S\\_hat\\_se & log\\_S\\_hat\\_lower & log\\_S\\_hat\\_upper\\\\\n",
       " <dbl> & <dbl> & <dbl> & <dbl> & <dbl>\\\\\n",
       "\\hline\n",
       "\t  1 & -0.2411621 & 0.1395726 & -0.5147244 &  0.0324003010\\\\\n",
       "\t  4 & -0.2411621 & 0.1395726 & -0.5147244 &  0.0324003010\\\\\n",
       "\t  5 & -0.3589451 & 0.1826730 & -0.7169841 & -0.0009061013\\\\\n",
       "\t  7 & -0.4924765 & 0.2263328 & -0.9360888 & -0.0488641327\\\\\n",
       "\t  8 & -0.6466272 & 0.2739271 & -1.1835243 & -0.1097299812\\\\\n",
       "\t 10 & -0.8289487 & 0.3291951 & -1.4741711 & -0.1837263421\\\\\n",
       "\t 12 & -0.8289487 & 0.3291951 & -1.4741711 & -0.1837263421\\\\\n",
       "\t 16 & -0.8289487 & 0.3291951 & -1.4741711 & -0.1837263421\\\\\n",
       "\\end{tabular}\n"
      ],
      "text/markdown": [
       "\n",
       "A tibble: 8 × 5\n",
       "\n",
       "| time &lt;dbl&gt; | log_S_hat &lt;dbl&gt; | log_S_hat_se &lt;dbl&gt; | log_S_hat_lower &lt;dbl&gt; | log_S_hat_upper &lt;dbl&gt; |\n",
       "|---|---|---|---|---|\n",
       "|  1 | -0.2411621 | 0.1395726 | -0.5147244 |  0.0324003010 |\n",
       "|  4 | -0.2411621 | 0.1395726 | -0.5147244 |  0.0324003010 |\n",
       "|  5 | -0.3589451 | 0.1826730 | -0.7169841 | -0.0009061013 |\n",
       "|  7 | -0.4924765 | 0.2263328 | -0.9360888 | -0.0488641327 |\n",
       "|  8 | -0.6466272 | 0.2739271 | -1.1835243 | -0.1097299812 |\n",
       "| 10 | -0.8289487 | 0.3291951 | -1.4741711 | -0.1837263421 |\n",
       "| 12 | -0.8289487 | 0.3291951 | -1.4741711 | -0.1837263421 |\n",
       "| 16 | -0.8289487 | 0.3291951 | -1.4741711 | -0.1837263421 |\n",
       "\n"
      ],
      "text/plain": [
       "  time log_S_hat  log_S_hat_se log_S_hat_lower log_S_hat_upper\n",
       "1  1   -0.2411621 0.1395726    -0.5147244       0.0324003010  \n",
       "2  4   -0.2411621 0.1395726    -0.5147244       0.0324003010  \n",
       "3  5   -0.3589451 0.1826730    -0.7169841      -0.0009061013  \n",
       "4  7   -0.4924765 0.2263328    -0.9360888      -0.0488641327  \n",
       "5  8   -0.6466272 0.2739271    -1.1835243      -0.1097299812  \n",
       "6 10   -0.8289487 0.3291951    -1.4741711      -0.1837263421  \n",
       "7 12   -0.8289487 0.3291951    -1.4741711      -0.1837263421  \n",
       "8 16   -0.8289487 0.3291951    -1.4741711      -0.1837263421  "
      ]
     },
     "metadata": {},
     "output_type": "display_data"
    }
   ],
   "source": [
    "# treatment group\n",
    "treat_km %>%\n",
    "    select(time, log_S_hat, log_S_hat_se, log_S_hat_lower, log_S_hat_upper)"
   ]
  },
  {
   "cell_type": "code",
   "execution_count": 8,
   "metadata": {
    "vscode": {
     "languageId": "r"
    }
   },
   "outputs": [
    {
     "data": {
      "text/html": [
       "<table class=\"dataframe\">\n",
       "<caption>A tibble: 5 × 5</caption>\n",
       "<thead>\n",
       "\t<tr><th scope=col>time</th><th scope=col>log_S_hat</th><th scope=col>log_S_hat_se</th><th scope=col>log_S_hat_lower</th><th scope=col>log_S_hat_upper</th></tr>\n",
       "\t<tr><th scope=col>&lt;dbl&gt;</th><th scope=col>&lt;dbl&gt;</th><th scope=col>&lt;dbl&gt;</th><th scope=col>&lt;dbl&gt;</th><th scope=col>&lt;dbl&gt;</th></tr>\n",
       "</thead>\n",
       "<tbody>\n",
       "\t<tr><td> 1</td><td> 0.00000000</td><td>0.00000000</td><td> 0.0000000</td><td> 0.00000000</td></tr>\n",
       "\t<tr><td> 2</td><td>-0.07410797</td><td>0.07412493</td><td>-0.2193928</td><td> 0.07117689</td></tr>\n",
       "\t<tr><td> 3</td><td>-0.24116206</td><td>0.13957263</td><td>-0.5147244</td><td> 0.03240030</td></tr>\n",
       "\t<tr><td> 5</td><td>-0.46430561</td><td>0.21090405</td><td>-0.8776776</td><td>-0.05093366</td></tr>\n",
       "\t<tr><td>16</td><td>-0.46430561</td><td>0.21090405</td><td>-0.8776776</td><td>-0.05093366</td></tr>\n",
       "</tbody>\n",
       "</table>\n"
      ],
      "text/latex": [
       "A tibble: 5 × 5\n",
       "\\begin{tabular}{lllll}\n",
       " time & log\\_S\\_hat & log\\_S\\_hat\\_se & log\\_S\\_hat\\_lower & log\\_S\\_hat\\_upper\\\\\n",
       " <dbl> & <dbl> & <dbl> & <dbl> & <dbl>\\\\\n",
       "\\hline\n",
       "\t  1 &  0.00000000 & 0.00000000 &  0.0000000 &  0.00000000\\\\\n",
       "\t  2 & -0.07410797 & 0.07412493 & -0.2193928 &  0.07117689\\\\\n",
       "\t  3 & -0.24116206 & 0.13957263 & -0.5147244 &  0.03240030\\\\\n",
       "\t  5 & -0.46430561 & 0.21090405 & -0.8776776 & -0.05093366\\\\\n",
       "\t 16 & -0.46430561 & 0.21090405 & -0.8776776 & -0.05093366\\\\\n",
       "\\end{tabular}\n"
      ],
      "text/markdown": [
       "\n",
       "A tibble: 5 × 5\n",
       "\n",
       "| time &lt;dbl&gt; | log_S_hat &lt;dbl&gt; | log_S_hat_se &lt;dbl&gt; | log_S_hat_lower &lt;dbl&gt; | log_S_hat_upper &lt;dbl&gt; |\n",
       "|---|---|---|---|---|\n",
       "|  1 |  0.00000000 | 0.00000000 |  0.0000000 |  0.00000000 |\n",
       "|  2 | -0.07410797 | 0.07412493 | -0.2193928 |  0.07117689 |\n",
       "|  3 | -0.24116206 | 0.13957263 | -0.5147244 |  0.03240030 |\n",
       "|  5 | -0.46430561 | 0.21090405 | -0.8776776 | -0.05093366 |\n",
       "| 16 | -0.46430561 | 0.21090405 | -0.8776776 | -0.05093366 |\n",
       "\n"
      ],
      "text/plain": [
       "  time log_S_hat   log_S_hat_se log_S_hat_lower log_S_hat_upper\n",
       "1  1    0.00000000 0.00000000    0.0000000       0.00000000    \n",
       "2  2   -0.07410797 0.07412493   -0.2193928       0.07117689    \n",
       "3  3   -0.24116206 0.13957263   -0.5147244       0.03240030    \n",
       "4  5   -0.46430561 0.21090405   -0.8776776      -0.05093366    \n",
       "5 16   -0.46430561 0.21090405   -0.8776776      -0.05093366    "
      ]
     },
     "metadata": {},
     "output_type": "display_data"
    }
   ],
   "source": [
    "# control group\n",
    "control_km %>%\n",
    "    select(time, log_S_hat, log_S_hat_se, log_S_hat_lower, log_S_hat_upper)"
   ]
  },
  {
   "cell_type": "markdown",
   "metadata": {},
   "source": [
    "**(c) Find 95\\% confidence interval for $S_i (t)$ at each time point in Table (a) using the exponential transformation from (b).**"
   ]
  },
  {
   "cell_type": "markdown",
   "metadata": {},
   "source": [
    "I'm going to interpret this as asking me to apply the exponential function to the bounds derived in the last question. This is the exponential of the log bounds, so this is a confidence interval around the value of the survival function for each group at each time point."
   ]
  },
  {
   "cell_type": "code",
   "execution_count": 9,
   "metadata": {
    "vscode": {
     "languageId": "r"
    }
   },
   "outputs": [
    {
     "data": {
      "text/html": [
       "<table class=\"dataframe\">\n",
       "<caption>A tibble: 8 × 4</caption>\n",
       "<thead>\n",
       "\t<tr><th scope=col>time</th><th scope=col>S_hat</th><th scope=col>exp_log_S_hat_lower</th><th scope=col>exp_log_S_hat_upper</th></tr>\n",
       "\t<tr><th scope=col>&lt;dbl&gt;</th><th scope=col>&lt;dbl&gt;</th><th scope=col>&lt;dbl&gt;</th><th scope=col>&lt;dbl&gt;</th></tr>\n",
       "</thead>\n",
       "<tbody>\n",
       "\t<tr><td> 1</td><td>0.7857143</td><td>0.5976653</td><td>1.0329309</td></tr>\n",
       "\t<tr><td> 4</td><td>0.7857143</td><td>0.5976653</td><td>1.0329309</td></tr>\n",
       "\t<tr><td> 5</td><td>0.6984127</td><td>0.4882225</td><td>0.9990943</td></tr>\n",
       "\t<tr><td> 7</td><td>0.6111111</td><td>0.3921586</td><td>0.9523105</td></tr>\n",
       "\t<tr><td> 8</td><td>0.5238095</td><td>0.3061977</td><td>0.8960761</td></tr>\n",
       "\t<tr><td>10</td><td>0.4365079</td><td>0.2289684</td><td>0.8321635</td></tr>\n",
       "\t<tr><td>12</td><td>0.4365079</td><td>0.2289684</td><td>0.8321635</td></tr>\n",
       "\t<tr><td>16</td><td>0.4365079</td><td>0.2289684</td><td>0.8321635</td></tr>\n",
       "</tbody>\n",
       "</table>\n"
      ],
      "text/latex": [
       "A tibble: 8 × 4\n",
       "\\begin{tabular}{llll}\n",
       " time & S\\_hat & exp\\_log\\_S\\_hat\\_lower & exp\\_log\\_S\\_hat\\_upper\\\\\n",
       " <dbl> & <dbl> & <dbl> & <dbl>\\\\\n",
       "\\hline\n",
       "\t  1 & 0.7857143 & 0.5976653 & 1.0329309\\\\\n",
       "\t  4 & 0.7857143 & 0.5976653 & 1.0329309\\\\\n",
       "\t  5 & 0.6984127 & 0.4882225 & 0.9990943\\\\\n",
       "\t  7 & 0.6111111 & 0.3921586 & 0.9523105\\\\\n",
       "\t  8 & 0.5238095 & 0.3061977 & 0.8960761\\\\\n",
       "\t 10 & 0.4365079 & 0.2289684 & 0.8321635\\\\\n",
       "\t 12 & 0.4365079 & 0.2289684 & 0.8321635\\\\\n",
       "\t 16 & 0.4365079 & 0.2289684 & 0.8321635\\\\\n",
       "\\end{tabular}\n"
      ],
      "text/markdown": [
       "\n",
       "A tibble: 8 × 4\n",
       "\n",
       "| time &lt;dbl&gt; | S_hat &lt;dbl&gt; | exp_log_S_hat_lower &lt;dbl&gt; | exp_log_S_hat_upper &lt;dbl&gt; |\n",
       "|---|---|---|---|\n",
       "|  1 | 0.7857143 | 0.5976653 | 1.0329309 |\n",
       "|  4 | 0.7857143 | 0.5976653 | 1.0329309 |\n",
       "|  5 | 0.6984127 | 0.4882225 | 0.9990943 |\n",
       "|  7 | 0.6111111 | 0.3921586 | 0.9523105 |\n",
       "|  8 | 0.5238095 | 0.3061977 | 0.8960761 |\n",
       "| 10 | 0.4365079 | 0.2289684 | 0.8321635 |\n",
       "| 12 | 0.4365079 | 0.2289684 | 0.8321635 |\n",
       "| 16 | 0.4365079 | 0.2289684 | 0.8321635 |\n",
       "\n"
      ],
      "text/plain": [
       "  time S_hat     exp_log_S_hat_lower exp_log_S_hat_upper\n",
       "1  1   0.7857143 0.5976653           1.0329309          \n",
       "2  4   0.7857143 0.5976653           1.0329309          \n",
       "3  5   0.6984127 0.4882225           0.9990943          \n",
       "4  7   0.6111111 0.3921586           0.9523105          \n",
       "5  8   0.5238095 0.3061977           0.8960761          \n",
       "6 10   0.4365079 0.2289684           0.8321635          \n",
       "7 12   0.4365079 0.2289684           0.8321635          \n",
       "8 16   0.4365079 0.2289684           0.8321635          "
      ]
     },
     "metadata": {},
     "output_type": "display_data"
    }
   ],
   "source": [
    "treat_km = treat_km %>%\n",
    "    mutate(\n",
    "        exp_log_S_hat_lower = exp(log_S_hat_lower),\n",
    "        exp_log_S_hat_upper = exp(log_S_hat_upper)\n",
    "    )\n",
    "\n",
    "treat_km %>%\n",
    "    select(time, S_hat, exp_log_S_hat_lower, exp_log_S_hat_upper)"
   ]
  },
  {
   "cell_type": "code",
   "execution_count": 10,
   "metadata": {
    "vscode": {
     "languageId": "r"
    }
   },
   "outputs": [
    {
     "data": {
      "text/html": [
       "<table class=\"dataframe\">\n",
       "<caption>A tibble: 5 × 4</caption>\n",
       "<thead>\n",
       "\t<tr><th scope=col>time</th><th scope=col>S_hat</th><th scope=col>exp_log_S_hat_lower</th><th scope=col>exp_log_S_hat_upper</th></tr>\n",
       "\t<tr><th scope=col>&lt;dbl&gt;</th><th scope=col>&lt;dbl&gt;</th><th scope=col>&lt;dbl&gt;</th><th scope=col>&lt;dbl&gt;</th></tr>\n",
       "</thead>\n",
       "<tbody>\n",
       "\t<tr><td> 1</td><td>1.0000000</td><td>1.0000000</td><td>1.0000000</td></tr>\n",
       "\t<tr><td> 2</td><td>0.9285714</td><td>0.8030062</td><td>1.0737712</td></tr>\n",
       "\t<tr><td> 3</td><td>0.7857143</td><td>0.5976653</td><td>1.0329309</td></tr>\n",
       "\t<tr><td> 5</td><td>0.6285714</td><td>0.4157473</td><td>0.9503417</td></tr>\n",
       "\t<tr><td>16</td><td>0.6285714</td><td>0.4157473</td><td>0.9503417</td></tr>\n",
       "</tbody>\n",
       "</table>\n"
      ],
      "text/latex": [
       "A tibble: 5 × 4\n",
       "\\begin{tabular}{llll}\n",
       " time & S\\_hat & exp\\_log\\_S\\_hat\\_lower & exp\\_log\\_S\\_hat\\_upper\\\\\n",
       " <dbl> & <dbl> & <dbl> & <dbl>\\\\\n",
       "\\hline\n",
       "\t  1 & 1.0000000 & 1.0000000 & 1.0000000\\\\\n",
       "\t  2 & 0.9285714 & 0.8030062 & 1.0737712\\\\\n",
       "\t  3 & 0.7857143 & 0.5976653 & 1.0329309\\\\\n",
       "\t  5 & 0.6285714 & 0.4157473 & 0.9503417\\\\\n",
       "\t 16 & 0.6285714 & 0.4157473 & 0.9503417\\\\\n",
       "\\end{tabular}\n"
      ],
      "text/markdown": [
       "\n",
       "A tibble: 5 × 4\n",
       "\n",
       "| time &lt;dbl&gt; | S_hat &lt;dbl&gt; | exp_log_S_hat_lower &lt;dbl&gt; | exp_log_S_hat_upper &lt;dbl&gt; |\n",
       "|---|---|---|---|\n",
       "|  1 | 1.0000000 | 1.0000000 | 1.0000000 |\n",
       "|  2 | 0.9285714 | 0.8030062 | 1.0737712 |\n",
       "|  3 | 0.7857143 | 0.5976653 | 1.0329309 |\n",
       "|  5 | 0.6285714 | 0.4157473 | 0.9503417 |\n",
       "| 16 | 0.6285714 | 0.4157473 | 0.9503417 |\n",
       "\n"
      ],
      "text/plain": [
       "  time S_hat     exp_log_S_hat_lower exp_log_S_hat_upper\n",
       "1  1   1.0000000 1.0000000           1.0000000          \n",
       "2  2   0.9285714 0.8030062           1.0737712          \n",
       "3  3   0.7857143 0.5976653           1.0329309          \n",
       "4  5   0.6285714 0.4157473           0.9503417          \n",
       "5 16   0.6285714 0.4157473           0.9503417          "
      ]
     },
     "metadata": {},
     "output_type": "display_data"
    }
   ],
   "source": [
    "control_km = control_km %>%\n",
    "    mutate(\n",
    "        exp_log_S_hat_lower = exp(log_S_hat_lower),\n",
    "        exp_log_S_hat_upper = exp(log_S_hat_upper)\n",
    "    )\n",
    "\n",
    "control_km %>%\n",
    "    select(time, S_hat, exp_log_S_hat_lower, exp_log_S_hat_upper)"
   ]
  },
  {
   "cell_type": "markdown",
   "metadata": {},
   "source": [
    "**(d) For the Steroid group, assume that survival times are distributed according to a Weibull distribution with parameters $\\lambda$ and $\\gamma$, the hazard and survival functions can be written as**\n",
    "\n",
    "$$\n",
    "h(t) = \\lambda \\gamma t^{\\gamma -1}\n",
    "$$\n",
    "$$\n",
    "S(t) = e^{-\\lambda t^{\\gamma}}\n",
    "$$"
   ]
  },
  {
   "cell_type": "markdown",
   "metadata": {},
   "source": [
    "**(i) Write down the likelihood function for the Steroid data; (ii) Explain briefly how you might find the maximum-likelihood estimates of $\\lambda$ and $\\gamma$ (do not attempt to find them); (iii) (Bonus) find the maximum-likelihood estimates of $\\lambda$ and $\\gamma$.**"
   ]
  },
  {
   "cell_type": "markdown",
   "metadata": {},
   "source": [
    "Let $X_i$ denote the time associated with the ith unit. Let $T_i$ be an indicator variable for whether the ith unit is censored. Let $C_i$ be an indicator variable for whether the ith unit is censored.\n",
    "\n",
    "Let $f(x) = P(X = x | \\lambda, \\gamma)$ be the pdf of the Weibull distribution.\n",
    "\n",
    "Then, we can write the likelihood for the treatment group as,\n",
    "\n",
    "$$\n",
    "L_T(\\lambda, \\gamma) = \\prod_{i = 1}^n (f(X_i)^{1 - C_i}S(X_i)^{C_i})^{T_i}\n",
    "$$\n",
    "\n",
    "By the definition of the hazard function, we can write,\n",
    "\n",
    "$$\n",
    "h(x) = {f(x) \\over S(x)}\n",
    "$$\n",
    "\n",
    "Then,\n",
    "\n",
    "$$\n",
    "f(x) = S(x)h(x)\n",
    "$$\n",
    "\n",
    "Then,\n",
    "\n",
    "$$\n",
    "L_T(\\lambda, \\gamma) = \\prod_{i = 1}^n (h(X_i)^{1 - C_i}S(X_i))^{T_i}\n",
    "$$\n",
    "\n",
    "Substitute the parametric form of $h$ and $S$.\n",
    "\n",
    "$$\n",
    "L_T(\\lambda, \\gamma) = \\prod_{i = 1}^n ((\\lambda \\gamma X_i^{\\gamma -1})^{1 - C_i}\\exp(-\\lambda X_i^{\\gamma}))^{T_i}\n",
    "$$\n",
    "\n",
    "To find the maximum likelihood, we could take the derivative of the log likelihood, set this to zero, and solve for $\\lambda$ and $\\gamma$."
   ]
  },
  {
   "cell_type": "markdown",
   "metadata": {},
   "source": [
    "**(e) Plot Kaplan-Meier survival curve (using either R or SAS) for each group. Can you assume the survival time follows Weibull distribution and why?**"
   ]
  },
  {
   "cell_type": "code",
   "execution_count": 11,
   "metadata": {
    "vscode": {
     "languageId": "r"
    }
   },
   "outputs": [
    {
     "data": {
      "image/png": "[encoded data removed]",
      "text/plain": [
       "Plot with title “Kaplan-Meier Survival Curves”"
      ]
     },
     "metadata": {
      "image/png": {
       "height": 420,
       "width": 420
      }
     },
     "output_type": "display_data"
    }
   ],
   "source": [
    "par(bg=\"white\")\n",
    "plot(treat_km$time, treat_km$S_hat, type=\"S\", col=\"red\", \n",
    "     xlab=\"Time\", ylab=\"Survival Probability\",\n",
    "     main=\"Kaplan-Meier Survival Curves\")\n",
    "lines(control_km$time, control_km$S_hat, type=\"S\", col=\"blue\")\n",
    "legend(\"topright\", legend=c(\"Treatment\", \"Control\"), \n",
    "       col=c(\"red\", \"blue\"), lty=1)"
   ]
  },
  {
   "cell_type": "markdown",
   "metadata": {},
   "source": [
    "Yes, it would be reasonable to model these using a Weibull distribution. A Weibull distribution is similar to an exponential distribution except that instead of the hazard rate being constant, it's a scaled power of time. This distribution has the right support---it will only predict positive numbers for survival time. And, it has a nice interpretation in terms of survival analysis---hazard rate is modeled as following a scaled power, which can be thought of as modeling \"aging\", where the instantaneous probability of death is rising or falling over time.\n",
    "\n",
    "All models, especially parametric models, are wrong. But, for survival datasets, the Weibull is often a good choice."
   ]
  },
  {
   "cell_type": "markdown",
   "metadata": {},
   "source": [
    "**(f) Find a p-value from log-rank test between two groups by hand (by yourself). Double-check the result with SAS or R function. Please state the null and alternative hypotheses.**"
   ]
  },
  {
   "cell_type": "code",
   "execution_count": 12,
   "metadata": {
    "vscode": {
     "languageId": "r"
    }
   },
   "outputs": [
    {
     "data": {
      "text/html": [
       "<table class=\"dataframe\">\n",
       "<caption>A tibble: 1 × 6</caption>\n",
       "<thead>\n",
       "\t<tr><th scope=col>sum(D_treat)</th><th scope=col>sum(E_treat)</th><th scope=col>sum_resid_treat</th><th scope=col>sum_V</th><th scope=col>test_statistic</th><th scope=col>p_value</th></tr>\n",
       "\t<tr><th scope=col>&lt;dbl&gt;</th><th scope=col>&lt;dbl&gt;</th><th scope=col>&lt;dbl&gt;</th><th scope=col>&lt;dbl&gt;</th><th scope=col>&lt;dbl&gt;</th><th scope=col>&lt;dbl&gt;</th></tr>\n",
       "</thead>\n",
       "<tbody>\n",
       "\t<tr><td>7</td><td>5.637575</td><td>1.362425</td><td>2.814033</td><td>0.8121721</td><td>0.4166929</td></tr>\n",
       "</tbody>\n",
       "</table>\n"
      ],
      "text/latex": [
       "A tibble: 1 × 6\n",
       "\\begin{tabular}{llllll}\n",
       " sum(D\\_treat) & sum(E\\_treat) & sum\\_resid\\_treat & sum\\_V & test\\_statistic & p\\_value\\\\\n",
       " <dbl> & <dbl> & <dbl> & <dbl> & <dbl> & <dbl>\\\\\n",
       "\\hline\n",
       "\t 7 & 5.637575 & 1.362425 & 2.814033 & 0.8121721 & 0.4166929\\\\\n",
       "\\end{tabular}\n"
      ],
      "text/markdown": [
       "\n",
       "A tibble: 1 × 6\n",
       "\n",
       "| sum(D_treat) &lt;dbl&gt; | sum(E_treat) &lt;dbl&gt; | sum_resid_treat &lt;dbl&gt; | sum_V &lt;dbl&gt; | test_statistic &lt;dbl&gt; | p_value &lt;dbl&gt; |\n",
       "|---|---|---|---|---|---|\n",
       "| 7 | 5.637575 | 1.362425 | 2.814033 | 0.8121721 | 0.4166929 |\n",
       "\n"
      ],
      "text/plain": [
       "  sum(D_treat) sum(E_treat) sum_resid_treat sum_V    test_statistic p_value  \n",
       "1 7            5.637575     1.362425        2.814033 0.8121721      0.4166929"
      ]
     },
     "metadata": {},
     "output_type": "display_data"
    }
   ],
   "source": [
    "treat_km %>%\n",
    "    select(time, D, N) %>%\n",
    "    full_join(\n",
    "        control_km %>%\n",
    "            select(time, D, N),\n",
    "        by=\"time\",\n",
    "        suffix = c(\"_treat\", \"_control\")\n",
    "    ) %>%\n",
    "    mutate(\n",
    "        across(c(D_treat, D_control), ~replace_na(., 0))\n",
    "    ) %>%\n",
    "    arrange(time) %>%\n",
    "    fill(N_treat, N_control, .direction=\"down\") %>%\n",
    "    mutate(\n",
    "        D_total = D_treat + D_control,\n",
    "        N_total = N_treat + N_control,\n",
    "        E_treat = (N_treat / N_total) * D_total,\n",
    "        V = N_treat*N_control*D_total*(N_total-D_total)/(N_total^2*(N_total - 1)),\n",
    "    ) %>%\n",
    "    summarize(\n",
    "        sum(D_treat),\n",
    "        sum(E_treat),\n",
    "        sum_resid_treat = sum(D_treat - E_treat),\n",
    "        sum_V = sum(V)\n",
    "    ) %>%\n",
    "    mutate(\n",
    "        test_statistic = sum_resid_treat/sqrt(sum_V),\n",
    "        p_value = 2*pnorm(q = test_statistic, mean = 0, sd = 1, lower.tail = FALSE)\n",
    "    )"
   ]
  },
  {
   "cell_type": "markdown",
   "metadata": {},
   "source": [
    "The null hypothesis here is that the survival functions are the same for the two groups, $S_T = S_C$. The alternate is that they are different, $S_T \\ne S_C$. This test works under the assumption that the ratio between the two survival functions is constant. We got a p-value of 0.4166929, indicating that we cannot reject the null that the two groups have the same survival functions."
   ]
  },
  {
   "cell_type": "code",
   "execution_count": 13,
   "metadata": {
    "vscode": {
     "languageId": "r"
    }
   },
   "outputs": [
    {
     "data": {
      "text/plain": [
       "Call:\n",
       "survdiff(formula = Surv(time, status) ~ treat, data = data %>% \n",
       "    mutate(status = 1 - censored))\n",
       "\n",
       "         N Observed Expected (O-E)^2/E (O-E)^2/V\n",
       "treat=0 15        5     6.45     0.326     0.746\n",
       "treat=1 14        7     5.55     0.378     0.746\n",
       "\n",
       " Chisq= 0.7  on 1 degrees of freedom, p= 0.4 "
      ]
     },
     "metadata": {},
     "output_type": "display_data"
    }
   ],
   "source": [
    "survdiff(\n",
    "    Surv(time, status) ~ treat,\n",
    "    data = data %>%\n",
    "        mutate(status = 1 - censored)\n",
    ")"
   ]
  },
  {
   "cell_type": "markdown",
   "metadata": {},
   "source": [
    "**(g) Estimate median survival time and its 95\\% confidence interval for each group from SAS or R function first, and do it by hand (by yourself) late.**"
   ]
  },
  {
   "cell_type": "code",
   "execution_count": 14,
   "metadata": {
    "vscode": {
     "languageId": "r"
    }
   },
   "outputs": [
    {
     "data": {
      "text/html": [
       "<dl>\n",
       "\t<dt>$quantile</dt>\n",
       "\t\t<dd><table class=\"dataframe\">\n",
       "<caption>A matrix: 2 × 1 of type dbl</caption>\n",
       "<thead>\n",
       "\t<tr><th></th><th scope=col>50</th></tr>\n",
       "</thead>\n",
       "<tbody>\n",
       "\t<tr><th scope=row>treat=0</th><td>NA</td></tr>\n",
       "\t<tr><th scope=row>treat=1</th><td>10</td></tr>\n",
       "</tbody>\n",
       "</table>\n",
       "</dd>\n",
       "\t<dt>$lower</dt>\n",
       "\t\t<dd><table class=\"dataframe\">\n",
       "<caption>A matrix: 2 × 1 of type dbl</caption>\n",
       "<thead>\n",
       "\t<tr><th></th><th scope=col>50</th></tr>\n",
       "</thead>\n",
       "<tbody>\n",
       "\t<tr><th scope=row>treat=0</th><td>5</td></tr>\n",
       "\t<tr><th scope=row>treat=1</th><td>5</td></tr>\n",
       "</tbody>\n",
       "</table>\n",
       "</dd>\n",
       "\t<dt>$upper</dt>\n",
       "\t\t<dd><table class=\"dataframe\">\n",
       "<caption>A matrix: 2 × 1 of type dbl</caption>\n",
       "<thead>\n",
       "\t<tr><th></th><th scope=col>50</th></tr>\n",
       "</thead>\n",
       "<tbody>\n",
       "\t<tr><th scope=row>treat=0</th><td>NA</td></tr>\n",
       "\t<tr><th scope=row>treat=1</th><td>NA</td></tr>\n",
       "</tbody>\n",
       "</table>\n",
       "</dd>\n",
       "</dl>\n"
      ],
      "text/latex": [
       "\\begin{description}\n",
       "\\item[\\$quantile] A matrix: 2 × 1 of type dbl\n",
       "\\begin{tabular}{r|l}\n",
       "  & 50\\\\\n",
       "\\hline\n",
       "\ttreat=0 & NA\\\\\n",
       "\ttreat=1 & 10\\\\\n",
       "\\end{tabular}\n",
       "\n",
       "\\item[\\$lower] A matrix: 2 × 1 of type dbl\n",
       "\\begin{tabular}{r|l}\n",
       "  & 50\\\\\n",
       "\\hline\n",
       "\ttreat=0 & 5\\\\\n",
       "\ttreat=1 & 5\\\\\n",
       "\\end{tabular}\n",
       "\n",
       "\\item[\\$upper] A matrix: 2 × 1 of type dbl\n",
       "\\begin{tabular}{r|l}\n",
       "  & 50\\\\\n",
       "\\hline\n",
       "\ttreat=0 & NA\\\\\n",
       "\ttreat=1 & NA\\\\\n",
       "\\end{tabular}\n",
       "\n",
       "\\end{description}\n"
      ],
      "text/markdown": [
       "$quantile\n",
       ":   \n",
       "A matrix: 2 × 1 of type dbl\n",
       "\n",
       "| <!--/--> | 50 |\n",
       "|---|---|\n",
       "| treat=0 | NA |\n",
       "| treat=1 | 10 |\n",
       "\n",
       "\n",
       "$lower\n",
       ":   \n",
       "A matrix: 2 × 1 of type dbl\n",
       "\n",
       "| <!--/--> | 50 |\n",
       "|---|---|\n",
       "| treat=0 | 5 |\n",
       "| treat=1 | 5 |\n",
       "\n",
       "\n",
       "$upper\n",
       ":   \n",
       "A matrix: 2 × 1 of type dbl\n",
       "\n",
       "| <!--/--> | 50 |\n",
       "|---|---|\n",
       "| treat=0 | NA |\n",
       "| treat=1 | NA |\n",
       "\n",
       "\n",
       "\n",
       "\n"
      ],
      "text/plain": [
       "$quantile\n",
       "        50\n",
       "treat=0 NA\n",
       "treat=1 10\n",
       "\n",
       "$lower\n",
       "        50\n",
       "treat=0  5\n",
       "treat=1  5\n",
       "\n",
       "$upper\n",
       "        50\n",
       "treat=0 NA\n",
       "treat=1 NA\n"
      ]
     },
     "metadata": {},
     "output_type": "display_data"
    }
   ],
   "source": [
    "fit = survfit(\n",
    "    Surv(time, status) ~ treat,\n",
    "    data = data %>%\n",
    "        mutate(status = 1 - censored),\n",
    "    conf.int = 0.95\n",
    ")\n",
    "quantile(fit, probs = 0.5)"
   ]
  },
  {
   "cell_type": "markdown",
   "metadata": {},
   "source": [
    "So, the estimate of the median survival time is 10 for treatment and greater than 15 for control. The 95% lower bound is 5 for both groups. The 95% upper bound is greater than 15 for control and greater than 14 for treatment."
   ]
  },
  {
   "cell_type": "markdown",
   "metadata": {},
   "source": [
    "To calculate the median and confidence interval by hand, we can can just examine the log confidence intervals created earlier."
   ]
  },
  {
   "cell_type": "code",
   "execution_count": 15,
   "metadata": {
    "vscode": {
     "languageId": "r"
    }
   },
   "outputs": [
    {
     "data": {
      "text/html": [
       "<table class=\"dataframe\">\n",
       "<caption>A tibble: 8 × 4</caption>\n",
       "<thead>\n",
       "\t<tr><th scope=col>time</th><th scope=col>S_hat</th><th scope=col>exp_log_S_hat_lower</th><th scope=col>exp_log_S_hat_upper</th></tr>\n",
       "\t<tr><th scope=col>&lt;dbl&gt;</th><th scope=col>&lt;dbl&gt;</th><th scope=col>&lt;dbl&gt;</th><th scope=col>&lt;dbl&gt;</th></tr>\n",
       "</thead>\n",
       "<tbody>\n",
       "\t<tr><td> 1</td><td>0.7857143</td><td>0.5976653</td><td>1.0329309</td></tr>\n",
       "\t<tr><td> 4</td><td>0.7857143</td><td>0.5976653</td><td>1.0329309</td></tr>\n",
       "\t<tr><td> 5</td><td>0.6984127</td><td>0.4882225</td><td>0.9990943</td></tr>\n",
       "\t<tr><td> 7</td><td>0.6111111</td><td>0.3921586</td><td>0.9523105</td></tr>\n",
       "\t<tr><td> 8</td><td>0.5238095</td><td>0.3061977</td><td>0.8960761</td></tr>\n",
       "\t<tr><td>10</td><td>0.4365079</td><td>0.2289684</td><td>0.8321635</td></tr>\n",
       "\t<tr><td>12</td><td>0.4365079</td><td>0.2289684</td><td>0.8321635</td></tr>\n",
       "\t<tr><td>16</td><td>0.4365079</td><td>0.2289684</td><td>0.8321635</td></tr>\n",
       "</tbody>\n",
       "</table>\n"
      ],
      "text/latex": [
       "A tibble: 8 × 4\n",
       "\\begin{tabular}{llll}\n",
       " time & S\\_hat & exp\\_log\\_S\\_hat\\_lower & exp\\_log\\_S\\_hat\\_upper\\\\\n",
       " <dbl> & <dbl> & <dbl> & <dbl>\\\\\n",
       "\\hline\n",
       "\t  1 & 0.7857143 & 0.5976653 & 1.0329309\\\\\n",
       "\t  4 & 0.7857143 & 0.5976653 & 1.0329309\\\\\n",
       "\t  5 & 0.6984127 & 0.4882225 & 0.9990943\\\\\n",
       "\t  7 & 0.6111111 & 0.3921586 & 0.9523105\\\\\n",
       "\t  8 & 0.5238095 & 0.3061977 & 0.8960761\\\\\n",
       "\t 10 & 0.4365079 & 0.2289684 & 0.8321635\\\\\n",
       "\t 12 & 0.4365079 & 0.2289684 & 0.8321635\\\\\n",
       "\t 16 & 0.4365079 & 0.2289684 & 0.8321635\\\\\n",
       "\\end{tabular}\n"
      ],
      "text/markdown": [
       "\n",
       "A tibble: 8 × 4\n",
       "\n",
       "| time &lt;dbl&gt; | S_hat &lt;dbl&gt; | exp_log_S_hat_lower &lt;dbl&gt; | exp_log_S_hat_upper &lt;dbl&gt; |\n",
       "|---|---|---|---|\n",
       "|  1 | 0.7857143 | 0.5976653 | 1.0329309 |\n",
       "|  4 | 0.7857143 | 0.5976653 | 1.0329309 |\n",
       "|  5 | 0.6984127 | 0.4882225 | 0.9990943 |\n",
       "|  7 | 0.6111111 | 0.3921586 | 0.9523105 |\n",
       "|  8 | 0.5238095 | 0.3061977 | 0.8960761 |\n",
       "| 10 | 0.4365079 | 0.2289684 | 0.8321635 |\n",
       "| 12 | 0.4365079 | 0.2289684 | 0.8321635 |\n",
       "| 16 | 0.4365079 | 0.2289684 | 0.8321635 |\n",
       "\n"
      ],
      "text/plain": [
       "  time S_hat     exp_log_S_hat_lower exp_log_S_hat_upper\n",
       "1  1   0.7857143 0.5976653           1.0329309          \n",
       "2  4   0.7857143 0.5976653           1.0329309          \n",
       "3  5   0.6984127 0.4882225           0.9990943          \n",
       "4  7   0.6111111 0.3921586           0.9523105          \n",
       "5  8   0.5238095 0.3061977           0.8960761          \n",
       "6 10   0.4365079 0.2289684           0.8321635          \n",
       "7 12   0.4365079 0.2289684           0.8321635          \n",
       "8 16   0.4365079 0.2289684           0.8321635          "
      ]
     },
     "metadata": {},
     "output_type": "display_data"
    }
   ],
   "source": [
    "treat_km %>%\n",
    "    select(time, S_hat, exp_log_S_hat_lower, exp_log_S_hat_upper)"
   ]
  },
  {
   "cell_type": "markdown",
   "metadata": {},
   "source": [
    "We can see that `S_hat` falls below 0.5 for the first time when `time` is 10, so this is our estimate of the median survival time for the treatment group. To get the confidence interval on the median, we just do the same procedure for the upper and lower confidence bounds. The lower confidence bound on S falls below 0.5 for the first time at 5, so this is our 95% lower confidence bound on the median survival time of the treatment group. The upper bound on S never falls below 0.5, so the 95% upper bound for the median survival time is greater than 16."
   ]
  },
  {
   "cell_type": "code",
   "execution_count": 16,
   "metadata": {
    "vscode": {
     "languageId": "r"
    }
   },
   "outputs": [
    {
     "data": {
      "text/html": [
       "<table class=\"dataframe\">\n",
       "<caption>A tibble: 5 × 4</caption>\n",
       "<thead>\n",
       "\t<tr><th scope=col>time</th><th scope=col>S_hat</th><th scope=col>exp_log_S_hat_lower</th><th scope=col>exp_log_S_hat_upper</th></tr>\n",
       "\t<tr><th scope=col>&lt;dbl&gt;</th><th scope=col>&lt;dbl&gt;</th><th scope=col>&lt;dbl&gt;</th><th scope=col>&lt;dbl&gt;</th></tr>\n",
       "</thead>\n",
       "<tbody>\n",
       "\t<tr><td> 1</td><td>1.0000000</td><td>1.0000000</td><td>1.0000000</td></tr>\n",
       "\t<tr><td> 2</td><td>0.9285714</td><td>0.8030062</td><td>1.0737712</td></tr>\n",
       "\t<tr><td> 3</td><td>0.7857143</td><td>0.5976653</td><td>1.0329309</td></tr>\n",
       "\t<tr><td> 5</td><td>0.6285714</td><td>0.4157473</td><td>0.9503417</td></tr>\n",
       "\t<tr><td>16</td><td>0.6285714</td><td>0.4157473</td><td>0.9503417</td></tr>\n",
       "</tbody>\n",
       "</table>\n"
      ],
      "text/latex": [
       "A tibble: 5 × 4\n",
       "\\begin{tabular}{llll}\n",
       " time & S\\_hat & exp\\_log\\_S\\_hat\\_lower & exp\\_log\\_S\\_hat\\_upper\\\\\n",
       " <dbl> & <dbl> & <dbl> & <dbl>\\\\\n",
       "\\hline\n",
       "\t  1 & 1.0000000 & 1.0000000 & 1.0000000\\\\\n",
       "\t  2 & 0.9285714 & 0.8030062 & 1.0737712\\\\\n",
       "\t  3 & 0.7857143 & 0.5976653 & 1.0329309\\\\\n",
       "\t  5 & 0.6285714 & 0.4157473 & 0.9503417\\\\\n",
       "\t 16 & 0.6285714 & 0.4157473 & 0.9503417\\\\\n",
       "\\end{tabular}\n"
      ],
      "text/markdown": [
       "\n",
       "A tibble: 5 × 4\n",
       "\n",
       "| time &lt;dbl&gt; | S_hat &lt;dbl&gt; | exp_log_S_hat_lower &lt;dbl&gt; | exp_log_S_hat_upper &lt;dbl&gt; |\n",
       "|---|---|---|---|\n",
       "|  1 | 1.0000000 | 1.0000000 | 1.0000000 |\n",
       "|  2 | 0.9285714 | 0.8030062 | 1.0737712 |\n",
       "|  3 | 0.7857143 | 0.5976653 | 1.0329309 |\n",
       "|  5 | 0.6285714 | 0.4157473 | 0.9503417 |\n",
       "| 16 | 0.6285714 | 0.4157473 | 0.9503417 |\n",
       "\n"
      ],
      "text/plain": [
       "  time S_hat     exp_log_S_hat_lower exp_log_S_hat_upper\n",
       "1  1   1.0000000 1.0000000           1.0000000          \n",
       "2  2   0.9285714 0.8030062           1.0737712          \n",
       "3  3   0.7857143 0.5976653           1.0329309          \n",
       "4  5   0.6285714 0.4157473           0.9503417          \n",
       "5 16   0.6285714 0.4157473           0.9503417          "
      ]
     },
     "metadata": {},
     "output_type": "display_data"
    }
   ],
   "source": [
    "control_km %>%\n",
    "    select(time, S_hat, exp_log_S_hat_lower, exp_log_S_hat_upper)"
   ]
  },
  {
   "cell_type": "markdown",
   "metadata": {},
   "source": [
    "We do the same procedure with control. Our point estimate of the median survival time is 5, and the 95% confidence interval is [5, >16]."
   ]
  },
  {
   "cell_type": "markdown",
   "metadata": {},
   "source": [
    "**(h) Estimate the difference of median survivals (Control - Steroid) between two groups and its 95\\% confidence interval (hint: you can make reasonable assumptions (parametric model or non-parametric model), and use all methods you have learnt such as MLE, Delta method, Bayesian method, bootstraping,..., etc).**\n"
   ]
  },
  {
   "cell_type": "markdown",
   "metadata": {},
   "source": [
    "I'm going to assume survival times are exponentially distributed. This isn't a great model for the data, but it's reasonable, and there's so little data here that it probably makes sense to use a simple model. I'll fit the exponential model with MLE for both treatment and control groups and take the difference in the "
   ]
  },
  {
   "cell_type": "code",
   "execution_count": 17,
   "metadata": {
    "vscode": {
     "languageId": "r"
    }
   },
   "outputs": [
    {
     "data": {
      "text/html": [
       "<table class=\"dataframe\">\n",
       "<caption>A data.frame: 6 × 3</caption>\n",
       "<thead>\n",
       "\t<tr><th></th><th scope=col>diff_boots</th><th scope=col>median_control</th><th scope=col>median_treat</th></tr>\n",
       "\t<tr><th></th><th scope=col>&lt;dbl&gt;</th><th scope=col>&lt;dbl&gt;</th><th scope=col>&lt;dbl&gt;</th></tr>\n",
       "</thead>\n",
       "<tbody>\n",
       "\t<tr><th scope=row>1</th><td>32.693442</td><td>43.43722</td><td>10.743781</td></tr>\n",
       "\t<tr><th scope=row>2</th><td>21.834136</td><td>29.97862</td><td> 8.144479</td></tr>\n",
       "\t<tr><th scope=row>3</th><td>22.226920</td><td>41.35778</td><td>19.130862</td></tr>\n",
       "\t<tr><th scope=row>4</th><td>11.743894</td><td>22.73523</td><td>10.991334</td></tr>\n",
       "\t<tr><th scope=row>5</th><td> 6.617905</td><td>14.44057</td><td> 7.822661</td></tr>\n",
       "\t<tr><th scope=row>6</th><td>13.108183</td><td>20.65579</td><td> 7.547603</td></tr>\n",
       "</tbody>\n",
       "</table>\n"
      ],
      "text/latex": [
       "A data.frame: 6 × 3\n",
       "\\begin{tabular}{r|lll}\n",
       "  & diff\\_boots & median\\_control & median\\_treat\\\\\n",
       "  & <dbl> & <dbl> & <dbl>\\\\\n",
       "\\hline\n",
       "\t1 & 32.693442 & 43.43722 & 10.743781\\\\\n",
       "\t2 & 21.834136 & 29.97862 &  8.144479\\\\\n",
       "\t3 & 22.226920 & 41.35778 & 19.130862\\\\\n",
       "\t4 & 11.743894 & 22.73523 & 10.991334\\\\\n",
       "\t5 &  6.617905 & 14.44057 &  7.822661\\\\\n",
       "\t6 & 13.108183 & 20.65579 &  7.547603\\\\\n",
       "\\end{tabular}\n"
      ],
      "text/markdown": [
       "\n",
       "A data.frame: 6 × 3\n",
       "\n",
       "| <!--/--> | diff_boots &lt;dbl&gt; | median_control &lt;dbl&gt; | median_treat &lt;dbl&gt; |\n",
       "|---|---|---|---|\n",
       "| 1 | 32.693442 | 43.43722 | 10.743781 |\n",
       "| 2 | 21.834136 | 29.97862 |  8.144479 |\n",
       "| 3 | 22.226920 | 41.35778 | 19.130862 |\n",
       "| 4 | 11.743894 | 22.73523 | 10.991334 |\n",
       "| 5 |  6.617905 | 14.44057 |  7.822661 |\n",
       "| 6 | 13.108183 | 20.65579 |  7.547603 |\n",
       "\n"
      ],
      "text/plain": [
       "  diff_boots median_control median_treat\n",
       "1 32.693442  43.43722       10.743781   \n",
       "2 21.834136  29.97862        8.144479   \n",
       "3 22.226920  41.35778       19.130862   \n",
       "4 11.743894  22.73523       10.991334   \n",
       "5  6.617905  14.44057        7.822661   \n",
       "6 13.108183  20.65579        7.547603   "
      ]
     },
     "metadata": {},
     "output_type": "display_data"
    }
   ],
   "source": [
    "n_boots = 100\n",
    "\n",
    "diff_boots = numeric(n_boots)\n",
    "median_treat = numeric(n_boots)\n",
    "median_control = numeric(n_boots)\n",
    "\n",
    "# bootstrap loop\n",
    "for (i in 1:n_boots) {\n",
    "    results = data %>%\n",
    "        group_by(treat) %>%\n",
    "        # resample the data\n",
    "        slice_sample(\n",
    "            prop = 1,\n",
    "            replace = TRUE\n",
    "        ) %>%\n",
    "        summarize(\n",
    "            # fit exponential model\n",
    "            lambda_hat = sum(1 - censored) / sum(time)\n",
    "        ) %>%\n",
    "        mutate(\n",
    "            # calculate median survival time for each group\n",
    "            median_survival = log(2)/lambda_hat\n",
    "        ) %>%\n",
    "        select(treat, median_survival) %>%\n",
    "        pivot_wider(\n",
    "            names_from = treat,\n",
    "            values_from = median_survival,\n",
    "            names_prefix = \"median_survival_\"\n",
    "        ) %>%\n",
    "        # calculate the difference\n",
    "        mutate(diff = median_survival_0 - median_survival_1)\n",
    "    \n",
    "    diff_boots[i] = results %>% pull(diff)\n",
    "    median_control[i] = results %>% pull(median_survival_0)\n",
    "    median_treat[i] = results %>% pull(median_survival_1)\n",
    "}\n",
    "\n",
    "boot_df = data.frame(\n",
    "    diff_boots = diff_boots,\n",
    "    median_control = median_control,\n",
    "    median_treat = median_treat\n",
    ")\n",
    "\n",
    "head(boot_df)"
   ]
  },
  {
   "cell_type": "code",
   "execution_count": 18,
   "metadata": {
    "vscode": {
     "languageId": "r"
    }
   },
   "outputs": [
    {
     "data": {
      "text/html": [
       "<table class=\"dataframe\">\n",
       "<caption>A tibble: 3 × 4</caption>\n",
       "<thead>\n",
       "\t<tr><th scope=col>statistic</th><th scope=col>median(value)</th><th scope=col>quantile(value, probs = c(0.025))</th><th scope=col>quantile(value, probs = c(0.975))</th></tr>\n",
       "\t<tr><th scope=col>&lt;chr&gt;</th><th scope=col>&lt;dbl&gt;</th><th scope=col>&lt;dbl&gt;</th><th scope=col>&lt;dbl&gt;</th></tr>\n",
       "</thead>\n",
       "<tbody>\n",
       "\t<tr><td>diff_boots    </td><td> 8.389969</td><td>-10.924866</td><td>53.32612</td></tr>\n",
       "\t<tr><td>median_control</td><td>20.794415</td><td>  8.387081</td><td>65.15583</td></tr>\n",
       "\t<tr><td>median_treat  </td><td>10.353886</td><td>  5.678175</td><td>32.49127</td></tr>\n",
       "</tbody>\n",
       "</table>\n"
      ],
      "text/latex": [
       "A tibble: 3 × 4\n",
       "\\begin{tabular}{llll}\n",
       " statistic & median(value) & quantile(value, probs = c(0.025)) & quantile(value, probs = c(0.975))\\\\\n",
       " <chr> & <dbl> & <dbl> & <dbl>\\\\\n",
       "\\hline\n",
       "\t diff\\_boots     &  8.389969 & -10.924866 & 53.32612\\\\\n",
       "\t median\\_control & 20.794415 &   8.387081 & 65.15583\\\\\n",
       "\t median\\_treat   & 10.353886 &   5.678175 & 32.49127\\\\\n",
       "\\end{tabular}\n"
      ],
      "text/markdown": [
       "\n",
       "A tibble: 3 × 4\n",
       "\n",
       "| statistic &lt;chr&gt; | median(value) &lt;dbl&gt; | quantile(value, probs = c(0.025)) &lt;dbl&gt; | quantile(value, probs = c(0.975)) &lt;dbl&gt; |\n",
       "|---|---|---|---|\n",
       "| diff_boots     |  8.389969 | -10.924866 | 53.32612 |\n",
       "| median_control | 20.794415 |   8.387081 | 65.15583 |\n",
       "| median_treat   | 10.353886 |   5.678175 | 32.49127 |\n",
       "\n"
      ],
      "text/plain": [
       "  statistic      median(value) quantile(value, probs = c(0.025))\n",
       "1 diff_boots      8.389969     -10.924866                       \n",
       "2 median_control 20.794415       8.387081                       \n",
       "3 median_treat   10.353886       5.678175                       \n",
       "  quantile(value, probs = c(0.975))\n",
       "1 53.32612                         \n",
       "2 65.15583                         \n",
       "3 32.49127                         "
      ]
     },
     "metadata": {},
     "output_type": "display_data"
    }
   ],
   "source": [
    "boot_df %>%\n",
    "    pivot_longer(cols=everything(), names_to=\"statistic\") %>%\n",
    "    group_by(statistic) %>%\n",
    "    summarize(\n",
    "        median(value),\n",
    "        quantile(value, probs=c(0.025)),\n",
    "        quantile(value, probs=c(0.975))\n",
    "    )"
   ]
  },
  {
   "cell_type": "markdown",
   "metadata": {},
   "source": [
    "So, we estimate that that the control group has a median lifetime 10.70967 units longer than treatment, with a 95% confidence interval [-13.924110, 79.41177].\n",
    "\n",
    "Interestingly, it appears that the exponential model forecasts longer lifetimes than the nonparametric analysis earlier. It is possible that this is biasing our estimate of the difference in some way, so if we were doing this in the wild we would probably want to compare this estimate to some other estimate."
   ]
  },
  {
   "cell_type": "code",
   "execution_count": 19,
   "metadata": {
    "vscode": {
     "languageId": "r"
    }
   },
   "outputs": [
    {
     "data": {
      "image/png": "[encoded data removed]",
      "text/plain": [
       "Plot with title “Histogram of boot_df$diff_boots”"
      ]
     },
     "metadata": {
      "image/png": {
       "height": 420,
       "width": 420
      }
     },
     "output_type": "display_data"
    }
   ],
   "source": [
    "hist(x = boot_df$diff_boots, breaks = 20)"
   ]
  },
  {
   "cell_type": "code",
   "execution_count": null,
   "metadata": {
    "vscode": {
     "languageId": "r"
    }
   },
   "outputs": [],
   "source": []
  }
 ],
 "metadata": {
  "kernelspec": {
   "display_name": "R",
   "language": "R",
   "name": "ir"
  },
  "language_info": {
   "codemirror_mode": "r",
   "file_extension": ".r",
   "mimetype": "text/x-r-source",
   "name": "R",
   "pygments_lexer": "r",
   "version": "4.4.2"
  }
 },
 "nbformat": 4,
 "nbformat_minor": 2
}
