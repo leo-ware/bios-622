{
 "cells": [
  {
   "cell_type": "code",
   "execution_count": 1,
   "metadata": {
    "vscode": {
     "languageId": "r"
    }
   },
   "outputs": [
    {
     "name": "stderr",
     "output_type": "stream",
     "text": [
      "── \u001b[1mAttaching core tidyverse packages\u001b[22m ──────────────────────── tidyverse 2.0.0 ──\n",
      "\u001b[32m✔\u001b[39m \u001b[34mdplyr    \u001b[39m 1.1.4     \u001b[32m✔\u001b[39m \u001b[34mreadr    \u001b[39m 2.1.5\n",
      "\u001b[32m✔\u001b[39m \u001b[34mforcats  \u001b[39m 1.0.0     \u001b[32m✔\u001b[39m \u001b[34mstringr  \u001b[39m 1.5.1\n",
      "\u001b[32m✔\u001b[39m \u001b[34mggplot2  \u001b[39m 3.5.1     \u001b[32m✔\u001b[39m \u001b[34mtibble   \u001b[39m 3.2.1\n",
      "\u001b[32m✔\u001b[39m \u001b[34mlubridate\u001b[39m 1.9.3     \u001b[32m✔\u001b[39m \u001b[34mtidyr    \u001b[39m 1.3.1\n",
      "\u001b[32m✔\u001b[39m \u001b[34mpurrr    \u001b[39m 1.0.2     \n",
      "── \u001b[1mConflicts\u001b[22m ────────────────────────────────────────── tidyverse_conflicts() ──\n",
      "\u001b[31m✖\u001b[39m \u001b[34mdplyr\u001b[39m::\u001b[32mfilter()\u001b[39m masks \u001b[34mstats\u001b[39m::filter()\n",
      "\u001b[31m✖\u001b[39m \u001b[34mdplyr\u001b[39m::\u001b[32mlag()\u001b[39m    masks \u001b[34mstats\u001b[39m::lag()\n",
      "\u001b[36mℹ\u001b[39m Use the conflicted package (\u001b[3m\u001b[34m<http://conflicted.r-lib.org/>\u001b[39m\u001b[23m) to force all conflicts to become errors\n"
     ]
    }
   ],
   "source": [
    "library(tidyverse)"
   ]
  },
  {
   "cell_type": "markdown",
   "metadata": {},
   "source": [
    "**1. The time in days to development of a tumor for rats exposed to a carcinogen follows a Weibull distribution with λ = 0.002 (scale parameter) and γ = 2 (shape parameter).**\n",
    "\n",
    "**(a) Find the median and mean time to tumor development.**"
   ]
  },
  {
   "cell_type": "markdown",
   "metadata": {},
   "source": [
    "In last week's homework, we found that the pdf of the Weibull is given by,\n",
    "\n",
    "$$\n",
    "f(t) = \\lambda\\gamma t^{\\gamma-1} e^{-\\lambda t ^{\\gamma}}  I(t \\ge 0)\n",
    "$$\n",
    "\n",
    "So, the mean is given by,\n",
    "\n",
    "$$\n",
    "E[T] = \\int_0^\\infty t\\lambda\\gamma t^{\\gamma-1} e^{-\\lambda t ^{\\gamma}} dt\n",
    "$$\n",
    "\n",
    "$$\n",
    "E[T] = \\int_0^\\infty \\lambda\\gamma t^\\gamma e^{-\\lambda t ^{\\gamma}} dt\n",
    "$$"
   ]
  },
  {
   "cell_type": "markdown",
   "metadata": {},
   "source": [
    "Substitute for $\\gamma$.\n",
    "\n",
    "$$\n",
    "E[T] = \\int_0^\\infty 2\\lambda t^2 e^{-\\lambda t ^{2}} dt\n",
    "$$\n",
    "\n",
    "$$\n",
    "E[T] = \\left[ \\int 2\\lambda t^2 e^{-\\lambda t ^{2}} dt \\right]_0^\\infty\n",
    "$$"
   ]
  },
  {
   "cell_type": "markdown",
   "metadata": {},
   "source": [
    "Let,\n",
    "\n",
    "$$\n",
    "u = -t\n",
    "$$\n",
    "\n",
    "$$\n",
    "dv = -2\\lambda te^{-\\lambda t^2}dt\n",
    "$$\n",
    "\n",
    "Then,\n",
    "\n",
    "$$\n",
    "du = -dt\n",
    "$$\n",
    "\n",
    "$$\n",
    "v = e^{-\\lambda t^2}\n",
    "$$"
   ]
  },
  {
   "cell_type": "markdown",
   "metadata": {},
   "source": [
    "Substitute for integration by parts.\n",
    "\n",
    "$$\n",
    "\\int 2\\lambda t^2 e^{-\\lambda t ^{2}} dt =\n",
    "\\int udv\n",
    "$$\n",
    "\n",
    "$$\n",
    "\\int 2\\lambda t^2 e^{-\\lambda t ^{2}} dt =\n",
    "uv - \\int vdu\n",
    "$$\n",
    "\n",
    "$$\n",
    "\\int 2\\lambda t^2 e^{-\\lambda t ^{2}} dt =\n",
    "-te^{-\\lambda t^2}\n",
    "- \\int -e^{-\\lambda t^2} dt\n",
    "$$\n",
    "\n",
    "$$\n",
    "\\int 2\\lambda t^2 e^{-\\lambda t ^{2}} dt =\n",
    "\\int e^{-{1 \\over 2}{t^2 \\over (2\\lambda)^{-1}}} dt\n",
    "-te^{-\\lambda t^2}\n",
    "$$"
   ]
  },
  {
   "cell_type": "markdown",
   "metadata": {},
   "source": [
    "So,\n",
    "\n",
    "$$\n",
    "E[T] = \\left[\n",
    "    \\int e^{-{1 \\over 2}{t^2 \\over (2\\lambda)^{-1}}} dt\n",
    "    -te^{-\\lambda t^2}\n",
    "\\right]_0^\\infty\n",
    "$$\n",
    "\n",
    "$$\n",
    "E[T] = \n",
    "\\int_0^\\infty e^{-{1 \\over 2}{t^2 \\over (2\\lambda)^{-1}}} dt\n",
    "-\\left[\n",
    "    te^{-\\lambda t^2}\n",
    "\\right]_0^\\infty\n",
    "$$\n",
    "\n",
    "$$\n",
    "E[T] = \n",
    "\\int_0^\\infty e^{-{1 \\over 2}{t^2 \\over (2\\lambda)^{-1}}} dt\n",
    "- \\lim_{t \\to \\infty} (\n",
    "    te^{-\\lambda t^2}\n",
    ")\n",
    "+ (0)e^{-\\lambda (0)^2}\n",
    "$$\n",
    "\n",
    "$$\n",
    "E[T] = \n",
    "\\int_0^\\infty e^{-{1 \\over 2}{t^2 \\over (2\\lambda)^{-1}}} dt\n",
    "$$"
   ]
  },
  {
   "cell_type": "markdown",
   "metadata": {},
   "source": [
    "We recognize this as a gaussian function. Using the formula for the integral of the gaussian, we get,\n",
    "\n",
    "$$\n",
    "\\int_{-\\infty}^\\infty e^{-{1 \\over 2}{t^2 \\over (2\\lambda)^{-1}}} dt =\n",
    "\\sqrt{2\\pi (2\\lambda)^{-1}}\n",
    "$$\n",
    "\n",
    "The gaussian is positive and symmetric about zero, so,\n",
    "\n",
    "$$\n",
    "\\int_{0}^\\infty e^{-{1 \\over 2}{t^2 \\over (2\\lambda)^{-1}}} dt =\n",
    "{1 \\over 2}\\sqrt{2\\pi (2\\lambda)^{-1}}\n",
    "$$\n",
    "\n",
    "Simplifying, we get,\n",
    "\n",
    "$$\n",
    "\\int_{0}^\\infty e^{-{1 \\over 2}{t^2 \\over (2\\lambda)^{-1}}} dt =\n",
    "{1 \\over 2}\\sqrt{\\pi \\over \\lambda}\n",
    "$$\n",
    "\n",
    "$$\n",
    "\\int_{0}^\\infty e^{-{1 \\over 2}{t^2 \\over (2\\lambda)^{-1}}} dt \\approx\n",
    "19.82\n",
    "$$\n",
    "\n",
    "So,\n",
    "\n",
    "$$\n",
    "E[T] = {1 \\over 2}\\sqrt{500\\pi} \\approx 19.82\n",
    "$$"
   ]
  },
  {
   "cell_type": "markdown",
   "metadata": {},
   "source": [
    "The survival function of $T$ is given by,\n",
    "\n",
    "$$\n",
    "S(t) = e^{-\\lambda t ^{\\gamma}}\n",
    "$$\n",
    "\n",
    "The median is the $t$ such that,\n",
    "\n",
    "$$\n",
    "S(m) = {1 \\over 2}\n",
    "$$\n",
    "\n",
    "So,\n",
    "\n",
    "$$\n",
    "{1 \\over 2} = e^{-\\lambda m ^{\\gamma}}\n",
    "$$\n",
    "\n",
    "$$\n",
    "\\ln \\left({1 \\over 2}\\right) = -\\lambda m^{\\gamma}\n",
    "$$\n",
    "\n",
    "$$\n",
    "\\ln \\left(2\\right) = \\lambda m^{\\gamma}\n",
    "$$\n",
    "\n",
    "$$\n",
    "m = \\left({\\ln(2) \\over \\lambda}\\right)^{1/\\gamma}\n",
    "$$\n",
    "\n",
    "Substitute known values,\n",
    "\n",
    "$$\n",
    "m = \\left({\\ln(2) 500}\\right)^{1/2}\n",
    "$$\n",
    "\n",
    "$$\n",
    "m \\approx 18.62\n",
    "$$"
   ]
  },
  {
   "cell_type": "markdown",
   "metadata": {},
   "source": [
    "**(b) Find the probabilities that a (random) rat will be tumor free at 10 days, 20 days and 30 days.**"
   ]
  },
  {
   "cell_type": "markdown",
   "metadata": {},
   "source": [
    "The probability that a random rat will be tumour free is given by the survival function.\n",
    "\n",
    "$$\n",
    "S(10) = e^{-(0.002) 10 ^{2}} = e^{-0.2} \\approx 81.87 \\%\n",
    "$$\n",
    "\n",
    "$$\n",
    "S(20) = e^{-(0.002) 20 ^{2}} = e^{-0.8} \\approx 44.93 \\%\n",
    "$$\n",
    "\n",
    "$$\n",
    "S(20) = e^{-(0.002) 30 ^{2}} = e^{-1.8} \\approx 16.53 \\%\n",
    "$$"
   ]
  },
  {
   "cell_type": "markdown",
   "metadata": {},
   "source": [
    "**(c) Find the hazard rate of time to tumor development at 10 days, 20 days and 30 days.**"
   ]
  },
  {
   "cell_type": "markdown",
   "metadata": {},
   "source": [
    "We found previously that the hazard rate is given by,\n",
    "\n",
    "$$\n",
    "h(t) = \\lambda\\gamma t^{\\gamma-1}\n",
    "$$\n",
    "\n",
    "Substitute our parameters,\n",
    "\n",
    "$$\n",
    "h(t) = (0.002)2 t^{2-1} = 0.004t\n",
    "$$\n",
    "\n",
    "So,\n",
    "\n",
    "$$\n",
    "h(10) = 0.04\n",
    "$$\n",
    "\n",
    "$$\n",
    "h(20) = 0.08\n",
    "$$\n",
    "\n",
    "$$\n",
    "h(30) = 0.12\n",
    "$$"
   ]
  },
  {
   "cell_type": "markdown",
   "metadata": {},
   "source": [
    "**2. A modification of example from the course notes (Page 60). T1,...,Tn iid exponential(λ). The outcome is time to death from severe viral disease. The modified data are as follows:**\n",
    "\n",
    "- Steroid: 1(2), 1+(2), 4+, 5, 7, 8, 10, 10+, 12+, 16+(3)\n",
    "- Control: 1, 2, 3(2), 3+, 5+(2), 16+(8)"
   ]
  },
  {
   "cell_type": "code",
   "execution_count": 2,
   "metadata": {
    "vscode": {
     "languageId": "r"
    }
   },
   "outputs": [],
   "source": [
    "# put the above data into a dataframe\n",
    "\n",
    "df <- data.frame(\n",
    "    treatment =    c(rep(1, 14), rep(0, 15)),\n",
    "    censored =     c(0, 0, 1, 1, 1, 0, 0, 0, 0, 1, 1, 1, 1, 1, 0, 0, 0, 0, rep(1, 11)),\n",
    "    time_at_risk = c(1, 1, 1, 1, 4, 5, 7, 8, 10, 10, 12, 16, 16, 16, 1, 2, 3, 3, 3, 5, 5, rep(16, 8))\n",
    ")"
   ]
  },
  {
   "cell_type": "markdown",
   "metadata": {},
   "source": [
    "**(a) Find the MLE of hazard h(t) = λ for each of two treatment groups**"
   ]
  },
  {
   "cell_type": "markdown",
   "metadata": {},
   "source": [
    "The MLE of hazard is given by number of events over time at risk."
   ]
  },
  {
   "cell_type": "code",
   "execution_count": 3,
   "metadata": {
    "vscode": {
     "languageId": "r"
    }
   },
   "outputs": [
    {
     "data": {
      "text/html": [
       "<table class=\"dataframe\">\n",
       "<caption>A tibble: 2 × 4</caption>\n",
       "<thead>\n",
       "\t<tr><th scope=col>treatment</th><th scope=col>n_events</th><th scope=col>total_time_at_risk</th><th scope=col>hazard_rate_mle</th></tr>\n",
       "\t<tr><th scope=col>&lt;dbl&gt;</th><th scope=col>&lt;int&gt;</th><th scope=col>&lt;dbl&gt;</th><th scope=col>&lt;dbl&gt;</th></tr>\n",
       "</thead>\n",
       "<tbody>\n",
       "\t<tr><td>0</td><td>4</td><td>150</td><td>0.02666667</td></tr>\n",
       "\t<tr><td>1</td><td>6</td><td>108</td><td>0.05555556</td></tr>\n",
       "</tbody>\n",
       "</table>\n"
      ],
      "text/latex": [
       "A tibble: 2 × 4\n",
       "\\begin{tabular}{llll}\n",
       " treatment & n\\_events & total\\_time\\_at\\_risk & hazard\\_rate\\_mle\\\\\n",
       " <dbl> & <int> & <dbl> & <dbl>\\\\\n",
       "\\hline\n",
       "\t 0 & 4 & 150 & 0.02666667\\\\\n",
       "\t 1 & 6 & 108 & 0.05555556\\\\\n",
       "\\end{tabular}\n"
      ],
      "text/markdown": [
       "\n",
       "A tibble: 2 × 4\n",
       "\n",
       "| treatment &lt;dbl&gt; | n_events &lt;int&gt; | total_time_at_risk &lt;dbl&gt; | hazard_rate_mle &lt;dbl&gt; |\n",
       "|---|---|---|---|\n",
       "| 0 | 4 | 150 | 0.02666667 |\n",
       "| 1 | 6 | 108 | 0.05555556 |\n",
       "\n"
      ],
      "text/plain": [
       "  treatment n_events total_time_at_risk hazard_rate_mle\n",
       "1 0         4        150                0.02666667     \n",
       "2 1         6        108                0.05555556     "
      ]
     },
     "metadata": {},
     "output_type": "display_data"
    }
   ],
   "source": [
    "stats = df %>%\n",
    "    group_by(treatment) %>%\n",
    "    summarize(\n",
    "        n_events = sum(censored == 0), # if the unit isn't censored, an event occured\n",
    "        total_time_at_risk = sum(time_at_risk)\n",
    "    ) %>%\n",
    "    mutate(\n",
    "        hazard_rate_mle = n_events / total_time_at_risk\n",
    "    )\n",
    "\n",
    "stats"
   ]
  },
  {
   "cell_type": "markdown",
   "metadata": {},
   "source": [
    "So, MLE hazard rate is about 5.56% for treatment and 2.67% for control."
   ]
  },
  {
   "cell_type": "markdown",
   "metadata": {},
   "source": [
    "**(b) Find median and mean survival time for each treatment group**"
   ]
  },
  {
   "cell_type": "markdown",
   "metadata": {},
   "source": [
    "We can create MLE estimators for the mean and median by using the properties of the exponential distribution. If the parameter is $\\lambda$, then the mean is $\\lambda^{-1}$ and the median is $\\ln(2) \\lambda^{-1}$."
   ]
  },
  {
   "cell_type": "code",
   "execution_count": 4,
   "metadata": {
    "vscode": {
     "languageId": "r"
    }
   },
   "outputs": [
    {
     "data": {
      "text/html": [
       "<table class=\"dataframe\">\n",
       "<caption>A tibble: 2 × 3</caption>\n",
       "<thead>\n",
       "\t<tr><th scope=col>treatment</th><th scope=col>mean_survival_mle</th><th scope=col>median_survival_mle</th></tr>\n",
       "\t<tr><th scope=col>&lt;dbl&gt;</th><th scope=col>&lt;dbl&gt;</th><th scope=col>&lt;dbl&gt;</th></tr>\n",
       "</thead>\n",
       "<tbody>\n",
       "\t<tr><td>0</td><td>37.5</td><td>25.99302</td></tr>\n",
       "\t<tr><td>1</td><td>18.0</td><td>12.47665</td></tr>\n",
       "</tbody>\n",
       "</table>\n"
      ],
      "text/latex": [
       "A tibble: 2 × 3\n",
       "\\begin{tabular}{lll}\n",
       " treatment & mean\\_survival\\_mle & median\\_survival\\_mle\\\\\n",
       " <dbl> & <dbl> & <dbl>\\\\\n",
       "\\hline\n",
       "\t 0 & 37.5 & 25.99302\\\\\n",
       "\t 1 & 18.0 & 12.47665\\\\\n",
       "\\end{tabular}\n"
      ],
      "text/markdown": [
       "\n",
       "A tibble: 2 × 3\n",
       "\n",
       "| treatment &lt;dbl&gt; | mean_survival_mle &lt;dbl&gt; | median_survival_mle &lt;dbl&gt; |\n",
       "|---|---|---|\n",
       "| 0 | 37.5 | 25.99302 |\n",
       "| 1 | 18.0 | 12.47665 |\n",
       "\n"
      ],
      "text/plain": [
       "  treatment mean_survival_mle median_survival_mle\n",
       "1 0         37.5              25.99302           \n",
       "2 1         18.0              12.47665           "
      ]
     },
     "metadata": {},
     "output_type": "display_data"
    }
   ],
   "source": [
    "stats = stats %>%\n",
    "    mutate(\n",
    "        mean_survival_mle = 1/hazard_rate_mle,\n",
    "        median_survival_mle = log(2)/hazard_rate_mle\n",
    "    )\n",
    "    \n",
    "stats %>% select(treatment, mean_survival_mle, median_survival_mle)"
   ]
  },
  {
   "cell_type": "markdown",
   "metadata": {},
   "source": [
    "**(c) For each treatment group, what is the p-value for $H0 : λ = 1$ versus $H1 : λ \\ne 1$, using likelihood ratio test and Wald test?**"
   ]
  },
  {
   "cell_type": "markdown",
   "metadata": {},
   "source": [
    "First, we'll calculate the likelihood ratio test statistic and p-value for treatment and control."
   ]
  },
  {
   "cell_type": "code",
   "execution_count": 5,
   "metadata": {
    "vscode": {
     "languageId": "r"
    }
   },
   "outputs": [
    {
     "data": {
      "text/html": [
       "<table class=\"dataframe\">\n",
       "<caption>A tibble: 2 × 5</caption>\n",
       "<thead>\n",
       "\t<tr><th scope=col>treatment</th><th scope=col>log_p_null</th><th scope=col>log_p_alt</th><th scope=col>likelihood_ratio_test_statistic</th><th scope=col>lr_p_value</th></tr>\n",
       "\t<tr><th scope=col>&lt;dbl&gt;</th><th scope=col>&lt;dbl&gt;</th><th scope=col>&lt;dbl&gt;</th><th scope=col>&lt;dbl&gt;</th><th scope=col>&lt;dbl&gt;</th></tr>\n",
       "</thead>\n",
       "<tbody>\n",
       "\t<tr><td>0</td><td>-150</td><td>-18.49736</td><td>263.0053</td><td>0</td></tr>\n",
       "\t<tr><td>1</td><td>-108</td><td>-23.34223</td><td>169.3155</td><td>0</td></tr>\n",
       "</tbody>\n",
       "</table>\n"
      ],
      "text/latex": [
       "A tibble: 2 × 5\n",
       "\\begin{tabular}{lllll}\n",
       " treatment & log\\_p\\_null & log\\_p\\_alt & likelihood\\_ratio\\_test\\_statistic & lr\\_p\\_value\\\\\n",
       " <dbl> & <dbl> & <dbl> & <dbl> & <dbl>\\\\\n",
       "\\hline\n",
       "\t 0 & -150 & -18.49736 & 263.0053 & 0\\\\\n",
       "\t 1 & -108 & -23.34223 & 169.3155 & 0\\\\\n",
       "\\end{tabular}\n"
      ],
      "text/markdown": [
       "\n",
       "A tibble: 2 × 5\n",
       "\n",
       "| treatment &lt;dbl&gt; | log_p_null &lt;dbl&gt; | log_p_alt &lt;dbl&gt; | likelihood_ratio_test_statistic &lt;dbl&gt; | lr_p_value &lt;dbl&gt; |\n",
       "|---|---|---|---|---|\n",
       "| 0 | -150 | -18.49736 | 263.0053 | 0 |\n",
       "| 1 | -108 | -23.34223 | 169.3155 | 0 |\n",
       "\n"
      ],
      "text/plain": [
       "  treatment log_p_null log_p_alt likelihood_ratio_test_statistic lr_p_value\n",
       "1 0         -150       -18.49736 263.0053                        0         \n",
       "2 1         -108       -23.34223 169.3155                        0         "
      ]
     },
     "metadata": {},
     "output_type": "display_data"
    }
   ],
   "source": [
    "likelihood_ratio_test = function (null_rate) {\n",
    "    df %>%\n",
    "        # Add a column for the hazard rate (computed above)\n",
    "        left_join(\n",
    "            (stats %>%\n",
    "                select(treatment, hazard_rate_mle)\n",
    "            ),\n",
    "            by='treatment'\n",
    "        ) %>%\n",
    "\n",
    "        # compute the log likelihood of each data point for the null and alternative hypotheses\n",
    "        mutate(\n",
    "            log_p_null = ifelse(censored == 1,\n",
    "                # for censored data, use the log survival function\n",
    "                log(1 - pexp(time_at_risk, rate = null_rate)),\n",
    "                # for uncensored data, use the log density function\n",
    "                dexp(time_at_risk, rate = null_rate, log=TRUE)\n",
    "            ),\n",
    "            log_p_alt = ifelse(censored == 1,\n",
    "                log(1 - pexp(time_at_risk, rate = hazard_rate_mle)),\n",
    "                dexp(time_at_risk, rate = hazard_rate_mle, log=TRUE)\n",
    "            )\n",
    "        ) %>%\n",
    "\n",
    "        # group by treatment and compute the log likelihood for the null and alternative hypotheses\n",
    "        group_by(treatment) %>%\n",
    "        summarize(\n",
    "            # sum the log likelihoods across treatment and control respectively\n",
    "            log_p_null = sum(log_p_null),\n",
    "            log_p_alt = sum(log_p_alt)\n",
    "        ) %>%\n",
    "\n",
    "        # compute the likelihood ratio test statistic and p-value\n",
    "        mutate(\n",
    "            likelihood_ratio_test_statistic = 2*(log_p_alt - log_p_null),\n",
    "            # the test statistic is chi-squared distributed with 1 degree of freedom\n",
    "            lr_p_value = 1 - pchisq(likelihood_ratio_test_statistic, df=1)\n",
    "        )\n",
    "}\n",
    "\n",
    "likelihood_ratio_test(null_rate=1)"
   ]
  },
  {
   "cell_type": "markdown",
   "metadata": {},
   "source": [
    "The test statistics here are huge, so it makes sense the the p-value is essentially zero."
   ]
  },
  {
   "cell_type": "markdown",
   "metadata": {},
   "source": [
    "To calculate the Wald confidence interval, we need the standard error of $\\hat{\\lambda}$. Collet gives,\n",
    "\n",
    "$$\n",
    "\\operatorname{se}(\\hat{\\lambda}) = {\\hat{\\lambda} \\over \\sqrt{r}}\n",
    "$$\n",
    "\n",
    "Here $r$ is the number of uncensored data points.\n",
    "\n",
    "We calculate the number of uncensored data points in treatment and control."
   ]
  },
  {
   "cell_type": "code",
   "execution_count": 6,
   "metadata": {
    "vscode": {
     "languageId": "r"
    }
   },
   "outputs": [
    {
     "data": {
      "text/html": [
       "<table class=\"dataframe\">\n",
       "<caption>A tibble: 2 × 2</caption>\n",
       "<thead>\n",
       "\t<tr><th scope=col>treatment</th><th scope=col>r</th></tr>\n",
       "\t<tr><th scope=col>&lt;dbl&gt;</th><th scope=col>&lt;dbl&gt;</th></tr>\n",
       "</thead>\n",
       "<tbody>\n",
       "\t<tr><td>0</td><td>4</td></tr>\n",
       "\t<tr><td>1</td><td>6</td></tr>\n",
       "</tbody>\n",
       "</table>\n"
      ],
      "text/latex": [
       "A tibble: 2 × 2\n",
       "\\begin{tabular}{ll}\n",
       " treatment & r\\\\\n",
       " <dbl> & <dbl>\\\\\n",
       "\\hline\n",
       "\t 0 & 4\\\\\n",
       "\t 1 & 6\\\\\n",
       "\\end{tabular}\n"
      ],
      "text/markdown": [
       "\n",
       "A tibble: 2 × 2\n",
       "\n",
       "| treatment &lt;dbl&gt; | r &lt;dbl&gt; |\n",
       "|---|---|\n",
       "| 0 | 4 |\n",
       "| 1 | 6 |\n",
       "\n"
      ],
      "text/plain": [
       "  treatment r\n",
       "1 0         4\n",
       "2 1         6"
      ]
     },
     "metadata": {},
     "output_type": "display_data"
    }
   ],
   "source": [
    "r_counts = df %>%\n",
    "    mutate(uncensored = 1 - censored) %>%\n",
    "    group_by(treatment) %>%\n",
    "    summarize(r = sum(uncensored))\n",
    "\n",
    "r_counts"
   ]
  },
  {
   "cell_type": "markdown",
   "metadata": {},
   "source": [
    "Calculate the standard error of the hazard rate for treatment and control using the hazard rate the the number of uncensored points."
   ]
  },
  {
   "cell_type": "code",
   "execution_count": 7,
   "metadata": {
    "vscode": {
     "languageId": "r"
    }
   },
   "outputs": [
    {
     "data": {
      "text/html": [
       "<table class=\"dataframe\">\n",
       "<caption>A tibble: 2 × 3</caption>\n",
       "<thead>\n",
       "\t<tr><th scope=col>treatment</th><th scope=col>hazard_rate_mle</th><th scope=col>se_hazard_rate</th></tr>\n",
       "\t<tr><th scope=col>&lt;dbl&gt;</th><th scope=col>&lt;dbl&gt;</th><th scope=col>&lt;dbl&gt;</th></tr>\n",
       "</thead>\n",
       "<tbody>\n",
       "\t<tr><td>0</td><td>0.02666667</td><td>0.01333333</td></tr>\n",
       "\t<tr><td>1</td><td>0.05555556</td><td>0.02268046</td></tr>\n",
       "</tbody>\n",
       "</table>\n"
      ],
      "text/latex": [
       "A tibble: 2 × 3\n",
       "\\begin{tabular}{lll}\n",
       " treatment & hazard\\_rate\\_mle & se\\_hazard\\_rate\\\\\n",
       " <dbl> & <dbl> & <dbl>\\\\\n",
       "\\hline\n",
       "\t 0 & 0.02666667 & 0.01333333\\\\\n",
       "\t 1 & 0.05555556 & 0.02268046\\\\\n",
       "\\end{tabular}\n"
      ],
      "text/markdown": [
       "\n",
       "A tibble: 2 × 3\n",
       "\n",
       "| treatment &lt;dbl&gt; | hazard_rate_mle &lt;dbl&gt; | se_hazard_rate &lt;dbl&gt; |\n",
       "|---|---|---|\n",
       "| 0 | 0.02666667 | 0.01333333 |\n",
       "| 1 | 0.05555556 | 0.02268046 |\n",
       "\n"
      ],
      "text/plain": [
       "  treatment hazard_rate_mle se_hazard_rate\n",
       "1 0         0.02666667      0.01333333    \n",
       "2 1         0.05555556      0.02268046    "
      ]
     },
     "metadata": {},
     "output_type": "display_data"
    }
   ],
   "source": [
    "hazard_rate_with_se = stats %>%\n",
    "    left_join(r_counts, by=\"treatment\") %>%\n",
    "    mutate(\n",
    "        se_hazard_rate = hazard_rate_mle / r^0.5\n",
    "    ) %>%\n",
    "    select(treatment, hazard_rate_mle, se_hazard_rate)\n",
    "\n",
    "hazard_rate_with_se"
   ]
  },
  {
   "cell_type": "markdown",
   "metadata": {},
   "source": [
    "Then, we can calculate the Wald test statistic."
   ]
  },
  {
   "cell_type": "code",
   "execution_count": 8,
   "metadata": {
    "vscode": {
     "languageId": "r"
    }
   },
   "outputs": [
    {
     "data": {
      "text/html": [
       "<table class=\"dataframe\">\n",
       "<caption>A tibble: 2 × 4</caption>\n",
       "<thead>\n",
       "\t<tr><th scope=col>treatment</th><th scope=col>hazard_rate_mle</th><th scope=col>wald_statistic</th><th scope=col>wald_p</th></tr>\n",
       "\t<tr><th scope=col>&lt;dbl&gt;</th><th scope=col>&lt;dbl&gt;</th><th scope=col>&lt;dbl&gt;</th><th scope=col>&lt;dbl&gt;</th></tr>\n",
       "</thead>\n",
       "<tbody>\n",
       "\t<tr><td>0</td><td>0.02666667</td><td>-73.00000</td><td>0</td></tr>\n",
       "\t<tr><td>1</td><td>0.05555556</td><td>-41.64133</td><td>0</td></tr>\n",
       "</tbody>\n",
       "</table>\n"
      ],
      "text/latex": [
       "A tibble: 2 × 4\n",
       "\\begin{tabular}{llll}\n",
       " treatment & hazard\\_rate\\_mle & wald\\_statistic & wald\\_p\\\\\n",
       " <dbl> & <dbl> & <dbl> & <dbl>\\\\\n",
       "\\hline\n",
       "\t 0 & 0.02666667 & -73.00000 & 0\\\\\n",
       "\t 1 & 0.05555556 & -41.64133 & 0\\\\\n",
       "\\end{tabular}\n"
      ],
      "text/markdown": [
       "\n",
       "A tibble: 2 × 4\n",
       "\n",
       "| treatment &lt;dbl&gt; | hazard_rate_mle &lt;dbl&gt; | wald_statistic &lt;dbl&gt; | wald_p &lt;dbl&gt; |\n",
       "|---|---|---|---|\n",
       "| 0 | 0.02666667 | -73.00000 | 0 |\n",
       "| 1 | 0.05555556 | -41.64133 | 0 |\n",
       "\n"
      ],
      "text/plain": [
       "  treatment hazard_rate_mle wald_statistic wald_p\n",
       "1 0         0.02666667      -73.00000      0     \n",
       "2 1         0.05555556      -41.64133      0     "
      ]
     },
     "metadata": {},
     "output_type": "display_data"
    }
   ],
   "source": [
    "wald_test = function(null_hazard_rate) {\n",
    "    hazard_rate_with_se %>%\n",
    "        mutate(wald_statistic = (hazard_rate_mle - null_hazard_rate) / se_hazard_rate) %>%\n",
    "        # two-sided test\n",
    "        mutate(wald_p = 2*(1 - pnorm(abs(wald_statistic)))) %>%\n",
    "        select(treatment, hazard_rate_mle, wald_statistic, wald_p)\n",
    "}\n",
    "\n",
    "wald_test(null_hazard_rate = 1)"
   ]
  },
  {
   "cell_type": "markdown",
   "metadata": {},
   "source": [
    "The p-value is a numerical zero for both treatment and control."
   ]
  },
  {
   "cell_type": "markdown",
   "metadata": {},
   "source": [
    "I'm also gonna throw in a bootstrap test. This is a nonparametric test, and it doesn't rely on asymptotic results. So, it will be a good sanity check to the Wald and likelihood ratio results."
   ]
  },
  {
   "cell_type": "code",
   "execution_count": 9,
   "metadata": {
    "vscode": {
     "languageId": "r"
    }
   },
   "outputs": [
    {
     "data": {
      "text/html": [
       "<table class=\"dataframe\">\n",
       "<caption>A tibble: 6 × 2</caption>\n",
       "<thead>\n",
       "\t<tr><th scope=col>treatment</th><th scope=col>hazard_rate</th></tr>\n",
       "\t<tr><th scope=col>&lt;dbl&gt;</th><th scope=col>&lt;dbl&gt;</th></tr>\n",
       "</thead>\n",
       "<tbody>\n",
       "\t<tr><td>1</td><td>0.041666667</td></tr>\n",
       "\t<tr><td>0</td><td>0.018750000</td></tr>\n",
       "\t<tr><td>1</td><td>0.020547945</td></tr>\n",
       "\t<tr><td>0</td><td>0.079545455</td></tr>\n",
       "\t<tr><td>1</td><td>0.160714286</td></tr>\n",
       "\t<tr><td>0</td><td>0.005128205</td></tr>\n",
       "</tbody>\n",
       "</table>\n"
      ],
      "text/latex": [
       "A tibble: 6 × 2\n",
       "\\begin{tabular}{ll}\n",
       " treatment & hazard\\_rate\\\\\n",
       " <dbl> & <dbl>\\\\\n",
       "\\hline\n",
       "\t 1 & 0.041666667\\\\\n",
       "\t 0 & 0.018750000\\\\\n",
       "\t 1 & 0.020547945\\\\\n",
       "\t 0 & 0.079545455\\\\\n",
       "\t 1 & 0.160714286\\\\\n",
       "\t 0 & 0.005128205\\\\\n",
       "\\end{tabular}\n"
      ],
      "text/markdown": [
       "\n",
       "A tibble: 6 × 2\n",
       "\n",
       "| treatment &lt;dbl&gt; | hazard_rate &lt;dbl&gt; |\n",
       "|---|---|\n",
       "| 1 | 0.041666667 |\n",
       "| 0 | 0.018750000 |\n",
       "| 1 | 0.020547945 |\n",
       "| 0 | 0.079545455 |\n",
       "| 1 | 0.160714286 |\n",
       "| 0 | 0.005128205 |\n",
       "\n"
      ],
      "text/plain": [
       "  treatment hazard_rate\n",
       "1 1         0.041666667\n",
       "2 0         0.018750000\n",
       "3 1         0.020547945\n",
       "4 0         0.079545455\n",
       "5 1         0.160714286\n",
       "6 0         0.005128205"
      ]
     },
     "metadata": {},
     "output_type": "display_data"
    }
   ],
   "source": [
    "n = 1000\n",
    "treatment_hazard_boots = rep(0, n)\n",
    "control_hazard_boots = rep(0, n)\n",
    "\n",
    "for (i in 1:n) {\n",
    "    res = df %>%\n",
    "        # resample the data\n",
    "        sample_n(size = nrow(df), replace=TRUE) %>%\n",
    "        # group by treatment and compute the hazard rate mle\n",
    "        group_by(treatment) %>%\n",
    "        summarize(\n",
    "            time_at_risk = sum(time_at_risk),\n",
    "            n_events = sum(censored == 0)\n",
    "        ) %>%\n",
    "        mutate(hazard_rate_mle = n_events / time_at_risk) %>%\n",
    "        select(treatment, hazard_rate_mle)\n",
    "    \n",
    "    t_hazard = res %>% filter(treatment == 1) %>% pull(hazard_rate_mle)\n",
    "    c_hazard = res %>% filter(treatment == 0) %>% pull(hazard_rate_mle)\n",
    "    \n",
    "    treatment_hazard_boots[i] = t_hazard\n",
    "    control_hazard_boots[i] = c_hazard\n",
    "}\n",
    "\n",
    "boots = data.frame(\n",
    "        treatment = treatment_hazard_boots,\n",
    "        control = control_hazard_boots\n",
    "    ) %>%\n",
    "    pivot_longer(cols = everything(), names_to = \"treatment\", values_to = \"hazard_rate\") %>%\n",
    "    mutate(treatment = as.numeric(treatment == \"treatment\"))\n",
    "\n",
    "head(boots)"
   ]
  },
  {
   "cell_type": "markdown",
   "metadata": {},
   "source": [
    "The rows in this dataframe correspond to samples from the sampling distribution of $\\lambda$ for treatment and control.\n",
    "\n",
    "To do the bootstrap test, we compare the null to the distribution of the MLE hazard rate."
   ]
  },
  {
   "cell_type": "code",
   "execution_count": 10,
   "metadata": {
    "vscode": {
     "languageId": "r"
    }
   },
   "outputs": [
    {
     "data": {
      "text/html": [
       "<table class=\"dataframe\">\n",
       "<caption>A rowwise_df: 2 × 3</caption>\n",
       "<thead>\n",
       "\t<tr><th scope=col>treatment</th><th scope=col>quantile</th><th scope=col>bootstrap_p</th></tr>\n",
       "\t<tr><th scope=col>&lt;dbl&gt;</th><th scope=col>&lt;dbl&gt;</th><th scope=col>&lt;dbl&gt;</th></tr>\n",
       "</thead>\n",
       "<tbody>\n",
       "\t<tr><td>0</td><td>1</td><td>0</td></tr>\n",
       "\t<tr><td>1</td><td>1</td><td>0</td></tr>\n",
       "</tbody>\n",
       "</table>\n"
      ],
      "text/latex": [
       "A rowwise\\_df: 2 × 3\n",
       "\\begin{tabular}{lll}\n",
       " treatment & quantile & bootstrap\\_p\\\\\n",
       " <dbl> & <dbl> & <dbl>\\\\\n",
       "\\hline\n",
       "\t 0 & 1 & 0\\\\\n",
       "\t 1 & 1 & 0\\\\\n",
       "\\end{tabular}\n"
      ],
      "text/markdown": [
       "\n",
       "A rowwise_df: 2 × 3\n",
       "\n",
       "| treatment &lt;dbl&gt; | quantile &lt;dbl&gt; | bootstrap_p &lt;dbl&gt; |\n",
       "|---|---|---|\n",
       "| 0 | 1 | 0 |\n",
       "| 1 | 1 | 0 |\n",
       "\n"
      ],
      "text/plain": [
       "  treatment quantile bootstrap_p\n",
       "1 0         1        0          \n",
       "2 1         1        0          "
      ]
     },
     "metadata": {},
     "output_type": "display_data"
    }
   ],
   "source": [
    "bootstrap_test = function(null_rate) {\n",
    "    boots %>%\n",
    "        mutate(smaller = hazard_rate < null_rate) %>%\n",
    "        group_by(treatment) %>%\n",
    "\n",
    "        # what proportion of the bootstrap samples are less than the null rate?\n",
    "        summarize(quantile = mean(smaller)) %>%\n",
    "        rowwise() %>%\n",
    "\n",
    "        # two sided test\n",
    "        mutate(bootstrap_p = min(quantile, 1 - quantile))\n",
    "}\n",
    "\n",
    "bootstrap_test(null_rate = 1)"
   ]
  },
  {
   "cell_type": "markdown",
   "metadata": {},
   "source": [
    "The p-value is zero, meaning that every resampled value was less than $H_0: \\lambda = 1$."
   ]
  },
  {
   "cell_type": "markdown",
   "metadata": {},
   "source": [
    "All three tests agree and reject the null with high confidence."
   ]
  },
  {
   "cell_type": "markdown",
   "metadata": {},
   "source": [
    "**(d) For each treatment group, what is the p-value for $H0 : λ = 0.05$ versus $H1 : λ \\ne 0.05$ using likelihood ratio test and Wald test?**"
   ]
  },
  {
   "cell_type": "code",
   "execution_count": 11,
   "metadata": {
    "vscode": {
     "languageId": "r"
    }
   },
   "outputs": [
    {
     "data": {
      "text/html": [
       "<table class=\"dataframe\">\n",
       "<caption>A tibble: 2 × 5</caption>\n",
       "<thead>\n",
       "\t<tr><th scope=col>treatment</th><th scope=col>log_p_null</th><th scope=col>log_p_alt</th><th scope=col>likelihood_ratio_test_statistic</th><th scope=col>lr_p_value</th></tr>\n",
       "\t<tr><th scope=col>&lt;dbl&gt;</th><th scope=col>&lt;dbl&gt;</th><th scope=col>&lt;dbl&gt;</th><th scope=col>&lt;dbl&gt;</th><th scope=col>&lt;dbl&gt;</th></tr>\n",
       "</thead>\n",
       "<tbody>\n",
       "\t<tr><td>0</td><td>-19.48293</td><td>-18.49736</td><td>1.97113072</td><td>0.1603279</td></tr>\n",
       "\t<tr><td>1</td><td>-23.37439</td><td>-23.34223</td><td>0.06432619</td><td>0.7997844</td></tr>\n",
       "</tbody>\n",
       "</table>\n"
      ],
      "text/latex": [
       "A tibble: 2 × 5\n",
       "\\begin{tabular}{lllll}\n",
       " treatment & log\\_p\\_null & log\\_p\\_alt & likelihood\\_ratio\\_test\\_statistic & lr\\_p\\_value\\\\\n",
       " <dbl> & <dbl> & <dbl> & <dbl> & <dbl>\\\\\n",
       "\\hline\n",
       "\t 0 & -19.48293 & -18.49736 & 1.97113072 & 0.1603279\\\\\n",
       "\t 1 & -23.37439 & -23.34223 & 0.06432619 & 0.7997844\\\\\n",
       "\\end{tabular}\n"
      ],
      "text/markdown": [
       "\n",
       "A tibble: 2 × 5\n",
       "\n",
       "| treatment &lt;dbl&gt; | log_p_null &lt;dbl&gt; | log_p_alt &lt;dbl&gt; | likelihood_ratio_test_statistic &lt;dbl&gt; | lr_p_value &lt;dbl&gt; |\n",
       "|---|---|---|---|---|\n",
       "| 0 | -19.48293 | -18.49736 | 1.97113072 | 0.1603279 |\n",
       "| 1 | -23.37439 | -23.34223 | 0.06432619 | 0.7997844 |\n",
       "\n"
      ],
      "text/plain": [
       "  treatment log_p_null log_p_alt likelihood_ratio_test_statistic lr_p_value\n",
       "1 0         -19.48293  -18.49736 1.97113072                      0.1603279 \n",
       "2 1         -23.37439  -23.34223 0.06432619                      0.7997844 "
      ]
     },
     "metadata": {},
     "output_type": "display_data"
    }
   ],
   "source": [
    "likelihood_ratio_test(null_rate = 0.05)"
   ]
  },
  {
   "cell_type": "markdown",
   "metadata": {},
   "source": [
    "So, the p-values are 0.16 for the control and 0.80 for the treatment. We cannot reject the null $H_0: \\lambda = 0.05$."
   ]
  },
  {
   "cell_type": "code",
   "execution_count": 12,
   "metadata": {
    "vscode": {
     "languageId": "r"
    }
   },
   "outputs": [
    {
     "data": {
      "text/html": [
       "<table class=\"dataframe\">\n",
       "<caption>A tibble: 2 × 4</caption>\n",
       "<thead>\n",
       "\t<tr><th scope=col>treatment</th><th scope=col>hazard_rate_mle</th><th scope=col>wald_statistic</th><th scope=col>wald_p</th></tr>\n",
       "\t<tr><th scope=col>&lt;dbl&gt;</th><th scope=col>&lt;dbl&gt;</th><th scope=col>&lt;dbl&gt;</th><th scope=col>&lt;dbl&gt;</th></tr>\n",
       "</thead>\n",
       "<tbody>\n",
       "\t<tr><td>0</td><td>0.02666667</td><td>-1.750000</td><td>0.08011831</td></tr>\n",
       "\t<tr><td>1</td><td>0.05555556</td><td> 0.244949</td><td>0.80649594</td></tr>\n",
       "</tbody>\n",
       "</table>\n"
      ],
      "text/latex": [
       "A tibble: 2 × 4\n",
       "\\begin{tabular}{llll}\n",
       " treatment & hazard\\_rate\\_mle & wald\\_statistic & wald\\_p\\\\\n",
       " <dbl> & <dbl> & <dbl> & <dbl>\\\\\n",
       "\\hline\n",
       "\t 0 & 0.02666667 & -1.750000 & 0.08011831\\\\\n",
       "\t 1 & 0.05555556 &  0.244949 & 0.80649594\\\\\n",
       "\\end{tabular}\n"
      ],
      "text/markdown": [
       "\n",
       "A tibble: 2 × 4\n",
       "\n",
       "| treatment &lt;dbl&gt; | hazard_rate_mle &lt;dbl&gt; | wald_statistic &lt;dbl&gt; | wald_p &lt;dbl&gt; |\n",
       "|---|---|---|---|\n",
       "| 0 | 0.02666667 | -1.750000 | 0.08011831 |\n",
       "| 1 | 0.05555556 |  0.244949 | 0.80649594 |\n",
       "\n"
      ],
      "text/plain": [
       "  treatment hazard_rate_mle wald_statistic wald_p    \n",
       "1 0         0.02666667      -1.750000      0.08011831\n",
       "2 1         0.05555556       0.244949      0.80649594"
      ]
     },
     "metadata": {},
     "output_type": "display_data"
    }
   ],
   "source": [
    "wald_test(null_hazard_rate = 0.05)"
   ]
  },
  {
   "cell_type": "markdown",
   "metadata": {},
   "source": [
    "The p-values here are similar, 0.08 for control and 0.81 for treatment. We cannot reject the null."
   ]
  },
  {
   "cell_type": "code",
   "execution_count": 13,
   "metadata": {
    "vscode": {
     "languageId": "r"
    }
   },
   "outputs": [
    {
     "data": {
      "text/html": [
       "<table class=\"dataframe\">\n",
       "<caption>A rowwise_df: 2 × 3</caption>\n",
       "<thead>\n",
       "\t<tr><th scope=col>treatment</th><th scope=col>quantile</th><th scope=col>bootstrap_p</th></tr>\n",
       "\t<tr><th scope=col>&lt;dbl&gt;</th><th scope=col>&lt;dbl&gt;</th><th scope=col>&lt;dbl&gt;</th></tr>\n",
       "</thead>\n",
       "<tbody>\n",
       "\t<tr><td>0</td><td>0.906</td><td>0.094</td></tr>\n",
       "\t<tr><td>1</td><td>0.413</td><td>0.413</td></tr>\n",
       "</tbody>\n",
       "</table>\n"
      ],
      "text/latex": [
       "A rowwise\\_df: 2 × 3\n",
       "\\begin{tabular}{lll}\n",
       " treatment & quantile & bootstrap\\_p\\\\\n",
       " <dbl> & <dbl> & <dbl>\\\\\n",
       "\\hline\n",
       "\t 0 & 0.906 & 0.094\\\\\n",
       "\t 1 & 0.413 & 0.413\\\\\n",
       "\\end{tabular}\n"
      ],
      "text/markdown": [
       "\n",
       "A rowwise_df: 2 × 3\n",
       "\n",
       "| treatment &lt;dbl&gt; | quantile &lt;dbl&gt; | bootstrap_p &lt;dbl&gt; |\n",
       "|---|---|---|\n",
       "| 0 | 0.906 | 0.094 |\n",
       "| 1 | 0.413 | 0.413 |\n",
       "\n"
      ],
      "text/plain": [
       "  treatment quantile bootstrap_p\n",
       "1 0         0.906    0.094      \n",
       "2 1         0.413    0.413      "
      ]
     },
     "metadata": {},
     "output_type": "display_data"
    }
   ],
   "source": [
    "bootstrap_test(null_rate = 0.05)"
   ]
  },
  {
   "cell_type": "markdown",
   "metadata": {},
   "source": [
    "The bootstrap test found a comparable p-value for control (p = 0.11), but the treatment p-value is quite different, at 0.39. This is much smaller than the 0.80 and 0.81 from the other tests. So, the bootstrap test is much more skeptical of the 0.05 value."
   ]
  },
  {
   "cell_type": "code",
   "execution_count": 14,
   "metadata": {
    "vscode": {
     "languageId": "r"
    }
   },
   "outputs": [
    {
     "data": {
      "image/png": "[encoded data removed]",
      "text/plain": [
       "plot without title"
      ]
     },
     "metadata": {
      "image/png": {
       "height": 420,
       "width": 420
      }
     },
     "output_type": "display_data"
    }
   ],
   "source": [
    "ggplot() +\n",
    "    geom_histogram(\n",
    "        aes(x = boots %>%\n",
    "            filter(treatment == 1) %>%\n",
    "            pull(hazard_rate)),\n",
    "        bins=30\n",
    "    ) +\n",
    "    xlab(\"Hazard Rate\") +\n",
    "    labs(title=\"Histogram of Bootstrapped MLE Hazard Rate for Treament Group\")"
   ]
  },
  {
   "cell_type": "markdown",
   "metadata": {},
   "source": [
    "**(e) Construct 95% Wald confidence interval on λ for each group, is there overlap between these two 95% confidence intervals?**"
   ]
  },
  {
   "cell_type": "code",
   "execution_count": 15,
   "metadata": {
    "vscode": {
     "languageId": "r"
    }
   },
   "outputs": [
    {
     "data": {
      "text/html": [
       "<table class=\"dataframe\">\n",
       "<caption>A tibble: 2 × 5</caption>\n",
       "<thead>\n",
       "\t<tr><th scope=col>treatment</th><th scope=col>hazard_rate_mle</th><th scope=col>se_hazard_rate</th><th scope=col>ci_95_lower</th><th scope=col>ci_95_upper</th></tr>\n",
       "\t<tr><th scope=col>&lt;dbl&gt;</th><th scope=col>&lt;dbl&gt;</th><th scope=col>&lt;dbl&gt;</th><th scope=col>&lt;dbl&gt;</th><th scope=col>&lt;dbl&gt;</th></tr>\n",
       "</thead>\n",
       "<tbody>\n",
       "\t<tr><td>0</td><td>0.02666667</td><td>0.01333333</td><td>0.0005333333</td><td>0.0528000</td></tr>\n",
       "\t<tr><td>1</td><td>0.05555556</td><td>0.02268046</td><td>0.0111018528</td><td>0.1000093</td></tr>\n",
       "</tbody>\n",
       "</table>\n"
      ],
      "text/latex": [
       "A tibble: 2 × 5\n",
       "\\begin{tabular}{lllll}\n",
       " treatment & hazard\\_rate\\_mle & se\\_hazard\\_rate & ci\\_95\\_lower & ci\\_95\\_upper\\\\\n",
       " <dbl> & <dbl> & <dbl> & <dbl> & <dbl>\\\\\n",
       "\\hline\n",
       "\t 0 & 0.02666667 & 0.01333333 & 0.0005333333 & 0.0528000\\\\\n",
       "\t 1 & 0.05555556 & 0.02268046 & 0.0111018528 & 0.1000093\\\\\n",
       "\\end{tabular}\n"
      ],
      "text/markdown": [
       "\n",
       "A tibble: 2 × 5\n",
       "\n",
       "| treatment &lt;dbl&gt; | hazard_rate_mle &lt;dbl&gt; | se_hazard_rate &lt;dbl&gt; | ci_95_lower &lt;dbl&gt; | ci_95_upper &lt;dbl&gt; |\n",
       "|---|---|---|---|---|\n",
       "| 0 | 0.02666667 | 0.01333333 | 0.0005333333 | 0.0528000 |\n",
       "| 1 | 0.05555556 | 0.02268046 | 0.0111018528 | 0.1000093 |\n",
       "\n"
      ],
      "text/plain": [
       "  treatment hazard_rate_mle se_hazard_rate ci_95_lower  ci_95_upper\n",
       "1 0         0.02666667      0.01333333     0.0005333333 0.0528000  \n",
       "2 1         0.05555556      0.02268046     0.0111018528 0.1000093  "
      ]
     },
     "metadata": {},
     "output_type": "display_data"
    }
   ],
   "source": [
    "hazard_rate_with_se %>%\n",
    "    mutate(\n",
    "        ci_95_lower = hazard_rate_mle - 1.96*se_hazard_rate,\n",
    "        ci_95_upper = hazard_rate_mle + 1.96*se_hazard_rate\n",
    "    )"
   ]
  },
  {
   "cell_type": "markdown",
   "metadata": {},
   "source": [
    "So, the Wald 95% confidence interval for treatment hazard rate is $[0.0111018528,\t0.1000093]$, and for the control hazard rate, it's $[0.0005333333,\t0.0528000]$. These do overlap. So, we cannot reject the null that they are the same."
   ]
  },
  {
   "cell_type": "markdown",
   "metadata": {},
   "source": [
    "**(f) What is the hazard ratio (HR) and its 95%CI between two treatment groups? Hint: you may find 95%CI for log (HR) first (similar to page 66 in the course notes).**"
   ]
  },
  {
   "cell_type": "markdown",
   "metadata": {},
   "source": [
    "Let $\\rho$ represent the true hazard ratio. Let $\\lambda_T$ and $\\lambda_C$ be the true hazard rates for treatment and control. Then, $\\rho$ is given by,\n",
    "\n",
    "$$\n",
    "\\rho = {\\lambda_T \\over \\lambda_C}\n",
    "$$\n",
    "\n",
    "We will use the estimator,\n",
    "\n",
    "$$\n",
    "\\hat{\\rho} = {\\hat{\\lambda}_T \\over \\hat{\\lambda}_C}\n",
    "$$\n",
    "\n",
    "We defined $\\hat{\\lambda}_T$ and $\\hat{\\lambda}_C$ as MLE estimators, so by invariance, $\\hat{\\rho}$ is a maximum likelihood estimator.\n",
    "\n",
    "Consider the 2-term truncated Taylor series of the natural log of this hazard rate estimator about $E[\\hat{\\lambda}]$.\n",
    "\n",
    "$$\n",
    "\\ln(\\hat{\\lambda}) \\approx \\ln(E[\\hat{\\lambda}]) + \\ln'(E[\\hat{\\lambda}])(\\hat{\\lambda} - E[\\hat{\\lambda}])\n",
    "$$\n",
    "\n",
    "$$\n",
    "\\ln(\\hat{\\lambda}) \\approx \\ln({1 \\over \\lambda}) + {1 \\over \\lambda}(\\hat{\\lambda} - \\lambda)\n",
    "$$\n",
    "\n",
    "$$\n",
    "\\ln(\\hat{\\lambda}) \\approx -\\ln(\\lambda) + {1 \\over \\lambda}\\hat{\\lambda} - 1\n",
    "$$\n",
    "\n",
    "Take the variance,\n",
    "\n",
    "$$\n",
    "var(\\ln(\\hat{\\lambda})) \\approx var({1 \\over \\lambda}\\hat{\\lambda})\n",
    "$$\n",
    "\n",
    "$$\n",
    "var(\\ln(\\hat{\\lambda})) \\approx {1 \\over \\lambda^2}var(\\hat{\\lambda})\n",
    "$$\n",
    "\n",
    "We have that, $var(\\hat{\\lambda}) = {\\lambda^2 \\over r}$. So,\n",
    "\n",
    "$$\n",
    "var(\\ln(\\hat{\\lambda})) \\approx {1 \\over \\lambda^2}{\\lambda^2 \\over r}\n",
    "$$\n",
    "\n",
    "$$\n",
    "var(\\ln(\\hat{\\lambda})) \\approx {1 \\over r}\n",
    "$$"
   ]
  },
  {
   "cell_type": "markdown",
   "metadata": {},
   "source": [
    "Consider the natural log of the hazard ratio estimator, $\\hat{\\rho}$.\n",
    "\n",
    "$$\n",
    "\\ln(\\hat{\\rho}) = \\ln{\\hat{\\lambda}_T \\over \\hat{\\lambda}_C}\n",
    "$$\n",
    "\n",
    "$$\n",
    "\\ln(\\hat{\\rho}) = \\ln(\\hat{\\lambda}_T) - \\ln(\\hat{\\lambda}_C)\n",
    "$$\n",
    "\n",
    "So,\n",
    "\n",
    "$$\n",
    "var(\\ln(\\hat{\\rho})) = var(\\ln(\\hat{\\lambda}_T) - \\ln(\\hat{\\lambda}_C))\n",
    "$$\n",
    "\n",
    "The parameters $\\hat{\\lambda}_T$ and $\\hat{\\lambda}_C$ are functions of independent samples, so they are independent.\n",
    "\n",
    "$$\n",
    "var(\\ln(\\hat{\\rho})) = var(\\ln(\\hat{\\lambda}_T)) + var(\\ln(\\hat{\\lambda}_C))\n",
    "$$\n",
    "\n",
    "Using the approximation derived above, we get,\n",
    "\n",
    "$$\n",
    "var(\\ln(\\hat{\\rho})) \\approx {1 \\over r_T} + {1 \\over r_C}\n",
    "$$\n",
    "\n",
    "We can use this to construct a 95% Wald confidence interval for $\\ln(\\rho)$.\n",
    "\n",
    "$$\n",
    "\\ln(\\hat{\\rho}) \\pm 1.96\\sqrt{{1 \\over r_T} + {1 \\over r_C}}\n",
    "$$\n",
    "\n",
    "So, our confidence interval for $\\rho$ is given by,\n",
    "\n",
    "$$\n",
    "\\hat{\\rho}\\exp \\left(\\pm 1.96\\sqrt{{1 \\over r_T} + {1 \\over r_C}} \\right)\n",
    "$$"
   ]
  },
  {
   "cell_type": "markdown",
   "metadata": {},
   "source": [
    "Calculate $\\hat{\\rho}$"
   ]
  },
  {
   "cell_type": "code",
   "execution_count": 16,
   "metadata": {
    "vscode": {
     "languageId": "r"
    }
   },
   "outputs": [
    {
     "data": {
      "text/html": [
       "2.08333333333333"
      ],
      "text/latex": [
       "2.08333333333333"
      ],
      "text/markdown": [
       "2.08333333333333"
      ],
      "text/plain": [
       "[1] 2.083333"
      ]
     },
     "metadata": {},
     "output_type": "display_data"
    }
   ],
   "source": [
    "lambda_hats = stats %>%\n",
    "    select(hazard_rate_mle) %>%\n",
    "    pull()\n",
    "\n",
    "rho_hat = lambda_hats[2] / lambda_hats[1]\n",
    "\n",
    "rho_hat"
   ]
  },
  {
   "cell_type": "markdown",
   "metadata": {},
   "source": [
    "Calculate the 95% Wald confidence interval."
   ]
  },
  {
   "cell_type": "code",
   "execution_count": 17,
   "metadata": {
    "vscode": {
     "languageId": "r"
    }
   },
   "outputs": [
    {
     "data": {
      "text/html": [
       "<style>\n",
       ".list-inline {list-style: none; margin:0; padding: 0}\n",
       ".list-inline>li {display: inline-block}\n",
       ".list-inline>li:not(:last-child)::after {content: \"\\00b7\"; padding: 0 .5ex}\n",
       "</style>\n",
       "<ol class=list-inline><li>0.587895901700502</li><li>7.3827318156555</li></ol>\n"
      ],
      "text/latex": [
       "\\begin{enumerate*}\n",
       "\\item 0.587895901700502\n",
       "\\item 7.3827318156555\n",
       "\\end{enumerate*}\n"
      ],
      "text/markdown": [
       "1. 0.587895901700502\n",
       "2. 7.3827318156555\n",
       "\n",
       "\n"
      ],
      "text/plain": [
       "[1] 0.5878959 7.3827318"
      ]
     },
     "metadata": {},
     "output_type": "display_data"
    }
   ],
   "source": [
    "sum_recip = r_counts %>%\n",
    "    mutate(r_recip = 1/r) %>%\n",
    "    summarize(sum(r_recip)) %>%\n",
    "    pull()\n",
    "\n",
    "error_band = exp(1.96*sqrt(sum_recip))\n",
    "\n",
    "c(rho_hat/error_band, rho_hat*error_band)"
   ]
  },
  {
   "cell_type": "markdown",
   "metadata": {},
   "source": [
    "Let's do the 95% confidence interval on the hazard rattio using the bootstrap. We can compare this to the Wald confidence interval to confirm that they corroborate each other."
   ]
  },
  {
   "cell_type": "code",
   "execution_count": 18,
   "metadata": {
    "vscode": {
     "languageId": "r"
    }
   },
   "outputs": [
    {
     "data": {
      "text/html": [
       "2.90082243278118"
      ],
      "text/latex": [
       "2.90082243278118"
      ],
      "text/markdown": [
       "2.90082243278118"
      ],
      "text/plain": [
       "[1] 2.900822"
      ]
     },
     "metadata": {},
     "output_type": "display_data"
    },
    {
     "data": {
      "text/html": [
       "2.11814556331007"
      ],
      "text/latex": [
       "2.11814556331007"
      ],
      "text/markdown": [
       "2.11814556331007"
      ],
      "text/plain": [
       "[1] 2.118146"
      ]
     },
     "metadata": {},
     "output_type": "display_data"
    },
    {
     "data": {
      "text/html": [
       "<style>\n",
       ".dl-inline {width: auto; margin:0; padding: 0}\n",
       ".dl-inline>dt, .dl-inline>dd {float: none; width: auto; display: inline-block}\n",
       ".dl-inline>dt::after {content: \":\\0020\"; padding-right: .5ex}\n",
       ".dl-inline>dt:not(:first-of-type) {padding-left: .5ex}\n",
       "</style><dl class=dl-inline><dt>2.5%</dt><dd>0.409774596405726</dd><dt>97.5%</dt><dd>10.0552250409165</dd></dl>\n"
      ],
      "text/latex": [
       "\\begin{description*}\n",
       "\\item[2.5\\textbackslash{}\\%] 0.409774596405726\n",
       "\\item[97.5\\textbackslash{}\\%] 10.0552250409165\n",
       "\\end{description*}\n"
      ],
      "text/markdown": [
       "2.5%\n",
       ":   0.40977459640572697.5%\n",
       ":   10.0552250409165\n",
       "\n"
      ],
      "text/plain": [
       "      2.5%      97.5% \n",
       " 0.4097746 10.0552250 "
      ]
     },
     "metadata": {},
     "output_type": "display_data"
    },
    {
     "data": {
      "image/png": "[encoded data removed]",
      "text/plain": [
       "plot without title"
      ]
     },
     "metadata": {
      "image/png": {
       "height": 420,
       "width": 420
      }
     },
     "output_type": "display_data"
    }
   ],
   "source": [
    "boot_hazard_ratios = data.frame(\n",
    "    treat_boot = boots %>% filter(treatment == 1) %>% pull(hazard_rate),\n",
    "    control_boot = boots %>% filter(treatment == 0) %>% pull(hazard_rate)\n",
    ") %>%\n",
    "    mutate(hazard_ratio = treat_boot / control_boot) %>%\n",
    "    pull(hazard_ratio)\n",
    "\n",
    "boot_hazard_ratios = boot_hazard_ratios[!is.nan(boot_hazard_ratios) & !is.infinite(boot_hazard_ratios)]\n",
    "\n",
    "mean(boot_hazard_ratios)\n",
    "median(boot_hazard_ratios)\n",
    "quantile(boot_hazard_ratios, c(0.025, 0.975))\n",
    "\n",
    "ggplot() +\n",
    "    geom_histogram(aes(x=boot_hazard_ratios), bins=100) +\n",
    "    geom_vline(xintercept=rho_hat) +\n",
    "    geom_vline(xintercept=c(rho_hat/error_band, rho_hat*error_band), color=\"red\")\n"
   ]
  },
  {
   "cell_type": "markdown",
   "metadata": {},
   "source": [
    "The red lines are the 95% Wald confidence interval, and the black line is the MLE hazard ratio. They seem like a sane summary of the bootstrap distribution.\n",
    "\n",
    "The bootstap confidence interval of $[0.535744322960471, 11.1300479808077]$, which is pretty similar to the Wald confidence interval of $[0.587895901700502, 7.3827318156555]$.\n",
    "\n",
    "This suggests that we didn't make a terrible mistake anywhere."
   ]
  },
  {
   "cell_type": "markdown",
   "metadata": {},
   "source": []
  }
 ],
 "metadata": {
  "kernelspec": {
   "display_name": "R",
   "language": "R",
   "name": "ir"
  },
  "language_info": {
   "codemirror_mode": "r",
   "file_extension": ".r",
   "mimetype": "text/x-r-source",
   "name": "R",
   "pygments_lexer": "r",
   "version": "4.4.2"
  }
 },
 "nbformat": 4,
 "nbformat_minor": 2
}
