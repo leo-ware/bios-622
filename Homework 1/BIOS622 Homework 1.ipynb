{
 "cells": [
  {
   "cell_type": "markdown",
   "metadata": {},
   "source": [
    "**1. The investigator of a clinical trial in cancer patients would like to perform a randomization, open-label study to determine whether a correlation exists between treatments (chemo+vitamin D versus chemo+placebo) and number of chemo-therapy cycles completed without treatment-limiting neurotoxicity (all patients wil have chemo-therapy). Describe what would be the event and which observations would be considered censored for such a study.**"
   ]
  },
  {
   "cell_type": "markdown",
   "metadata": {},
   "source": [
    "We are going to assign patients either to the vitamin D group (treatment) or placebo. Then, we are going to track the number of chemo sesssions we can do before onset of treatment-limiting neurotoxicity.\n",
    "\n",
    "The event is the onset of treatment-limiting neurotoxicity. Right censoring would occur if a patient did not experience treatment-limiting neurotoxicity. Left censoring would occur if the patient received an unknown number of additional treatments. For example, if a patient were entered into the study after receiving an unknown number of previous chemo sessions, that would be an example of left-censoring. However, that would likely be inconsistent with the randomization, which is specified in the study design."
   ]
  },
  {
   "cell_type": "markdown",
   "metadata": {},
   "source": [
    "**2. A hazard function $h(t)$ (page 26) and cumulative hazard function $H(t)$ (page 27) are defined as**\n",
    "$$\n",
    "h(t) = \\lim_{\\Delta t \\to 0} \\frac{1}{\\Delta t} P[t \\leq T < t +\\Delta t | T > t] = \\frac{f(t)}{S(t)},\n",
    "$$\n",
    "$$\n",
    "H(t) = \\int_0^t h(s)ds,\n",
    "$$\n",
    "**respectively, where $f(t)$ is p.d.f and $S(t)$ is the survival function. Prove $H(t) = - log(S(t))$.**"
   ]
  },
  {
   "cell_type": "markdown",
   "metadata": {},
   "source": [
    "We have that,\n",
    "\n",
    "$$\n",
    "H(t) = \\int_{0}^t {f(t) \\over S(t)} dt\n",
    "$$\n",
    "\n",
    "Then,\n",
    "\n",
    "$$\n",
    "H(t) = \\int_{0}^t f(t)S(t)^{-1} dt\n",
    "$$\n",
    "\n",
    "$$\n",
    "H(t) = \\left[ \\int f(t)S(t)^{-1} \\right]_0^t dt dt\n",
    "$$\n",
    "\n"
   ]
  },
  {
   "cell_type": "markdown",
   "metadata": {},
   "source": [
    "By definition,\n",
    "\n",
    "$$\n",
    "S(t) = 1 - \\int_0^t f(x) dx\n",
    "$$\n",
    "\n",
    "Observe that,\n",
    "\n",
    "$$\n",
    "S(0) = 1\n",
    "$$\n",
    "\n",
    "Observe that,\n",
    "\n",
    "$$\n",
    "S'(t) = {d \\over dt} \\left( - \\int_0^t f(x) dx \\right) = -f(t)\n",
    "$$"
   ]
  },
  {
   "cell_type": "markdown",
   "metadata": {},
   "source": [
    "Consider the quantity,\n",
    "\n",
    "$$\n",
    "g(t) = \\left(-\\ln(S(t))\\right)\n",
    "$$\n",
    "\n",
    "Then,\n",
    "\n",
    "$$\n",
    "g'(t) = {d \\over dt}\\left(-\\ln(S(t))\\right)\n",
    "$$\n",
    "\n",
    "$$\n",
    "g'(t) = -{d \\over dt}\\ln(S(t))\n",
    "$$\n",
    "\n",
    "$$\n",
    "g'(t) = -{1 \\over S(t)}S'(t)\n",
    "$$\n",
    "\n",
    "$$\n",
    "g'(t) = -{1 \\over S(t)}(-f(t))\n",
    "$$\n",
    "\n",
    "$$\n",
    "g'(t) = {f(t) \\over S(t)}\n",
    "$$"
   ]
  },
  {
   "cell_type": "markdown",
   "metadata": {},
   "source": [
    "Then,\n",
    "\n",
    "$$\n",
    "\\int g'(t) dt =  \\int {f(t) \\over S(t)} dt\n",
    "$$\n",
    "\n",
    "$$\n",
    "-\\ln(S(t)) + C =  \\int {f(t) \\over S(t)} dt\n",
    "$$\n",
    "\n",
    "$$\n",
    "\\bigg[ -\\ln(S(t)) \\bigg]_0^x =  \\left[ \\int {f(t) \\over S(t)} dt \\right]_0^x\n",
    "$$"
   ]
  },
  {
   "cell_type": "markdown",
   "metadata": {},
   "source": [
    "Then,\n",
    "\n",
    "$$\n",
    "H(t) = \\bigg[ -\\ln(S(t)) \\bigg]_0^x\n",
    "$$\n",
    "\n",
    "$$\n",
    "H(t) = (-\\ln(S(x))) - (-\\ln(S(0)))\n",
    "$$\n",
    "\n",
    "$$\n",
    "H(t) = (-\\ln(S(x))) - (-\\ln(1))\n",
    "$$\n",
    "\n",
    "$$\n",
    "H(t) = -\\ln(S(x))\n",
    "$$\n",
    "\n",
    "QED"
   ]
  },
  {
   "cell_type": "markdown",
   "metadata": {},
   "source": [
    "**3. Suppose that a random variable $T$ has exponential distribution with a p.d.f $f(t) = \\lambda e^{-\\lambda t}$, where $t \\ge 0$. (1) find mean $E(T)$ and variance $Var(T)$ of this random variable, assuming $\\lambda$ is a known constant; (2) derive the equation of $F(t)$, $S(t)$, $h(t)$ and $H(t)$ respectively, based on $f(t)$.**"
   ]
  },
  {
   "cell_type": "markdown",
   "metadata": {},
   "source": [
    "$$\n",
    "E[t] = \\int_{-\\infty}^\\infty t\\lambda e^{-\\lambda t} dt\n",
    "$$\n",
    "\n",
    "$$\n",
    "E[t] = -\\int_0^\\infty t (-\\lambda) e^{-\\lambda t} dt\n",
    "$$\n",
    "\n",
    "$$\n",
    "E[t] = -\\left[ \\int t (-\\lambda) e^{-\\lambda t} dt \\right]_0^\\infty\n",
    "$$"
   ]
  },
  {
   "cell_type": "markdown",
   "metadata": {},
   "source": [
    "Integration by parts,\n",
    "\n",
    "$$\n",
    "u = t\n",
    "$$\n",
    "\n",
    "$$\n",
    "du = dt\n",
    "$$\n",
    "\n",
    "$$\n",
    "v = e^{-\\lambda t}\n",
    "$$\n",
    "\n",
    "$$\n",
    "dv = -\\lambda e^{-\\lambda t} dt\n",
    "$$"
   ]
  },
  {
   "cell_type": "markdown",
   "metadata": {},
   "source": [
    "So,\n",
    "\n",
    "$$\n",
    "E[t] = -\\left[ te^{-\\lambda t} - \\int e^{-\\lambda t} dt \\right]_0^\\infty\n",
    "$$\n",
    "\n",
    "Then,\n",
    "\n",
    "$$\n",
    "E[t] = -\\left[ te^{-\\lambda t} + \\lambda^{-1} \\int -\\lambda e^{-\\lambda t} dt \\right]_0^\\infty\n",
    "$$\n",
    "\n",
    "$$\n",
    "E[t] = -\\left[ te^{-\\lambda t} + \\lambda^{-1} e^{-\\lambda t} \\right]_0^\\infty\n",
    "$$\n",
    "\n",
    "$$\n",
    "E[t] = -\\left[ (t  + \\lambda^{-1})e^{-\\lambda t} \\right]_0^\\infty\n",
    "$$\n",
    "\n",
    "$$\n",
    "E[t] = - \\lim_{x \\to \\infty} \\left[ (t  + \\lambda^{-1})e^{-\\lambda t} \\right]_0^x\n",
    "$$\n",
    "\n",
    "$$\n",
    "E[t] = - \\lim_{x \\to \\infty} \\left( (x  + \\lambda^{-1})e^{-\\lambda x}-(0  + \\lambda^{-1})e^{-\\lambda (0)} \\right)\n",
    "$$\n",
    "\n",
    "$$\n",
    "E[t] = \\lambda^{-1} - \\lim_{x \\to \\infty} \\left( xe^{-\\lambda x}  + \\lambda^{-1}e^{-\\lambda x} \\right)\n",
    "$$\n",
    "\n",
    "$$\n",
    "E[t] = \\lambda^{-1} - \\lim_{x \\to \\infty} ( xe^{-\\lambda x})  - \\lim_{x \\to \\infty}( \\lambda^{-1}e^{-\\lambda x} )\n",
    "$$\n",
    "\n",
    "Then,\n",
    "\n",
    "$$\n",
    "E[t] = \\lambda^{-1}\n",
    "$$"
   ]
  },
  {
   "cell_type": "markdown",
   "metadata": {},
   "source": [
    "$$\n",
    "Var(T) = E[T^2] - E[T]^2\n",
    "$$\n",
    "\n",
    "Consider the first term,\n",
    "\n",
    "$$\n",
    "E[T^2] = \\int_0^\\infty t^2 \\lambda e^{-\\lambda t} dt\n",
    "$$\n",
    "\n",
    "$$\n",
    "E[T^2] = -2\\int_0^\\infty {1\\over 2}t^2 (-\\lambda) e^{-\\lambda t} dt\n",
    "$$\n",
    "\n",
    "$$\n",
    "E[T^2] = -2 \\left[ \\int {1\\over 2}t^2 (-\\lambda) e^{-\\lambda t} dt \\right]_0^\\infty\n",
    "$$\n",
    "\n",
    "Integration by parts,\n",
    "\n",
    "$u = {1\\over 2}t^2$\n",
    "\n",
    "$du = tdt$\n",
    "\n",
    "$v = e^{-\\lambda t}$\n",
    "\n",
    "$dv = -\\lambda e^{-\\lambda t}dt$"
   ]
  },
  {
   "cell_type": "markdown",
   "metadata": {},
   "source": [
    "So,\n",
    "\n",
    "$$\n",
    "E[T^2] = \\left[ -t^2e^{-\\lambda t} \\right]_0^\\infty + 2 \\int_0^\\infty e^{-\\lambda t} t dt\n",
    "$$\n",
    "\n",
    "$$\n",
    "E[T^2] =\n",
    "\\lim_{x \\to \\infty} \\left( -t^2e^{-\\lambda t} \\right) +\n",
    "{2 \\over \\lambda} \\int_0^\\infty \\lambda e^{-\\lambda t} t dt\n",
    "$$\n",
    "\n",
    "$$\n",
    "E[T^2] =\n",
    "{2 \\over \\lambda} E[X]\n",
    "$$\n",
    "\n",
    "$$\n",
    "E[T^2] =\n",
    "{2 \\over \\lambda^2}\n",
    "$$"
   ]
  },
  {
   "cell_type": "markdown",
   "metadata": {},
   "source": [
    "So,\n",
    "\n",
    "$$\n",
    "var(T) = {2 \\over \\lambda^2} - \\left( {1 \\over \\lambda} \\right)^2\n",
    "$$\n",
    "\n",
    "$$\n",
    "var(T) = {2 \\over \\lambda^2} - {1 \\over \\lambda^2}\n",
    "$$\n",
    "$$\n",
    "var(T) =  {1 \\over \\lambda^2}\n",
    "$$"
   ]
  },
  {
   "cell_type": "markdown",
   "metadata": {},
   "source": [
    "$$\n",
    "F(x) = \\int_{-\\infty}^x f(t) dt\n",
    "$$\n",
    "\n",
    "$$\n",
    "F(x) = \\int_0^x f(t) dt\n",
    "$$\n",
    "\n",
    "$$\n",
    "F(x) = \\int_0^x \\lambda e^{-\\lambda t} dt\n",
    "$$\n",
    "\n",
    "$$\n",
    "F(x) = -\\int_0^x -\\lambda e^{-\\lambda t} dt\n",
    "$$\n",
    "\n",
    "$$\n",
    "F(x) = -\\left[ e^{-\\lambda t} \\right]_0^x\n",
    "$$ \n",
    "\n",
    "$$\n",
    "F(x) = \\left[ e^{-\\lambda t} \\right]_x^0\n",
    "$$\n",
    "\n",
    "$$\n",
    "F(x) = e^{-\\lambda (0)} - e^{-\\lambda x}\n",
    "$$\n",
    "\n",
    "$$\n",
    "F(x) = 1 - e^{-\\lambda x}\n",
    "$$"
   ]
  },
  {
   "cell_type": "markdown",
   "metadata": {},
   "source": [
    "$$\n",
    "S(x) = 1 - F(x)\n",
    "$$\n",
    "\n",
    "$$\n",
    "S(x) = 1 - (1 - e^{-\\lambda x})\n",
    "$$\n",
    "\n",
    "$$\n",
    "S(x) = e^{-\\lambda x}\n",
    "$$"
   ]
  },
  {
   "cell_type": "markdown",
   "metadata": {},
   "source": [
    "$$\n",
    "h(t) = {f(t) \\over S(t)}\n",
    "$$\n",
    "\n",
    "$$\n",
    "h(t) = {\n",
    "    \\lambda e^{-\\lambda t}\n",
    "    \\over\n",
    "    e^{-\\lambda t}\n",
    "}\n",
    "$$\n",
    "\n",
    "$$\n",
    "h(t) = \\lambda\n",
    "$$"
   ]
  },
  {
   "cell_type": "markdown",
   "metadata": {},
   "source": [
    "$$\n",
    "H(t) = -\\ln(S(t))\n",
    "$$\n",
    "\n",
    "$$\n",
    "H(t) = -\\ln(e^{-\\lambda t})\n",
    "$$\n",
    "\n",
    "$$\n",
    "H(t) = -(-\\lambda t)\n",
    "$$\n",
    "\n",
    "$$\n",
    "H(t) = \\lambda t\n",
    "$$"
   ]
  },
  {
   "cell_type": "markdown",
   "metadata": {},
   "source": []
  }
 ],
 "metadata": {
  "language_info": {
   "name": "python"
  }
 },
 "nbformat": 4,
 "nbformat_minor": 2
}
